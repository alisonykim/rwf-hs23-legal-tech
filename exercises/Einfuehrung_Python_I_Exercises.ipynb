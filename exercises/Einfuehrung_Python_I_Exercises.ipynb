{
 "cells": [
  {
   "cell_type": "markdown",
   "metadata": {},
   "source": [
    "# **Legal Tech**\n",
    "### *Einführung in Python I: ```Hello world!```*\n",
    "#### Übungen\n",
    "##### Yoan Hermstrüwer\n",
    "##### Herbstsemester 2023\n",
    "\n",
    "**Themen**: ```hello world```, Syntax, Operatoren, Variablen, Datentypen, ```for```, ```while```, ```if-elif-else```"
   ]
  },
  {
   "cell_type": "markdown",
   "metadata": {},
   "source": [
    "### Allgemeines\n",
    "\n",
    "* Für jede Aufgabe ist ```#TODO``` durch deine Lösung zu ersetzen.\n",
    "* Hier sind Ordnungszahlen (z.B. \"erstes\") wie in natürlicher Sprache, und nicht pythonisch, zu verstehen. Z.B. in der Liste $ [2, 4, 6] $ ist $ 4 $ der **zweite** Eintrag.<br>*Es ist jedoch wichtig daran zu erinnern, wie die Indexierung in Python funktioniert!*\n",
    "* Bei Fragen kannst du dich gerne an Alison Kim ([alison.kim@ius.uzh.ch](mailto:alison.kim@ius.uzh.ch)) wenden."
   ]
  },
  {
   "cell_type": "markdown",
   "metadata": {},
   "source": [
    "### 1 Python Basics\n",
    "#### 1.1 Identifiziere den Fehler\n",
    "\n",
    "Gegeben seien Codezeilen, die je einen Fehler enthalten. Identifiziere und erkläre ihn, *ohne die Zelle auszuführen*."
   ]
  },
  {
   "cell_type": "code",
   "execution_count": null,
   "metadata": {},
   "outputs": [],
   "source": [
    "\tprint('I love Legal Tech!')"
   ]
  },
  {
   "cell_type": "code",
   "execution_count": null,
   "metadata": {},
   "outputs": [],
   "source": [
    "print(Legal Tech)"
   ]
  },
  {
   "cell_type": "code",
   "execution_count": null,
   "metadata": {},
   "outputs": [],
   "source": [
    "my_list = [1, 2, 3, 4]\n",
    "my_list.append(5, 6, 7, 8)"
   ]
  },
  {
   "cell_type": "code",
   "execution_count": null,
   "metadata": {},
   "outputs": [],
   "source": [
    "for i in range(0, 101, 5):\n",
    "a = 2 * i\n",
    "print(a)"
   ]
  },
  {
   "cell_type": "code",
   "execution_count": null,
   "metadata": {},
   "outputs": [],
   "source": [
    "# Du möchtest die Werte vergleichen\n",
    "4 = 3"
   ]
  },
  {
   "cell_type": "markdown",
   "metadata": {},
   "source": [
    "#### 1.2 ```True``` oder ```False```\n",
    "\n",
    "Bestimme, ob die folgenden Aussagen zu ```True``` oder zu ```False``` evaluieren, ohne sie in einem Interpreter auszuführen.\n",
    "1. ```15 / 3 == 5```\n",
    "2. ```15 // 3 == 5```\n",
    "3. ```(1 == 1) and (4 ** 2 == 16.0)```\n",
    "4. ```(1 != 1) or (4 ** 2 != 16.0)```\n",
    "5. ```(1 == 1) or (4 ** 2 != 16.0)```\n",
    "6. ```[0, 1, 2, 3] == [`0', `1', `2', `3']```\n",
    "7. ```[0, 1, 2, 3] != [0, 1.0, 2, 3]```\n",
    "8. ```range(0, 4, 1) == [0, 1, 2, 3, 4]```\n",
    "9. Gegeben die Liste ```my_list = [`'legal', 'tech', 'rocks']```:\n",
    "\t* ```my_list[1] == 'legal'```\n",
    "\t* ```my_list[-1] == 'rocks'```\n",
    "\t* ```my_list[-1] == 'rocks'```"
   ]
  },
  {
   "cell_type": "markdown",
   "metadata": {},
   "source": [
    "### 2 Listen: Erstellung und Manipulierung von Listen\n",
    "Der aktuelle Oberste Gerichtshof der USA (SCOTUS) besteht aus neun Richterinnen und Richtern.\n",
    "\n",
    "1. Erstellen Sie eine Liste aus den Namen der jetzigen Richterinnen und Richter. Ordnen Sie der Liste die Variable ```scotus``` zu.<br><br>**Hinweis:** Überlegen Sie sich, welcher Datentyp dazu am besten passt."
   ]
  },
  {
   "cell_type": "code",
   "execution_count": 68,
   "metadata": {},
   "outputs": [],
   "source": [
    "#TODO"
   ]
  },
  {
   "cell_type": "markdown",
   "metadata": {},
   "source": [
    "2. Sortieren Sie ```scotus``` aufsteigend (d.h., alphabetisch von A bis Z)."
   ]
  },
  {
   "cell_type": "code",
   "execution_count": null,
   "metadata": {},
   "outputs": [],
   "source": [
    "#TODO"
   ]
  },
  {
   "cell_type": "markdown",
   "metadata": {},
   "source": [
    "3. Löschen Sie den dritten Eintrag und geben Sie seinen Wert zurück."
   ]
  },
  {
   "cell_type": "code",
   "execution_count": null,
   "metadata": {},
   "outputs": [],
   "source": [
    "#TODO"
   ]
  },
  {
   "cell_type": "markdown",
   "metadata": {},
   "source": [
    "4. Fügen Sie *Earl Warren* zum Ende der Liste hinzu."
   ]
  },
  {
   "cell_type": "code",
   "execution_count": null,
   "metadata": {},
   "outputs": [],
   "source": [
    "#TODO"
   ]
  },
  {
   "cell_type": "markdown",
   "metadata": {},
   "source": [
    "5. Liefern Sie den Index vom Eintrag *Elena Sotomayor*."
   ]
  },
  {
   "cell_type": "code",
   "execution_count": null,
   "metadata": {},
   "outputs": [],
   "source": [
    "#TODO"
   ]
  },
  {
   "cell_type": "markdown",
   "metadata": {},
   "source": [
    "6. Gegeben sei eine zweite Liste aus den Namen der vollamtlichen Verwaltungsrichterinnen und Verwaltungsrichter des Kantons Zürich, ```verwaltungskommission_zh```. Erstellen Sie eine dritte Liste, ```judges```, welche die Einträge der bereits vorhandenen Listen enthält."
   ]
  },
  {
   "cell_type": "code",
   "execution_count": null,
   "metadata": {},
   "outputs": [],
   "source": [
    "verwaltungskommission_zh = [\n",
    "\t'tamara nuessle',\n",
    "\t'andre moser',\n",
    "\t'andreas frei',\n",
    "\t'sandra wintsch',\n",
    "\t'daniel schweikert',\n",
    "\t'lucia eigensatz'\n",
    "]\n",
    "\n",
    "#TODO"
   ]
  },
  {
   "cell_type": "markdown",
   "metadata": {},
   "source": [
    "7. Sortieren Sie die Liste ```judges``` absteigend (d.h., von Z bis A)."
   ]
  },
  {
   "cell_type": "code",
   "execution_count": null,
   "metadata": {},
   "outputs": [],
   "source": [
    "#TODO"
   ]
  },
  {
   "cell_type": "markdown",
   "metadata": {},
   "source": [
    "8. Löschen Sie den allerletzten Eintrag durch seinen Wert (d.h., ohne Rückgabe)."
   ]
  },
  {
   "cell_type": "code",
   "execution_count": null,
   "metadata": {},
   "outputs": [],
   "source": [
    "#TODO"
   ]
  },
  {
   "cell_type": "markdown",
   "metadata": {},
   "source": [
    "9. Liefern Sie den Wert des siebten Eintrags."
   ]
  },
  {
   "cell_type": "code",
   "execution_count": null,
   "metadata": {},
   "outputs": [],
   "source": [
    "#TODO"
   ]
  },
  {
   "cell_type": "markdown",
   "metadata": {},
   "source": [
    "10. Löschen Sie alle Einträge der dritten Liste."
   ]
  },
  {
   "cell_type": "code",
   "execution_count": null,
   "metadata": {},
   "outputs": [],
   "source": [
    "#TODO"
   ]
  },
  {
   "cell_type": "markdown",
   "metadata": {},
   "source": [
    "### 3 Loops, Statements\n",
    "\n",
    "#### 3.1 ```for```-loop\n",
    "\n",
    "Gegeben sei dieselbe Liste ```verwaltungskommission_zh``` wie von der 2. Übung. Erstelle eine ```for```-Loop, die alle eingelesenen Namen in Grossschreibung umwandelt und diese auf dem Bildschirm ausgibt. Dein Programm sollte beispielsweise den Namen ```yoan hermstruewer``` einlesen und ```YOAN HERMSTRUEWER``` ausgeben.\n",
    "\n",
    "**Hinweis**: Hier kannst du die String-Methode ```.upper()``` in Anspruch nehmen. Unten ein Beispiel von ihrer Anwendung:\n",
    "```\n",
    ">>> 'yoan hermstruewer'.upper()\n",
    "YOAN HERMSTRUEWER\n",
    "```\n",
    "\n",
    "Mehr über diese Methode kannst du hier erfahren: <a href=\"https://www.python-lernen.de/string-methode-upper.htm\" target=\"_target\">https://www.python-lernen.de/string-methode-upper.htm</a>."
   ]
  },
  {
   "cell_type": "code",
   "execution_count": null,
   "metadata": {},
   "outputs": [],
   "source": [
    "verwaltungskommission_zh = [\n",
    "\t'tamara nuessle',\n",
    "\t'andre moser',\n",
    "\t'andreas frei',\n",
    "\t'sandra wintsch',\n",
    "\t'daniel schweikert',\n",
    "\t'lucia eigensatz'\n",
    "]\n",
    "\n",
    "#TODO"
   ]
  },
  {
   "cell_type": "markdown",
   "metadata": {},
   "source": [
    "#### 3.2 ```if```,  ```elif```, ```else```\n",
    "\n",
    "Die deutsche Sprache hat insgesamt drei Genera\\*: männlich, weiblich und sächlich.\n",
    "\n",
    "Schreiben Sie einen Codeblock, der das Genus eines beliebigen Nomens, anhand von dessen Endung, liefert. Benutzen Sie folgende (einfache) Regeln:\n",
    "* *Männlich*: Endung $ \\in $ \\{*-smus*, *-ner*, *-ich*, *-ist*\\}\n",
    "* *Weiblich*: Endung $ \\in $ \\{*-heit*, *-keit*, *-schaft*, *-ung*\\}\n",
    "* *Sächlich*: Endung $ \\in $ \\{*-chen*, *-tum*, *-lein*, *-ium*\\}\n",
    "* *Unbestimmt* : übrige Endungen\n",
    "\n",
    "**Hinweis:** Hier kannst du die String-Methode ```.endswith()``` in Anspruch nehmen. Unten ein Beispiel von ihrer Anwendung:\n",
    "```\n",
    ">>> satz = 'Yoan Hermstruewer ist ein toller Dozent'\n",
    ">>> satz.endswith('ung')\n",
    "False\n",
    "```\n",
    "\n",
    "Mehr über ihre Anwendung können Sie hier erfahren: <a href=\"https://www.python-lernen.de/methode-string-endswith.htm\" target=\"_blank\">https://www.python-lernen.de/methode-string-endswith.htm</a>.<br>\n",
    "\n",
    "\\*Plural von *Genus*"
   ]
  },
  {
   "cell_type": "code",
   "execution_count": null,
   "metadata": {},
   "outputs": [],
   "source": [
    "#TODO"
   ]
  }
 ],
 "metadata": {
  "kernelspec": {
   "display_name": "Python 3 (ipykernel)",
   "language": "python",
   "name": "python3"
  },
  "language_info": {
   "codemirror_mode": {
    "name": "ipython",
    "version": 3
   },
   "file_extension": ".py",
   "mimetype": "text/x-python",
   "name": "python",
   "nbconvert_exporter": "python",
   "pygments_lexer": "ipython3",
   "version": "3.11.6"
  }
 },
 "nbformat": 4,
 "nbformat_minor": 2
}
