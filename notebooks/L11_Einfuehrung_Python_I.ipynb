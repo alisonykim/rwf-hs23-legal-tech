{
 "cells": [
  {
   "cell_type": "markdown",
   "metadata": {},
   "source": [
    "# **Legal Tech**\n",
    "### *Einführung in Python I: ```Hello world!```*\n",
    "##### Yoan Hermstrüwer\n",
    "##### Herbstsemester 2023\n",
    "\n",
    "**Themen**: ```hello world```, Syntax, Kommentare, Variablen, Datentypen\n",
    "\n",
    "## ```print()```\n",
    "Mit der Funktion ```print()``` geben Sie eine bestimmte Nachricht auf dem Bildschirm aus. Der Inhalt steht innerhalb von den runden Klammern.\n",
    "\n",
    "Führen Sie die unten stehende Zelle aus."
   ]
  },
  {
   "cell_type": "code",
   "execution_count": 29,
   "metadata": {},
   "outputs": [
    {
     "name": "stdout",
     "output_type": "stream",
     "text": [
      "Hello world!\n"
     ]
    }
   ],
   "source": [
    "print('Hello world!')"
   ]
  },
  {
   "cell_type": "markdown",
   "metadata": {},
   "source": [
    "## Syntax\n",
    "\n",
    "### Einrückung (EN: indentation)\n",
    "Die Einrückung in Python strukturiert einen Skript in Funktionsblöcke. Bei falschen und/oder fehlenden Einrückungen wird eine Fehlermeldung ausgegeben."
   ]
  },
  {
   "cell_type": "code",
   "execution_count": 30,
   "metadata": {},
   "outputs": [
    {
     "ename": "IndentationError",
     "evalue": "expected an indented block after 'if' statement on line 2 (976051798.py, line 3)",
     "output_type": "error",
     "traceback": [
      "\u001b[0;36m  Cell \u001b[0;32mIn [30], line 3\u001b[0;36m\u001b[0m\n\u001b[0;31m    print('1 gleich 1')\u001b[0m\n\u001b[0m    ^\u001b[0m\n\u001b[0;31mIndentationError\u001b[0m\u001b[0;31m:\u001b[0m expected an indented block after 'if' statement on line 2\n"
     ]
    }
   ],
   "source": [
    "# Falsche Einrückung\n",
    "if 1 == 1:\n",
    "print('1 gleich 1')"
   ]
  },
  {
   "cell_type": "code",
   "execution_count": 31,
   "metadata": {},
   "outputs": [
    {
     "name": "stdout",
     "output_type": "stream",
     "text": [
      "1 gleich 1\n"
     ]
    }
   ],
   "source": [
    "# Korrekte Einrückung\n",
    "if 1 == 1:\n",
    "    print('1 gleich 1')"
   ]
  },
  {
   "cell_type": "markdown",
   "metadata": {},
   "source": [
    "### Kommentare\n",
    "Kommentare in Python haben mehrere Zwecke. Dazu gehören u.a.\n",
    "* Dokumentation, z.B. um dem/r Leser/in den Zweck oder das Ziel einer Codezeile zu erklären\n",
    "* Lesbarkeit des Codes\n",
    "\n",
    "Einfache bzw. einzeilige Kommentare beginnen mit einem \\#-Symbol. Sie werden *nicht* vom Python-Interpreter ausgeführt.\n",
    "\n",
    "Mehr über Kommentare können Sie auf dieser Webseite erfahren: <a href=\"https://www.python-lernen.de/kommentare.htm\" target=\"_blank\">https://www.python-lernen.de/kommentare.htm</a>."
   ]
  },
  {
   "cell_type": "code",
   "execution_count": 2,
   "metadata": {},
   "outputs": [
    {
     "name": "stdout",
     "output_type": "stream",
     "text": [
      "I love Legal Tech!\n",
      "I love Legal Tech!\n",
      "I love Legal Tech!\n",
      "I love Legal Tech!\n"
     ]
    }
   ],
   "source": [
    "kurs = 'Legal Tech' # Variable definieren\n",
    "\n",
    "for i in range(0, 4): # Für jede Zahl in der Reihe 0 (inklusiv) bis 4 (exklusiv), d.h. [0, 1, 2, 3]\n",
    "\tprint(f'I love {kurs}!') # 'I love Legal Tech' ausgeben (wird insgesamt 4-mal ausgegeben)"
   ]
  },
  {
   "cell_type": "markdown",
   "metadata": {},
   "source": [
    "## Operatoren\n",
    "\n",
    "Operatoren ermöglichen Berechnungen an Variablen und Werten. Folgende sind einige der wichtigsten Operatoren.\n",
    "\n",
    "### Arithmetische Operatoren\n",
    "\n",
    "Addition"
   ]
  },
  {
   "cell_type": "code",
   "execution_count": 7,
   "metadata": {},
   "outputs": [
    {
     "data": {
      "text/plain": [
       "12"
      ]
     },
     "execution_count": 7,
     "metadata": {},
     "output_type": "execute_result"
    }
   ],
   "source": [
    "8 + 4 # Ergebnis: 12"
   ]
  },
  {
   "cell_type": "markdown",
   "metadata": {},
   "source": [
    "Subtraktion"
   ]
  },
  {
   "cell_type": "code",
   "execution_count": 8,
   "metadata": {
    "scrolled": true
   },
   "outputs": [
    {
     "data": {
      "text/plain": [
       "7"
      ]
     },
     "execution_count": 8,
     "metadata": {},
     "output_type": "execute_result"
    }
   ],
   "source": [
    "9 - 2 # Ergebnis: 7"
   ]
  },
  {
   "cell_type": "markdown",
   "metadata": {},
   "source": [
    "Multiplikation"
   ]
  },
  {
   "cell_type": "code",
   "execution_count": 9,
   "metadata": {},
   "outputs": [
    {
     "data": {
      "text/plain": [
       "16"
      ]
     },
     "execution_count": 9,
     "metadata": {},
     "output_type": "execute_result"
    }
   ],
   "source": [
    "4 * 4 # Ergebnis: 16"
   ]
  },
  {
   "cell_type": "markdown",
   "metadata": {},
   "source": [
    "Division"
   ]
  },
  {
   "cell_type": "code",
   "execution_count": 10,
   "metadata": {
    "scrolled": true
   },
   "outputs": [
    {
     "data": {
      "text/plain": [
       "5.0"
      ]
     },
     "execution_count": 10,
     "metadata": {},
     "output_type": "execute_result"
    }
   ],
   "source": [
    "15 / 3 # Ergebnis: 5.0"
   ]
  },
  {
   "cell_type": "markdown",
   "metadata": {},
   "source": [
    "Ganzzahldivision (Division ohne Rest)"
   ]
  },
  {
   "cell_type": "code",
   "execution_count": 18,
   "metadata": {},
   "outputs": [
    {
     "data": {
      "text/plain": [
       "5"
      ]
     },
     "execution_count": 18,
     "metadata": {},
     "output_type": "execute_result"
    }
   ],
   "source": [
    "16 // 3 # Ergebnis: 5"
   ]
  },
  {
   "cell_type": "markdown",
   "metadata": {},
   "source": [
    "Modulo-Division (liefert den Rest einer Division)"
   ]
  },
  {
   "cell_type": "code",
   "execution_count": 19,
   "metadata": {},
   "outputs": [
    {
     "data": {
      "text/plain": [
       "1"
      ]
     },
     "execution_count": 19,
     "metadata": {},
     "output_type": "execute_result"
    }
   ],
   "source": [
    "16 % 3 # Ergebnis: 1"
   ]
  },
  {
   "cell_type": "markdown",
   "metadata": {},
   "source": [
    "Exponentiation"
   ]
  },
  {
   "cell_type": "code",
   "execution_count": 20,
   "metadata": {
    "scrolled": true
   },
   "outputs": [
    {
     "data": {
      "text/plain": [
       "81"
      ]
     },
     "execution_count": 20,
     "metadata": {},
     "output_type": "execute_result"
    }
   ],
   "source": [
    "3 ** 4 # Ergebnis: 81"
   ]
  },
  {
   "cell_type": "markdown",
   "metadata": {},
   "source": [
    "### Vergleichsoperatoren\n",
    "\n",
    "Vergleichsoperatoren vergleichen zwei Werte."
   ]
  },
  {
   "cell_type": "code",
   "execution_count": 14,
   "metadata": {
    "scrolled": true
   },
   "outputs": [
    {
     "data": {
      "text/plain": [
       "True"
      ]
     },
     "execution_count": 14,
     "metadata": {},
     "output_type": "execute_result"
    }
   ],
   "source": [
    "3 == 3 # ob zwei Werte gleich sind"
   ]
  },
  {
   "cell_type": "code",
   "execution_count": 15,
   "metadata": {},
   "outputs": [
    {
     "data": {
      "text/plain": [
       "False"
      ]
     },
     "execution_count": 15,
     "metadata": {},
     "output_type": "execute_result"
    }
   ],
   "source": [
    "5 != 5 # ob zwei Werte ungleich sind"
   ]
  },
  {
   "cell_type": "code",
   "execution_count": 16,
   "metadata": {},
   "outputs": [
    {
     "data": {
      "text/plain": [
       "False"
      ]
     },
     "execution_count": 16,
     "metadata": {},
     "output_type": "execute_result"
    }
   ],
   "source": [
    "5 < 4 # ob 5 kleiner als 4 ist (auch möglich sind >, <=, >=)"
   ]
  },
  {
   "cell_type": "markdown",
   "metadata": {},
   "source": [
    "### Zuweisungsoperatoren\n",
    "\n",
    "Zuweisungsoperatoren weisen Variablen Werte zu."
   ]
  },
  {
   "cell_type": "code",
   "execution_count": 17,
   "metadata": {},
   "outputs": [
    {
     "name": "stdout",
     "output_type": "stream",
     "text": [
      "Hello world!\n"
     ]
    }
   ],
   "source": [
    "print('Hello world!') # Wendet die print-Funktion auf einen String an"
   ]
  },
  {
   "cell_type": "code",
   "execution_count": 6,
   "metadata": {},
   "outputs": [
    {
     "name": "stdout",
     "output_type": "stream",
     "text": [
      "Hello world!\n"
     ]
    }
   ],
   "source": [
    "a = 'Hello world!' # Weist der Variable a den Wert 'Hello world'! zu\n",
    "print(a) # Dadurch kann eine Funktion auf die Variable angewendet werden, anstatt dass der Wert jedes Mal ausdrücklich übergeben werden muss"
   ]
  },
  {
   "cell_type": "markdown",
   "metadata": {},
   "source": [
    "Sie können auch zur Inkrementierung bzw. Dekrementierung verwendet werden, dadurch, dass ein arithmetischer Operator durch ```=``` ergänzt wird."
   ]
  },
  {
   "cell_type": "code",
   "execution_count": 22,
   "metadata": {},
   "outputs": [
    {
     "data": {
      "text/plain": [
       "2"
      ]
     },
     "execution_count": 22,
     "metadata": {},
     "output_type": "execute_result"
    }
   ],
   "source": [
    "a = 1 # 1\n",
    "a += 1 # 1 + 1\n",
    "a # Ergebnis: 2"
   ]
  },
  {
   "cell_type": "markdown",
   "metadata": {},
   "source": [
    "### Logische Operatoren\n",
    "\n",
    "Zu den logischen Operatoren gehören ```and``` und ```or```."
   ]
  },
  {
   "cell_type": "code",
   "execution_count": 23,
   "metadata": {},
   "outputs": [
    {
     "data": {
      "text/plain": [
       "True"
      ]
     },
     "execution_count": 23,
     "metadata": {},
     "output_type": "execute_result"
    }
   ],
   "source": [
    "(5 == 5) and (4 == 4) # Vergleicht an einem Stück zwei Aussagen\n",
    "\t\t\t\t\t  # \"True\" wird zurückgeliefert, nur wenn beide Aussagen stimmen\n",
    "\t\t\t\t\t  # Ergebnis: True, weil 5 = 5 und 4 = 4"
   ]
  },
  {
   "cell_type": "code",
   "execution_count": 24,
   "metadata": {},
   "outputs": [
    {
     "data": {
      "text/plain": [
       "True"
      ]
     },
     "execution_count": 24,
     "metadata": {},
     "output_type": "execute_result"
    }
   ],
   "source": [
    "(4 != 3) or (6 == 6) # Vergleicht an einem Stück zwei Aussagen, wie bei 'and'\n",
    "\t\t\t\t\t # \"True\" wird zurückgeliefert, wenn mindestens eine der beiden Aussagen stimmt\n",
    "\t\t\t\t\t # Ergebnis: True, weil 6 = 6"
   ]
  },
  {
   "cell_type": "markdown",
   "metadata": {},
   "source": [
    "## Datentypen\n",
    "\n",
    "Es sind folgende Datentypen in Python (*relevante Datentype für diesen Kurs in fetter Schrift*):\n",
    "* **Numeric** (DE: numerisch)\n",
    "    * ```int```, z.B. ```5```\n",
    "    * ```float```, z.B. ```3.14159```, ```5.0```\n",
    "    * ```complex``` *\\[für diesen Kurs nicht relevant bzw. wird nicht verwendet\\]*\n",
    "* **String** (DE: Zeichenkette)\n",
    "    * ```str```, z.B. ```'Legal Tech ist mein Lieblingsfach!'```\n",
    "* **Boolean** (DE: boolesch)\n",
    "    * ```True```, ```False```\n",
    "* **Sequence** (DE: Sequenz)\n",
    "    * Arten\n",
    "        * ```list``` (DE: Liste)\n",
    "        * ```tuple``` (DE: Tupel) *\\[für diesen Kurs nicht relevant bzw. wird nicht verwendet\\]*\n",
    "        * ```range``` (DE: Reihe)\n",
    "    * Eigenschaften\n",
    "        * Besteht aus Einträge oder *Elemente* (EN: element) beliebiges Datentyps\n",
    "        * Kann Elemente gemischter Datentype enthalten\n",
    "    * Indices\n",
    "        * Indices werden verwendet, um ein beliebiges Element (oder mehrere Elemente) einer Liste oder eines Tupels aufzurufen.\n",
    "        * Indexing (DE: Indexieren) in Python beginnt mit 0. Das heisst, das erste Element einer Sequenz hat den Index 0.\n",
    "        * Pro-Tip: Indexing kann mit negativen Zahlen ausgeführt werden! Das allerletzte Element hat den Index -1, das Zweitletzte den Index -2 usw.\n",
    "* Set (DE: Menge)\n",
    "* Dictionary (a.k.a. hash, DE: Dictionary)\n",
    "\n",
    "#### Überprüfung des Datentyps\n",
    "Der Datentyp eines Objekts $ x $ kann mit der Funktion ```type()``` überprüft werden."
   ]
  },
  {
   "cell_type": "code",
   "execution_count": 25,
   "metadata": {},
   "outputs": [
    {
     "data": {
      "text/plain": [
       "int"
      ]
     },
     "execution_count": 25,
     "metadata": {},
     "output_type": "execute_result"
    }
   ],
   "source": [
    "type(5) # Ergebnis: int"
   ]
  },
  {
   "cell_type": "markdown",
   "metadata": {},
   "source": [
    "### Listen\n",
    "* **Bezeichnung:** eckige Klammern ```[]```\n",
    "* **Eigenschaften**\n",
    "    * Geordnet: *Ein Element ist mit einer bestimmten Position in der Sequenz asoziiert. Elemente werden in der gleichen Reihenfolge gespeichert wie sie hinzugefügt wurden.*\n",
    "    * Indizierbar: *Elemente können mit ihren entsprechenden Indexen aufgerufen werden.*\n",
    "    * Wandelbar: *Listen können nach der Erstellung noch verändert werden.*\n",
    "    * Verschachtelbar: *Listen können Unterlisten enthalten (z.B. ```[[1, 2, 3], [2, 4, 6]]```).*"
   ]
  },
  {
   "cell_type": "code",
   "execution_count": null,
   "metadata": {},
   "outputs": [],
   "source": [
    "# Geordnet\n",
    "a = [0, 1, 2, 3]\n",
    "b = [1, 0, 2, 3]\n",
    "a == b"
   ]
  },
  {
   "cell_type": "markdown",
   "metadata": {},
   "source": [
    "* Methoden zur Manipulierung von Listen\n",
    "    * ```my_list.append()```: einen Eintrag am Ende der Liste hinzufügen\n",
    "        * Argument: Wert beliebiges Eintrags\n",
    "        * Beispiel: ```my_list.append('John G. Roberts')``` (wo ```my_list``` eine bereits erstellte Liste ist)\n",
    "    * ```my_list.clear()```: alle Einträge löschen\n",
    "        * Argument: keines\n",
    "        * Beispiel: ```my_list.clear()```\n",
    "    * ```my_list.extend()```: alle Einträge einer *anderen* Liste hinzufügen\n",
    "        * Argument: eine zweite Liste\n",
    "        * Beispiel: ```my_list.extend(my_list2)``` (wo ```my_list2``` eine andere bereits erstellte Liste ist)\n",
    "    * ```my_list.index()```: nach bestimmten Element suchen und dessen Index zurückliefern\n",
    "        * Argument: Wert beliebiges Eintrags\n",
    "        * Beispiel: ```my_list.index('Elena Sotomayor')```\n",
    "            * Der beliebige Eintrag muss vorhanden sein! Ansonsten wird eine Fehlermeldung zurückgegeben.\n",
    "        * Sollte es mehrere Instanzen eines Elements geben, wird der Index der *ersten* Instanz zurückgeliefert.\n",
    "    * ```my_list.insert()```: einen Eintrag am vorgegebenen Index einfügen (folgende Einträge werden dann nach hinten verschoben)\n",
    "    * ```my_list.pop()```: den Eintrag am vorgegebenen Index löschen und dessen Inhalt als Rückgabe liefern\n",
    "    * ```my_list.remove()```: den Eintrag aus der Liste löschen\n",
    "        * Hier wird der *Wert*, nicht der Index, übergeben.\n",
    "    * ```my_list.sort()```: Liste in gewünschter Form sortieren\n",
    "* Weitere Funktionen auf Listen\n",
    "    * ```len(my_list)```: liefert die Anzahl an Elementen der Liste\n",
    "    * ```max(my_list)``` bzw. ```min(my_list)```: liefert das Element mit dem höchsten bzw. tiefsten Wert\n",
    "* Mehr zu Listen können Sie auf dieser Webseite erfahren: <a href=\"https://www.data-science-architect.de/listen-python/\" target=\"_blank\">https://www.data-science-architect.de/listen-python/</a>\n",
    "\n",
    "####"
   ]
  },
  {
   "cell_type": "code",
   "execution_count": 12,
   "metadata": {},
   "outputs": [
    {
     "data": {
      "text/plain": [
       "['yoan hermstruewer', 'tilmann altwicker']"
      ]
     },
     "execution_count": 12,
     "metadata": {},
     "output_type": "execute_result"
    }
   ],
   "source": [
    "profs_rwf = ['yoan hermstruewer'] # Liste erstellen und ihr eine Variable zuordnen\n",
    "profs_rwf.append('tilmann altwicker') # Als Argument wird der Wert EINES neuen Eintrages übergeben\n",
    "profs_rwf"
   ]
  },
  {
   "cell_type": "code",
   "execution_count": 17,
   "metadata": {},
   "outputs": [
    {
     "data": {
      "text/plain": [
       "[]"
      ]
     },
     "execution_count": 17,
     "metadata": {},
     "output_type": "execute_result"
    }
   ],
   "source": [
    "profs_rwf.clear() # Achtung: Bei dieser Methode wird kein Argument übergeben\n",
    "profs_rwf"
   ]
  },
  {
   "cell_type": "code",
   "execution_count": 14,
   "metadata": {},
   "outputs": [
    {
     "data": {
      "text/plain": [
       "['yoan hermstruewer',\n",
       " 'tilmann altwicker',\n",
       " 'martin volk',\n",
       " 'rico sennrich',\n",
       " 'rico sennrich']"
      ]
     },
     "execution_count": 14,
     "metadata": {},
     "output_type": "execute_result"
    }
   ],
   "source": [
    "profs_rwf = ['yoan hermstruewer', 'tilmann altwicker'] # Liste erneut erstellen\n",
    "profs_cl = ['martin volk', 'rico sennrich', 'rico sennrich']\n",
    "profs_rwf.extend(profs_cl)\n",
    "profs_rwf"
   ]
  },
  {
   "cell_type": "code",
   "execution_count": 15,
   "metadata": {
    "scrolled": true
   },
   "outputs": [
    {
     "data": {
      "text/plain": [
       "3"
      ]
     },
     "execution_count": 15,
     "metadata": {},
     "output_type": "execute_result"
    }
   ],
   "source": [
    "profs_rwf.index('rico sennrich') # Liefert den Index der ersten Instanz von 'rico sennrich'"
   ]
  },
  {
   "cell_type": "code",
   "execution_count": 55,
   "metadata": {
    "scrolled": true
   },
   "outputs": [
    {
     "data": {
      "text/plain": [
       "['yoan hermstruewer',\n",
       " 'madeleine simonek',\n",
       " 'tilmann altwicker',\n",
       " 'martin volk',\n",
       " 'rico sennrich',\n",
       " 'rico sennrich']"
      ]
     },
     "execution_count": 55,
     "metadata": {},
     "output_type": "execute_result"
    }
   ],
   "source": [
    "profs_rwf.insert(1, 'madeleine simonek') # Fügt an der 1. Position 'madeleine simonek' ein\n",
    "profs_rwf"
   ]
  },
  {
   "cell_type": "code",
   "execution_count": 56,
   "metadata": {},
   "outputs": [
    {
     "data": {
      "text/plain": [
       "['yoan hermstruewer',\n",
       " 'madeleine simonek',\n",
       " 'tilmann altwicker',\n",
       " 'martin volk',\n",
       " 'rico sennrich']"
      ]
     },
     "execution_count": 56,
     "metadata": {},
     "output_type": "execute_result"
    }
   ],
   "source": [
    "profs_rwf.pop(-1)\n",
    "profs_rwf"
   ]
  },
  {
   "cell_type": "code",
   "execution_count": 16,
   "metadata": {
    "scrolled": true
   },
   "outputs": [
    {
     "data": {
      "text/plain": [
       "['yoan hermstruewer', 'tilmann altwicker', 'rico sennrich']"
      ]
     },
     "execution_count": 16,
     "metadata": {},
     "output_type": "execute_result"
    }
   ],
   "source": [
    "profs_rwf.remove('martin volk')\n",
    "profs_rwf.remove('rico sennrich') # Nur ein Wert kann am Stück übergeben werden\n",
    "profs_rwf"
   ]
  },
  {
   "cell_type": "code",
   "execution_count": 58,
   "metadata": {
    "scrolled": true
   },
   "outputs": [
    {
     "data": {
      "text/plain": [
       "['madeleine simonek', 'tilmann altwicker', 'yoan hermstruewer']"
      ]
     },
     "execution_count": 58,
     "metadata": {},
     "output_type": "execute_result"
    }
   ],
   "source": [
    "profs_rwf.sort() # Wird standardmässig aufsteigend sortiert\n",
    "profs_rwf"
   ]
  },
  {
   "cell_type": "code",
   "execution_count": 59,
   "metadata": {},
   "outputs": [
    {
     "data": {
      "text/plain": [
       "['yoan hermstruewer', 'tilmann altwicker', 'madeleine simonek']"
      ]
     },
     "execution_count": 59,
     "metadata": {},
     "output_type": "execute_result"
    }
   ],
   "source": [
    "profs_rwf.sort(reverse=True) # kann auch absteigend sortiert werden\n",
    "profs_rwf"
   ]
  },
  {
   "cell_type": "code",
   "execution_count": 60,
   "metadata": {},
   "outputs": [
    {
     "data": {
      "text/plain": [
       "'yoan hermstruewer'"
      ]
     },
     "execution_count": 60,
     "metadata": {},
     "output_type": "execute_result"
    }
   ],
   "source": [
    "profs_rwf[0]"
   ]
  },
  {
   "cell_type": "code",
   "execution_count": 61,
   "metadata": {
    "scrolled": true
   },
   "outputs": [
    {
     "data": {
      "text/plain": [
       "'madeleine simonek'"
      ]
     },
     "execution_count": 61,
     "metadata": {},
     "output_type": "execute_result"
    }
   ],
   "source": [
    "profs_rwf[-1]"
   ]
  },
  {
   "cell_type": "code",
   "execution_count": 62,
   "metadata": {},
   "outputs": [
    {
     "ename": "IndexError",
     "evalue": "list index out of range",
     "output_type": "error",
     "traceback": [
      "\u001b[0;31m---------------------------------------------------------------------------\u001b[0m",
      "\u001b[0;31mIndexError\u001b[0m                                Traceback (most recent call last)",
      "Cell \u001b[0;32mIn [62], line 1\u001b[0m\n\u001b[0;32m----> 1\u001b[0m profs_rwf[\u001b[38;5;241m3\u001b[39m]\n",
      "\u001b[0;31mIndexError\u001b[0m: list index out of range"
     ]
    }
   ],
   "source": [
    "profs_rwf[3] # führt zu einem Fehler — warum?"
   ]
  },
  {
   "cell_type": "markdown",
   "metadata": {},
   "source": [
    "##### ```range```\n",
    "* Syntax: ```range(Startwert, Endwert, Schrittweite)```\n",
    "* ```range``` in Python ist inklusiv am Startwert, aber exklusiv am Endwert\n",
    "    * Beispiel: ```range(1, 5, 1)``` entspricht der Reihe $ 1, 2, 3, 4 $\n",
    "* Wird oft mit der ```for```-Schleife verwendet\n",
    "* Achtung: Die Funktion ```range``` gibt an sich keine Sequenz zurück! Das mit ```range``` kreiiertem Objekt muss in eine Sequenz transformiert werden, z.B. durch die Funktion ```list```."
   ]
  },
  {
   "cell_type": "code",
   "execution_count": 6,
   "metadata": {},
   "outputs": [
    {
     "data": {
      "text/plain": [
       "range(3, 12, 3)"
      ]
     },
     "execution_count": 6,
     "metadata": {},
     "output_type": "execute_result"
    }
   ],
   "source": [
    "a = range(3, 12, 3)\n",
    "a # ein range-Objekt"
   ]
  },
  {
   "cell_type": "code",
   "execution_count": 5,
   "metadata": {},
   "outputs": [
    {
     "data": {
      "text/plain": [
       "[3, 6, 9]"
      ]
     },
     "execution_count": 5,
     "metadata": {},
     "output_type": "execute_result"
    }
   ],
   "source": [
    "a = list(a) # Die Reihe in eine Liste konvertieren\n",
    "a # eine Liste"
   ]
  },
  {
   "cell_type": "markdown",
   "metadata": {},
   "source": [
    "### ```for```-Loop (DE: ```for```-Schleife)\n",
    "\n",
    "Eine ```for```-Schleife wird verwendet, um über die Elemente einer Sequenz zu iterieren. Zu den **iterablen Objekten** in Python gehören u.a. Listen. Die Syntax sieht grundsätzlich so aus:\n",
    "```\n",
    "for ITEM in ITERABLE:\n",
    "    # DO SOMETHING\n",
    "```\n",
    "**Achtung:** Die Zeile(n) nach der ```for```-Anweisung muss eingerückt werden.\n",
    "\n",
    "Für jedes Element können Sie irgendetwas ausführen. Beispielsweise kann man mit der Funktion ```range()``` über eine Folge von Zahlen iterieren und den Wert manipulieren:"
   ]
  },
  {
   "cell_type": "code",
   "execution_count": 8,
   "metadata": {
    "scrolled": true
   },
   "outputs": [
    {
     "name": "stdout",
     "output_type": "stream",
     "text": [
      "0\n",
      "4\n",
      "8\n",
      "12\n",
      "16\n"
     ]
    }
   ],
   "source": [
    "for num in range(0, 10, 2): # für jede Zahl in der Reihe\n",
    "    print(num * 2) # Zahl verdoppeln und resultierenden Wert ausgeben"
   ]
  },
  {
   "cell_type": "markdown",
   "metadata": {},
   "source": [
    "Sie können neue Objekte erstellen."
   ]
  },
  {
   "cell_type": "code",
   "execution_count": 26,
   "metadata": {},
   "outputs": [
    {
     "data": {
      "text/plain": [
       "['yoan', 'tilmann']"
      ]
     },
     "execution_count": 26,
     "metadata": {},
     "output_type": "execute_result"
    }
   ],
   "source": [
    "profs_rwf = ['yoan hermstruewer', 'tilmann altwicker']\n",
    "profs_vornamen = [] # leere Liste initialisieren\n",
    "\n",
    "for prof in profs_rwf:\n",
    "    name_als_liste = prof.split() # String in eine Liste konvertieren\n",
    "    vorname = name_als_liste[0] # Erstes Element (Index 0) auswählen\n",
    "    profs_vornamen.append(vorname) # Vorname zur neuen Liste hinzufügen\n",
    "\n",
    "profs_vornamen"
   ]
  },
  {
   "cell_type": "markdown",
   "metadata": {},
   "source": [
    "### **Variables**\n",
    "\n",
    "#### What are variables, and how are they assigned?\n",
    "\n",
    "Variables in ```Python``` function in principle like the ones you worked with in high school algebra. For example, let us define $ x = 5 $. In algebra, the expression $ x - 2 $ yields 3. This works in Python as well.\n",
    "\n",
    "Running the following cell also yields 2."
   ]
  },
  {
   "cell_type": "code",
   "execution_count": 1,
   "metadata": {},
   "outputs": [
    {
     "data": {
      "text/plain": [
       "3"
      ]
     },
     "execution_count": 1,
     "metadata": {},
     "output_type": "execute_result"
    }
   ],
   "source": [
    "x = 5 # Assign the integer 5 to the variable x\n",
    "x - 2 # Should yield 3"
   ]
  },
  {
   "cell_type": "markdown",
   "metadata": {},
   "source": [
    "You can also assign the expression $ x - 2 $ to a variable (that is, if you've already defined $ x $)."
   ]
  },
  {
   "cell_type": "code",
   "execution_count": 2,
   "metadata": {},
   "outputs": [
    {
     "data": {
      "text/plain": [
       "3"
      ]
     },
     "execution_count": 2,
     "metadata": {},
     "output_type": "execute_result"
    }
   ],
   "source": [
    "y = x - 2 # Assign the expression x - 2 to the variable y\n",
    "y # Should yield 3"
   ]
  },
  {
   "cell_type": "markdown",
   "metadata": {},
   "source": [
    "**A small technicality:** Python variables are assigned from *right to left*. That is, Python looks at $ y = x - 2 $ and assigns $ x - 2 $ to $ y $.\n",
    "\n",
    "Why is this important? Let's say you want to redefine $ x $. If the assignment were *left to right*, then it would look like this:<br>\n",
    "$ x = x - 2 $<br>\n",
    "$ 5 = 5 - 2 $<br>\n",
    "$ 5 \\neq 3 $<br>\n",
    "which is mathematically invalid.\n",
    "\n",
    "But the *right to left* direction would look like\n",
    "$ x = x - 2 $<br>\n",
    "$ x = 5 - 2 $<br>\n",
    "$ x = 3 $<br>\n",
    "which is a valid statement!\n",
    "\n",
    "\n",
    "#### Variable types\n",
    "\n",
    "Variables do not need to be numbers. In the field of natural language processing (NLP), one deals with natural language units like words, sentences, and documents. These units are called **strings**.\n",
    "\n",
    "Since variables in Python must begin with a letter, we distinguish variables from strings with quotation marks, either the single (') or double quotation (\"). Which one you use does not matter, but you need to be consistent: the string must be enclosed by the same mark."
   ]
  },
  {
   "cell_type": "code",
   "execution_count": 3,
   "metadata": {},
   "outputs": [
    {
     "data": {
      "text/plain": [
       "'Legal Tech ist ein interessanter Bereich.'"
      ]
     },
     "execution_count": 3,
     "metadata": {},
     "output_type": "execute_result"
    }
   ],
   "source": [
    "a = 'Legal Tech ist ein interessanter Bereich.'\n",
    "a"
   ]
  },
  {
   "cell_type": "code",
   "execution_count": null,
   "metadata": {},
   "outputs": [],
   "source": []
  }
 ],
 "metadata": {
  "kernelspec": {
   "display_name": "Python 3 (ipykernel)",
   "language": "python",
   "name": "python3"
  },
  "language_info": {
   "codemirror_mode": {
    "name": "ipython",
    "version": 3
   },
   "file_extension": ".py",
   "mimetype": "text/x-python",
   "name": "python",
   "nbconvert_exporter": "python",
   "pygments_lexer": "ipython3",
   "version": "3.10.12"
  }
 },
 "nbformat": 4,
 "nbformat_minor": 2
}
