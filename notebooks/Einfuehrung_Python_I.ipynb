{
 "cells": [
  {
   "cell_type": "markdown",
   "metadata": {},
   "source": [
    "# **Legal Tech**\n",
    "### *Einführung in Python I: ```Hello world!```*\n",
    "##### Yoan Hermstrüwer\n",
    "##### Herbstsemester 2023\n",
    "\n",
    "**Themen**: ```hello world```, Syntax, Operatoren, Variablen, Datentypen, ```for```, ```while```, ```if-elif-else```"
   ]
  },
  {
   "cell_type": "markdown",
   "metadata": {},
   "source": [
    "## ```print()```\n",
    "Mit der Funktion ```print()``` gibt man eine bestimmte Nachricht auf dem Bildschirm aus. Der Inhalt steht innerhalb von den runden Klammern und muss in Anführungszeichen geschrieben werden, es sei denn, der Inhalt ist eine Variable oder eine Zahl (mehr dazu unten).\n",
    "\n",
    "Führe die unten stehende Zelle aus."
   ]
  },
  {
   "cell_type": "code",
   "execution_count": 1,
   "metadata": {},
   "outputs": [
    {
     "name": "stdout",
     "output_type": "stream",
     "text": [
      "Hello world!\n"
     ]
    }
   ],
   "source": [
    "print('Hello world!')"
   ]
  },
  {
   "cell_type": "markdown",
   "metadata": {},
   "source": [
    "## Syntax\n",
    "\n",
    "### Indentation (DE: Einrückung)\n",
    "Die Einrückung in Python strukturiert einen Skript in Funktionsblöcke. Bei falschen und/oder fehlenden Einrückungen wird eine Fehlermeldung ausgegeben."
   ]
  },
  {
   "cell_type": "code",
   "execution_count": 2,
   "metadata": {},
   "outputs": [
    {
     "ename": "IndentationError",
     "evalue": "expected an indented block after 'if' statement on line 2 (976051798.py, line 3)",
     "output_type": "error",
     "traceback": [
      "\u001b[1;36m  Cell \u001b[1;32mIn[2], line 3\u001b[1;36m\u001b[0m\n\u001b[1;33m    print('1 gleich 1')\u001b[0m\n\u001b[1;37m    ^\u001b[0m\n\u001b[1;31mIndentationError\u001b[0m\u001b[1;31m:\u001b[0m expected an indented block after 'if' statement on line 2\n"
     ]
    }
   ],
   "source": [
    "# Falsche Einrückung\n",
    "if 1 == 1:\n",
    "print('1 gleich 1')"
   ]
  },
  {
   "cell_type": "code",
   "execution_count": 3,
   "metadata": {},
   "outputs": [
    {
     "name": "stdout",
     "output_type": "stream",
     "text": [
      "1 gleich 1\n"
     ]
    }
   ],
   "source": [
    "# Korrekte Einrückung\n",
    "if 1 == 1:\n",
    "    print('1 gleich 1')"
   ]
  },
  {
   "cell_type": "markdown",
   "metadata": {},
   "source": [
    "### Kommentare\n",
    "Kommentare in Python haben mehrere Zwecke. Dazu gehören u.a.\n",
    "* Dokumentation, z.B. um dem/r Leser/in den Zweck oder das Ziel einer Codezeile, eines Codeblocks oder eines ganzen Skripts zu erklären\n",
    "* Lesbarkeit des Codes\n",
    "\n",
    "Einfache bzw. einzeilige Kommentare beginnen mit einem \\#-Symbol. Sie werden *nicht* vom Python-Interpreter ausgeführt.\n",
    "\n",
    "Mehr über Kommentare kannst du auf dieser Webseite erfahren: <a href=\"https://www.python-lernen.de/kommentare.htm\" target=\"_blank\">https://www.python-lernen.de/kommentare.htm</a>."
   ]
  },
  {
   "cell_type": "code",
   "execution_count": 4,
   "metadata": {},
   "outputs": [
    {
     "name": "stdout",
     "output_type": "stream",
     "text": [
      "I love Legal Tech!\n",
      "I love Legal Tech!\n",
      "I love Legal Tech!\n",
      "I love Legal Tech!\n"
     ]
    }
   ],
   "source": [
    "kurs = 'Legal Tech' # Variable definieren\n",
    "\n",
    "for i in range(0, 4): # Für jede Zahl in der Reihe 0 (inklusiv) bis 4 (exklusiv), d.h. [0, 1, 2, 3]\n",
    "\tprint('I love ' + kurs + '!') # \"I love Legal Tech!\" ausgeben (wird insgesamt 4-mal ausgegeben)"
   ]
  },
  {
   "cell_type": "markdown",
   "metadata": {},
   "source": [
    "## Operatoren\n",
    "\n",
    "Operatoren ermöglichen Berechnungen an Variablen und Werten. Folgende sind einige der wichtigsten Operatoren.\n",
    "\n",
    "### Arithmetische Operatoren\n",
    "\n",
    "Addition"
   ]
  },
  {
   "cell_type": "code",
   "execution_count": 5,
   "metadata": {},
   "outputs": [
    {
     "data": {
      "text/plain": [
       "12"
      ]
     },
     "execution_count": 5,
     "metadata": {},
     "output_type": "execute_result"
    }
   ],
   "source": [
    "8 + 4 # Ergebnis: 12"
   ]
  },
  {
   "cell_type": "markdown",
   "metadata": {},
   "source": [
    "Subtraktion"
   ]
  },
  {
   "cell_type": "code",
   "execution_count": 6,
   "metadata": {
    "scrolled": true
   },
   "outputs": [
    {
     "data": {
      "text/plain": [
       "7"
      ]
     },
     "execution_count": 6,
     "metadata": {},
     "output_type": "execute_result"
    }
   ],
   "source": [
    "9 - 2 # Ergebnis: 7"
   ]
  },
  {
   "cell_type": "markdown",
   "metadata": {},
   "source": [
    "Multiplikation"
   ]
  },
  {
   "cell_type": "code",
   "execution_count": 7,
   "metadata": {},
   "outputs": [
    {
     "data": {
      "text/plain": [
       "16"
      ]
     },
     "execution_count": 7,
     "metadata": {},
     "output_type": "execute_result"
    }
   ],
   "source": [
    "4 * 4 # Ergebnis: 16"
   ]
  },
  {
   "cell_type": "markdown",
   "metadata": {},
   "source": [
    "Division"
   ]
  },
  {
   "cell_type": "code",
   "execution_count": 8,
   "metadata": {
    "scrolled": true
   },
   "outputs": [
    {
     "data": {
      "text/plain": [
       "5.0"
      ]
     },
     "execution_count": 8,
     "metadata": {},
     "output_type": "execute_result"
    }
   ],
   "source": [
    "15 / 3 # Ergebnis: 5.0"
   ]
  },
  {
   "cell_type": "markdown",
   "metadata": {},
   "source": [
    "Integer division (DE: Ganzzahldivision, d.h. Division ohne Rest)"
   ]
  },
  {
   "cell_type": "code",
   "execution_count": 9,
   "metadata": {},
   "outputs": [
    {
     "data": {
      "text/plain": [
       "5"
      ]
     },
     "execution_count": 9,
     "metadata": {},
     "output_type": "execute_result"
    }
   ],
   "source": [
    "16 // 3 # Ergebnis: 5"
   ]
  },
  {
   "cell_type": "markdown",
   "metadata": {},
   "source": [
    "Modulo-Division (liefert den Rest einer Division)"
   ]
  },
  {
   "cell_type": "code",
   "execution_count": 10,
   "metadata": {},
   "outputs": [
    {
     "data": {
      "text/plain": [
       "1"
      ]
     },
     "execution_count": 10,
     "metadata": {},
     "output_type": "execute_result"
    }
   ],
   "source": [
    "16 % 3 # Ergebnis: 1"
   ]
  },
  {
   "cell_type": "markdown",
   "metadata": {},
   "source": [
    "Exponentiation"
   ]
  },
  {
   "cell_type": "code",
   "execution_count": 11,
   "metadata": {
    "scrolled": true
   },
   "outputs": [
    {
     "data": {
      "text/plain": [
       "81"
      ]
     },
     "execution_count": 11,
     "metadata": {},
     "output_type": "execute_result"
    }
   ],
   "source": [
    "3 ** 4 # Ergebnis: 81"
   ]
  },
  {
   "cell_type": "markdown",
   "metadata": {},
   "source": [
    "### Vergleichsoperatoren\n",
    "\n",
    "Vergleichsoperatoren vergleichen zwei Werte."
   ]
  },
  {
   "cell_type": "code",
   "execution_count": 12,
   "metadata": {
    "scrolled": true
   },
   "outputs": [
    {
     "data": {
      "text/plain": [
       "True"
      ]
     },
     "execution_count": 12,
     "metadata": {},
     "output_type": "execute_result"
    }
   ],
   "source": [
    "3 == 3 # ob zwei Werte gleich sind"
   ]
  },
  {
   "cell_type": "code",
   "execution_count": 13,
   "metadata": {},
   "outputs": [
    {
     "data": {
      "text/plain": [
       "False"
      ]
     },
     "execution_count": 13,
     "metadata": {},
     "output_type": "execute_result"
    }
   ],
   "source": [
    "5 != 5 # ob zwei Werte ungleich sind"
   ]
  },
  {
   "cell_type": "code",
   "execution_count": 14,
   "metadata": {},
   "outputs": [
    {
     "data": {
      "text/plain": [
       "False"
      ]
     },
     "execution_count": 14,
     "metadata": {},
     "output_type": "execute_result"
    }
   ],
   "source": [
    "5 < 4 # ob 5 kleiner als 4 ist (auch möglich sind >, <=, >=)"
   ]
  },
  {
   "cell_type": "markdown",
   "metadata": {},
   "source": [
    "### Zuweisungsoperatoren\n",
    "\n",
    "Zuweisungsoperatoren weisen Variablen Werte zu."
   ]
  },
  {
   "cell_type": "code",
   "execution_count": 15,
   "metadata": {},
   "outputs": [
    {
     "name": "stdout",
     "output_type": "stream",
     "text": [
      "Hello world!\n"
     ]
    }
   ],
   "source": [
    "print('Hello world!') # wendet die print-Funktion auf einen String an"
   ]
  },
  {
   "cell_type": "code",
   "execution_count": 16,
   "metadata": {},
   "outputs": [
    {
     "name": "stdout",
     "output_type": "stream",
     "text": [
      "Hello world!\n"
     ]
    }
   ],
   "source": [
    "a = 'Hello world!' # weist der Variable \"a\" den Wert \"Hello world\"! zu\n",
    "print(a) # dadurch kann eine Funktion auf die Variable angewendet werden, anstatt dass der Wert jedes Mal ausdrücklich übergeben werden muss"
   ]
  },
  {
   "cell_type": "markdown",
   "metadata": {},
   "source": [
    "Sie können auch zur Inkrementierung bzw. Dekrementierung verwendet werden, dadurch, dass ein arithmetischer Operator durch ```=``` ergänzt wird."
   ]
  },
  {
   "cell_type": "code",
   "execution_count": 17,
   "metadata": {},
   "outputs": [
    {
     "name": "stdout",
     "output_type": "stream",
     "text": [
      "2\n"
     ]
    }
   ],
   "source": [
    "d = 1 # weist der Variable \"d\" den Wert 1 zu\n",
    "d += 1 # erhöht den Wert von \"d\" um 1\n",
    "print(d) # gibt den Wert von \"d\" aus (wird 2 sein)"
   ]
  },
  {
   "cell_type": "markdown",
   "metadata": {},
   "source": [
    "### Logische Operatoren\n",
    "\n",
    "Zu den logischen Operatoren gehören ```and``` und ```or```."
   ]
  },
  {
   "cell_type": "code",
   "execution_count": 18,
   "metadata": {},
   "outputs": [
    {
     "data": {
      "text/plain": [
       "True"
      ]
     },
     "execution_count": 18,
     "metadata": {},
     "output_type": "execute_result"
    }
   ],
   "source": [
    "(5 == 5) and (4 == 4) # überprüft den Wahrheitsgehalt von zwei Aussagen gleichzeitig\n",
    "\t\t\t\t\t  # nur wenn beide Aussagen stimmen, wird \"True\" zurückgeliefert\n",
    "\t\t\t\t\t  # Ergebnis: \"True\", weil 5 = 5 und 4 = 4"
   ]
  },
  {
   "cell_type": "code",
   "execution_count": 19,
   "metadata": {},
   "outputs": [
    {
     "data": {
      "text/plain": [
       "True"
      ]
     },
     "execution_count": 19,
     "metadata": {},
     "output_type": "execute_result"
    }
   ],
   "source": [
    "(4 != 3) or (6 == 6) # überprüft den Wahrheitsgehalt von zwei Aussagen gleichzeitig\n",
    "\t\t\t\t\t # \"True\" wird zurückgeliefert, wenn mindestens eine der beiden Aussagen stimmt\n",
    "\t\t\t\t\t # Ergebnis: True, weil 6 = 6"
   ]
  },
  {
   "cell_type": "markdown",
   "metadata": {},
   "source": [
    "## Variablen\n",
    "\n",
    "Variablen in Python funktionieren wie in Algebra: Sie stellen einen Wert oder sogar eine andere Variable dar. Eine Variable wird mit einem Gleichheitszeichnen definiert.\n",
    "\n",
    "Die Ausführung der folgenden Zelle weist die Zeichenkette ```geneve``` der Variable ```suisse_romande``` zu."
   ]
  },
  {
   "cell_type": "code",
   "execution_count": 20,
   "metadata": {},
   "outputs": [],
   "source": [
    "suisse_romande = 'geneve'"
   ]
  },
  {
   "cell_type": "markdown",
   "metadata": {},
   "source": [
    "Bei dem Gebrauch der Variable wird deren Wert, nicht der Variablenname selbst, verwendet."
   ]
  },
  {
   "cell_type": "code",
   "execution_count": 21,
   "metadata": {},
   "outputs": [
    {
     "name": "stdout",
     "output_type": "stream",
     "text": [
      "geneve\n"
     ]
    }
   ],
   "source": [
    "print(suisse_romande) # gibt \"geneve\", nicht \"suisse_romande\", aus"
   ]
  },
  {
   "cell_type": "markdown",
   "metadata": {},
   "source": [
    "Variablen können manipuliert und geändert werden."
   ]
  },
  {
   "cell_type": "code",
   "execution_count": 22,
   "metadata": {},
   "outputs": [
    {
     "name": "stdout",
     "output_type": "stream",
     "text": [
      "genevegeneve\n"
     ]
    }
   ],
   "source": [
    "print(suisse_romande * 2)"
   ]
  },
  {
   "cell_type": "code",
   "execution_count": 23,
   "metadata": {},
   "outputs": [
    {
     "name": "stdout",
     "output_type": "stream",
     "text": [
      "geneve + jura + neuchatel + vaud\n"
     ]
    }
   ],
   "source": [
    "suisse_romande = suisse_romande + ' + jura + neuchatel + vaud' # Änderung des Wertes\n",
    "print(suisse_romande) # gibt den aktualisierten Wert aus"
   ]
  },
  {
   "cell_type": "markdown",
   "metadata": {},
   "source": [
    "## Datentypen\n",
    "\n",
    "Es gibt folgende Datentypen in Python (*relevante Datentype für diesen Kurs in fetter Schrift*):\n",
    "* **Numeric** (DE: numerisch)\n",
    "    * ```int```, z.B. ```5```\n",
    "    * ```float```, z.B. ```3.14159```, ```5.0```\n",
    "    * ```complex``` *\\[für diesen Kurs nicht relevant bzw. wird nicht verwendet\\]*\n",
    "* **String** (DE: Zeichenkette)\n",
    "    * ```str```, z.B. ```'Legal Tech ist mein Lieblingsfach!'```\n",
    "* **Boolean** (DE: boolesch)\n",
    "    * ```True```, ```False```\n",
    "* **Sequence** (DE: Sequenz)\n",
    "    * Arten\n",
    "        * ```list``` (DE: Liste)\n",
    "        * ```tuple``` (DE: Tupel) *\\[für diesen Kurs nicht relevant bzw. wird nicht verwendet\\]*\n",
    "        * ```range``` (DE: Reihe)\n",
    "    * Eigenschaften\n",
    "        * Besteht aus Einträgen oder *Elementen* (EN: element) eines beliebigen Datentyps\n",
    "        * Kann Elemente gemischter Datentype enthalten\n",
    "    * Indices\n",
    "        * Indices werden verwendet, um ein beliebiges Element (oder mehrere Elemente) einer Liste oder eines Tupels aufzurufen.\n",
    "        * Indexing (DE: Indexieren) in Python beginnt mit 0. Das heisst, das erste Element einer Sequenz hat den Index 0.\n",
    "        * Tipp: Indexing kann mit negativen Zahlen ausgeführt werden! Das allerletzte Element hat den Index $ -1 $, das Zweitletzte den Index $ -2 $ usw.\n",
    "* Set (DE: Menge)\n",
    "* Dictionary (a.k.a. hash, DE: Dictionary)\n",
    "\n",
    "#### Überprüfung des Datentyps\n",
    "Der Datentyp eines Objekts $ x $ kann mit der Funktion ```type()``` überprüft werden."
   ]
  },
  {
   "cell_type": "code",
   "execution_count": 24,
   "metadata": {},
   "outputs": [
    {
     "data": {
      "text/plain": [
       "int"
      ]
     },
     "execution_count": 24,
     "metadata": {},
     "output_type": "execute_result"
    }
   ],
   "source": [
    "type(5) # Ergebnis: int"
   ]
  },
  {
   "cell_type": "markdown",
   "metadata": {},
   "source": [
    "### Listen\n",
    "* **Bezeichnung:** square brackets (DE: eckige Klammern) ```[]```\n",
    "* **Eigenschaften**\n",
    "    * Ordered (DE: geordnet): *Ein Element ist mit einer bestimmten Position in der Sequenz assoziiert. Elemente werden in der gleichen Reihenfolge gespeichert wie sie hinzugefügt wurden.*\n",
    "    * Indexable (DE: indizierbar): *Elemente können mit ihren entsprechenden Indexen aufgerufen werden.*\n",
    "    * Mutable (DE: wandelbar): *Listen können nach der Erstellung noch verändert werden.*\n",
    "    * Nestable (DE: verschachtelbar): *Listen können Unterlisten enthalten (z.B. ```[[1, 2, 3], [2, 4, 6]]```).*"
   ]
  },
  {
   "cell_type": "code",
   "execution_count": 25,
   "metadata": {},
   "outputs": [
    {
     "data": {
      "text/plain": [
       "False"
      ]
     },
     "execution_count": 25,
     "metadata": {},
     "output_type": "execute_result"
    }
   ],
   "source": [
    "# Ordered\n",
    "x = [0, 1, 2, 3]\n",
    "y = [1, 0, 2, 3]\n",
    "x == y # Ergebnis: False"
   ]
  },
  {
   "cell_type": "code",
   "execution_count": 26,
   "metadata": {},
   "outputs": [
    {
     "data": {
      "text/plain": [
       "0"
      ]
     },
     "execution_count": 26,
     "metadata": {},
     "output_type": "execute_result"
    }
   ],
   "source": [
    "# Indexable\n",
    "x[0] # Ergebnis: 0"
   ]
  },
  {
   "cell_type": "code",
   "execution_count": 27,
   "metadata": {},
   "outputs": [
    {
     "name": "stdout",
     "output_type": "stream",
     "text": [
      "[0, 1, 80000, 3]\n"
     ]
    }
   ],
   "source": [
    "# Mutable\n",
    "x[2] = 80000\n",
    "print(x)"
   ]
  },
  {
   "cell_type": "code",
   "execution_count": 28,
   "metadata": {},
   "outputs": [
    {
     "name": "stdout",
     "output_type": "stream",
     "text": [
      "[1, 0, 2, 3, [10, 9, 8, 7, 6]]\n"
     ]
    }
   ],
   "source": [
    "# Nestable\n",
    "y.append([10, 9, 8, 7, 6])\n",
    "print(y)"
   ]
  },
  {
   "cell_type": "markdown",
   "metadata": {},
   "source": [
    "* **Methoden zur Manipulierung von Listen**<br>\n",
    "Hinweis: Hier bedeutet *Argument* den Inhalt innerhalb von den runden Klammern.\n",
    "    * ```my_list.append()```: einen Eintrag am Ende der Liste hinzufügen\n",
    "        * Argument: Wert eines beliebigen Eintrags\n",
    "        * Beispiel: ```my_list.append('John G. Roberts')``` (wo ```my_list``` eine bereits erstellte Liste ist)\n",
    "    * ```my_list.clear()```: alle Einträge löschen\n",
    "        * Argument: keines\n",
    "        * Beispiel: ```my_list.clear()```\n",
    "    * ```my_list.extend()```: alle Einträge einer *anderen* Liste hinzufügen\n",
    "        * Argument: eine zweite Liste\n",
    "        * Beispiel: ```my_list.extend(my_list2)``` (wo ```my_list2``` eine andere bereits erstellte Liste ist)\n",
    "    * ```my_list.index()```: nach einem bestimmten Element suchen und dessen Index zurückliefern\n",
    "        * Argument: Wert eines beliebigen Eintrags\n",
    "        * Beispiel: ```my_list.index('Elena Sotomayor')```\n",
    "        * Achtung:\n",
    "\t\t\t* Der beliebige Eintrag muss vorhanden sein! Ansonsten wird eine Fehlermeldung zurückgegeben.\n",
    "        \t* Sollte es mehrere Instanzen eines Elements geben, wird der Index der *ersten* Instanz zurückgeliefert.\n",
    "    * ```my_list.insert()```: einen Eintrag am vorgegebenen Index einfügen (folgende Einträge werden dann nach hinten verschoben)\n",
    "        * Argumente: beliebiger Index, Wert eines beliebigen Eintrags\n",
    "        * Beispiel: ```my_list.insert(3, 'Elena Sotomayor')```\n",
    "    * ```my_list.pop()```: den Eintrag am vorgegebenen Index löschen und dessen Inhalt als Rückgabe liefern\n",
    "        * Argument: beliebiger Index\n",
    "        * Beispiel: ```my_list.pop(2)```\n",
    "    * ```my_list.remove()```: den Eintrag aus der Liste löschen\n",
    "        * Argument: Wert eines beliebigen Eintrags\n",
    "        * Beispiel: ```my_list.remove('University of Zurich')```\n",
    "        * Achtung: Im Gegensatz zu ```.pop()``` wird der *Wert*, nicht der Index, übergeben.\n",
    "    * ```my_list.sort()```: Liste in gewünschter Form sortieren\n",
    "        * Beispiel: ```my_list.sort()```\n",
    "* **Weitere Funktionen auf Listen**\n",
    "    * ```len(my_list)```: liefert die Anzahl an Elementen der Liste\n",
    "    * ```max(my_list)``` bzw. ```min(my_list)```: liefert das Element mit dem höchsten bzw. tiefsten Wert\n",
    "\n",
    "Mehr zu Listen kannst du auf dieser Webseite erfahren: <a href=\"https://www.data-science-architect.de/listen-python/\" target=\"_blank\">https://www.data-science-architect.de/listen-python/</a>"
   ]
  },
  {
   "cell_type": "code",
   "execution_count": 29,
   "metadata": {},
   "outputs": [
    {
     "name": "stdout",
     "output_type": "stream",
     "text": [
      "['yoan hermstruewer', 'tilmann altwicker']\n"
     ]
    }
   ],
   "source": [
    "profs_rwf = ['yoan hermstruewer'] # Liste erstellen und ihr eine Variable zuordnen\n",
    "profs_rwf.append('tilmann altwicker') # als Argument wird der Wert EINES neuen Eintrages übergeben\n",
    "print(profs_rwf)"
   ]
  },
  {
   "cell_type": "code",
   "execution_count": 30,
   "metadata": {},
   "outputs": [
    {
     "name": "stdout",
     "output_type": "stream",
     "text": [
      "[]\n"
     ]
    }
   ],
   "source": [
    "profs_rwf.clear() # Achtung: Bei dieser Methode wird kein Argument übergeben\n",
    "print(profs_rwf)"
   ]
  },
  {
   "cell_type": "code",
   "execution_count": 31,
   "metadata": {},
   "outputs": [
    {
     "name": "stdout",
     "output_type": "stream",
     "text": [
      "['yoan hermstruewer', 'tilmann altwicker', 'martin volk', 'rico sennrich', 'rico sennrich']\n"
     ]
    }
   ],
   "source": [
    "profs_rwf = ['yoan hermstruewer', 'tilmann altwicker'] # Liste erneut erstellen\n",
    "profs_cl = ['martin volk', 'rico sennrich', 'rico sennrich'] # neue Liste erstellen\n",
    "profs_rwf.extend(profs_cl)\n",
    "print(profs_rwf)"
   ]
  },
  {
   "cell_type": "code",
   "execution_count": 32,
   "metadata": {
    "scrolled": true
   },
   "outputs": [
    {
     "data": {
      "text/plain": [
       "3"
      ]
     },
     "execution_count": 32,
     "metadata": {},
     "output_type": "execute_result"
    }
   ],
   "source": [
    "profs_rwf.index('rico sennrich') # liefert den Index der ERSTEN Instanz von \"rico sennrich\""
   ]
  },
  {
   "cell_type": "code",
   "execution_count": 33,
   "metadata": {
    "scrolled": true
   },
   "outputs": [
    {
     "name": "stdout",
     "output_type": "stream",
     "text": [
      "['yoan hermstruewer', 'alice margaria', 'tilmann altwicker', 'martin volk', 'rico sennrich', 'rico sennrich']\n"
     ]
    }
   ],
   "source": [
    "profs_rwf.insert(1, 'alice margaria') # fügt an der 1. Position \"alice margaria\" ein\n",
    "print(profs_rwf)"
   ]
  },
  {
   "cell_type": "code",
   "execution_count": 34,
   "metadata": {},
   "outputs": [
    {
     "data": {
      "text/plain": [
       "'rico sennrich'"
      ]
     },
     "execution_count": 34,
     "metadata": {},
     "output_type": "execute_result"
    }
   ],
   "source": [
    "profs_rwf.pop(-1) # löscht den letzten Eintrag und gibt seinen Wert zurück"
   ]
  },
  {
   "cell_type": "code",
   "execution_count": 35,
   "metadata": {},
   "outputs": [
    {
     "name": "stdout",
     "output_type": "stream",
     "text": [
      "['yoan hermstruewer', 'alice margaria', 'tilmann altwicker', 'martin volk', 'rico sennrich']\n"
     ]
    }
   ],
   "source": [
    "print(profs_rwf) # aktualisierte Liste"
   ]
  },
  {
   "cell_type": "code",
   "execution_count": 36,
   "metadata": {
    "scrolled": true
   },
   "outputs": [
    {
     "name": "stdout",
     "output_type": "stream",
     "text": [
      "['yoan hermstruewer', 'alice margaria', 'tilmann altwicker']\n"
     ]
    }
   ],
   "source": [
    "profs_rwf.remove('martin volk')\n",
    "profs_rwf.remove('rico sennrich') # nur ein Wert kann am Stück übergeben werden\n",
    "print(profs_rwf)"
   ]
  },
  {
   "cell_type": "code",
   "execution_count": 37,
   "metadata": {
    "scrolled": true
   },
   "outputs": [
    {
     "name": "stdout",
     "output_type": "stream",
     "text": [
      "['alice margaria', 'tilmann altwicker', 'yoan hermstruewer']\n"
     ]
    }
   ],
   "source": [
    "profs_rwf.sort() # wird standardmässig aufsteigend sortiert\n",
    "print(profs_rwf)"
   ]
  },
  {
   "cell_type": "code",
   "execution_count": 38,
   "metadata": {},
   "outputs": [
    {
     "name": "stdout",
     "output_type": "stream",
     "text": [
      "['yoan hermstruewer', 'tilmann altwicker', 'alice margaria']\n"
     ]
    }
   ],
   "source": [
    "profs_rwf.sort(reverse=True) # kann auch absteigend sortiert werden\n",
    "print(profs_rwf)"
   ]
  },
  {
   "cell_type": "code",
   "execution_count": 39,
   "metadata": {},
   "outputs": [
    {
     "name": "stdout",
     "output_type": "stream",
     "text": [
      "yoan hermstruewer\n"
     ]
    }
   ],
   "source": [
    "print(profs_rwf[0])"
   ]
  },
  {
   "cell_type": "code",
   "execution_count": 40,
   "metadata": {
    "scrolled": true
   },
   "outputs": [
    {
     "name": "stdout",
     "output_type": "stream",
     "text": [
      "alice margaria\n"
     ]
    }
   ],
   "source": [
    "print(profs_rwf[-1])"
   ]
  },
  {
   "cell_type": "code",
   "execution_count": 41,
   "metadata": {},
   "outputs": [
    {
     "ename": "IndexError",
     "evalue": "list index out of range",
     "output_type": "error",
     "traceback": [
      "\u001b[1;31m---------------------------------------------------------------------------\u001b[0m",
      "\u001b[1;31mIndexError\u001b[0m                                Traceback (most recent call last)",
      "\u001b[1;32mc:\\Users\\akim\\legal-tech\\rwf-hs23-legal-tech\\notebooks\\Einfuehrung_Python_I.ipynb Cell 62\u001b[0m line \u001b[0;36m1\n\u001b[1;32m----> <a href='vscode-notebook-cell:/c%3A/Users/akim/legal-tech/rwf-hs23-legal-tech/notebooks/Einfuehrung_Python_I.ipynb#Y112sZmlsZQ%3D%3D?line=0'>1</a>\u001b[0m \u001b[39mprint\u001b[39m(profs_rwf[\u001b[39m3\u001b[39;49m]) \u001b[39m# führt zu einem Fehler — warum?\u001b[39;00m\n",
      "\u001b[1;31mIndexError\u001b[0m: list index out of range"
     ]
    }
   ],
   "source": [
    "print(profs_rwf[3]) # führt zu einem Fehler — warum?"
   ]
  },
  {
   "cell_type": "markdown",
   "metadata": {},
   "source": [
    "##### ```range```\n",
    "* Syntax: ```range(Startwert, Endwert, Schrittweite)```\n",
    "* ```range``` in Python ist inklusiv am Startwert, aber exklusiv am Endwert\n",
    "    * Beispiel: ```range(1, 5, 1)``` entspricht der Reihe $ 1, 2, 3, 4 $\n",
    "* Wird oft mit der ```for```-Schleife verwendet\n",
    "* Achtung: Die Funktion ```range``` gibt an sich keine Sequenz zurück! Das mit ```range``` kreiierte Objekt muss in eine Sequenz transformiert werden, z.B. durch die Funktion ```list```."
   ]
  },
  {
   "cell_type": "code",
   "execution_count": 42,
   "metadata": {},
   "outputs": [
    {
     "name": "stdout",
     "output_type": "stream",
     "text": [
      "range(3, 12, 3)\n"
     ]
    }
   ],
   "source": [
    "z = range(3, 12, 3)\n",
    "print(z) # ein range-Objekt"
   ]
  },
  {
   "cell_type": "code",
   "execution_count": 43,
   "metadata": {},
   "outputs": [
    {
     "name": "stdout",
     "output_type": "stream",
     "text": [
      "[3, 6, 9]\n"
     ]
    }
   ],
   "source": [
    "z_list = list(z) # die Reihe in eine Liste konvertieren\n",
    "print(z_list)"
   ]
  },
  {
   "cell_type": "markdown",
   "metadata": {},
   "source": [
    "### ```for```-Loop (DE: ```for```-Schleife)\n",
    "\n",
    "Eine ```for```-Schleife wird verwendet, um über die Elemente einer Sequenz zu iterieren. Zu den **iterablen Objekten** in Python gehören u.a. Listen. Die Syntax sieht grundsätzlich so aus:\n",
    "```\n",
    "for ITEM in ITERABLE:\n",
    "    # DO SOMETHING\n",
    "```\n",
    "**Achtung:** Die Zeile(n) nach der ```for```-Anweisung muss eingerückt werden.\n",
    "\n",
    "Für jedes Element können Sie irgendetwas ausführen. Beispielsweise kann man mit der Funktion ```range()``` über eine Folge von Zahlen iterieren und den Wert manipulieren:"
   ]
  },
  {
   "cell_type": "code",
   "execution_count": 44,
   "metadata": {
    "scrolled": true
   },
   "outputs": [
    {
     "name": "stdout",
     "output_type": "stream",
     "text": [
      "0\n",
      "4\n",
      "8\n",
      "12\n",
      "16\n"
     ]
    }
   ],
   "source": [
    "for num in range(0, 10, 2): # für jede Zahl in der Reihe [0, 2, 4, 6, 8]\n",
    "    print(num * 2) # Zahl verdoppeln und resultierenden Wert ausgeben"
   ]
  },
  {
   "cell_type": "markdown",
   "metadata": {},
   "source": [
    "Man kann neue Objekte erstellen."
   ]
  },
  {
   "cell_type": "code",
   "execution_count": 45,
   "metadata": {},
   "outputs": [
    {
     "name": "stdout",
     "output_type": "stream",
     "text": [
      "['yoan', 'tilmann', 'alice']\n"
     ]
    }
   ],
   "source": [
    "profs_rwf = ['yoan hermstruewer', 'tilmann altwicker', 'alice margaria']\n",
    "profs_vornamen = [] # leere Liste initialisieren\n",
    "\n",
    "for prof in profs_rwf:\n",
    "    name_als_liste = prof.split() # String in eine Liste konvertieren\n",
    "    vorname = name_als_liste[0] # erstes Element (Index 0) auswählen\n",
    "    profs_vornamen.append(vorname) # Vorname zur neuen Liste hinzufügen\n",
    "\n",
    "print(profs_vornamen)"
   ]
  },
  {
   "cell_type": "markdown",
   "metadata": {},
   "source": [
    "### ```while```-Loop (DE: ```while```-Schleife)\n",
    "\n",
    "Wie bei ```for```-Loops kann man mit einer ```while```-Loop eine Aktion mehrmals ausführen lassen. Eine ```while```-Schleife wird ausgeführt, solang eine bestimmte Bedingung wahr ist. Die Syntax sieht grundsätzlich so aus:\n",
    "```\n",
    "while CONDITION:\n",
    "    # DO SOMETHING\n",
    "```"
   ]
  },
  {
   "cell_type": "code",
   "execution_count": 46,
   "metadata": {},
   "outputs": [
    {
     "name": "stdout",
     "output_type": "stream",
     "text": [
      "count: 1\n",
      "count: 2\n",
      "count: 3\n",
      "count: 4\n"
     ]
    }
   ],
   "source": [
    "count = 1\n",
    "while count < 5:\n",
    "\tprint('count: ' + str(count)) # Achtung: Bei gemischten Datentypen müssen Zahlen in einen String konvertiert werden (umgekehrt ist auch möglich, jedoch weniger üblich)\n",
    "\tcount += 1 # \"count\" erhöhen"
   ]
  },
  {
   "cell_type": "markdown",
   "metadata": {},
   "source": [
    "### ```if```-Statement (DE: ```if```-Anweisung)\n",
    "\n",
    "In Python ist es möglich, einen Codeblock ausführen zu lassen, nur wenn er eine bestimmte Bedingung erfüllt.\n",
    "```\n",
    "if CONDITION 1:\n",
    "    # DO SOMETHING\n",
    "elif CONDITION 2:\n",
    "    # DO SOMETHING ELSE\n",
    "else:\n",
    "    # DO SOMETHING ELSE\n",
    "```\n",
    "Bemerkung 1: ```elif``` und ```else``` sind optional."
   ]
  },
  {
   "cell_type": "code",
   "execution_count": 47,
   "metadata": {},
   "outputs": [
    {
     "name": "stdout",
     "output_type": "stream",
     "text": [
      "rm gehört nicht zu den Amtssprachen der Schweiz.\n"
     ]
    }
   ],
   "source": [
    "amtssprachen = ['de', 'fr', 'it']\n",
    "sprache = 'rm'\n",
    "\n",
    "if sprache in amtssprachen:\n",
    "\tprint(sprache, 'ist eine der schweizerischen Amtssprachen.')\n",
    "else:\n",
    "\tprint(sprache, 'gehört nicht zu den Amtssprachen der Schweiz.')"
   ]
  },
  {
   "cell_type": "code",
   "execution_count": 48,
   "metadata": {},
   "outputs": [],
   "source": [
    "if 1 == 2:\n",
    "\tprint('1 == 2!') # nichts wird ausgegeben, weil die Bedingung falsch ist"
   ]
  },
  {
   "cell_type": "markdown",
   "metadata": {},
   "source": [
    "Bemerkung 2.1: ```if``` und ```elif``` sind sich gegenseitig ausschliessend. Selbst wenn die ```elif```-Bedingung erfüllt wird, wird ihr Codeblock nicht ausgeführt."
   ]
  },
  {
   "cell_type": "code",
   "execution_count": 49,
   "metadata": {},
   "outputs": [
    {
     "name": "stdout",
     "output_type": "stream",
     "text": [
      "4 ist durch 2 teilbar.\n"
     ]
    }
   ],
   "source": [
    "m = 4\n",
    "\n",
    "if m % 2 == 0:\n",
    "\tprint(str(m), 'ist durch 2 teilbar.')\n",
    "elif m % 4 == 0:\n",
    "\tprint(str(m), 'ist durch 4 teilbar.')\n",
    "else:\n",
    "\tprint(str(m), 'ist weder durch 2 noch durch 4 teilbar.')"
   ]
  },
  {
   "cell_type": "markdown",
   "metadata": {},
   "source": [
    "Bemerkung 2.2: Um die Ausführung von mehreren Codeblöcken zu ermöglichen, kann man mehrere ```if```-Statements erstellen. Die unten stehende Zelle ergibt die ersten zwei Print-Statements, weil beide Bedingungen erfüllt und jeweils mit ```if``` definiert sind."
   ]
  },
  {
   "cell_type": "code",
   "execution_count": 50,
   "metadata": {},
   "outputs": [
    {
     "name": "stdout",
     "output_type": "stream",
     "text": [
      "4 ist durch 2 teilbar.\n",
      "4 ist durch 4 teilbar.\n"
     ]
    }
   ],
   "source": [
    "m = 4\n",
    "\n",
    "if m % 2 == 0: # kein Rest\n",
    "\tprint(str(m), 'ist durch 2 teilbar.')\n",
    "if m % 4 == 0: # auch kein Rest\n",
    "\tprint(str(m), 'ist durch 4 teilbar.')\n",
    "else:\n",
    "\tprint(str(m), 'ist weder durch 2 noch durch 4 teilbar.')"
   ]
  }
 ],
 "metadata": {
  "kernelspec": {
   "display_name": "Python 3 (ipykernel)",
   "language": "python",
   "name": "python3"
  },
  "language_info": {
   "codemirror_mode": {
    "name": "ipython",
    "version": 3
   },
   "file_extension": ".py",
   "mimetype": "text/x-python",
   "name": "python",
   "nbconvert_exporter": "python",
   "pygments_lexer": "ipython3",
   "version": "3.11.6"
  }
 },
 "nbformat": 4,
 "nbformat_minor": 2
}
