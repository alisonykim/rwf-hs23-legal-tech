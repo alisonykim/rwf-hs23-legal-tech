{
  "cells": [
    {
      "cell_type": "markdown",
      "metadata": {
        "id": "019KQvwYSPcZ"
      },
      "source": [
        "# **Legal Tech**\n",
        "### *Hands-on Machine Learning mit SCOTUS-Daten*\n",
        "##### Yoan Hermstrüwer\n",
        "##### Herbstsemester 2023"
      ]
    },
    {
      "cell_type": "markdown",
      "metadata": {
        "id": "YKVLKXedB8BD"
      },
      "source": [
        "## 0. Allgemeines\n",
        "\n",
        "* Achtung: Dieses Notebook ist *nicht editierbar*. Wenn du deine eigenen Notizen hinzufügen möchtest, erstelle bitte zuerst eine Kopie. Hierfür klickst du auf `Datei > Kopie in Drive speichern`. Für diese Übung ist dies allerdings nicht zwingend nötig.\n",
        "* Bei Fragen zu den Hands-On-Materialien kannst du dich gerne an Alison Kim (alison.kim@ius.uzh.ch) wenden."
      ]
    },
    {
      "cell_type": "markdown",
      "metadata": {
        "id": "Xzge7IvI9785"
      },
      "source": [
        "## 1. Auffrischung\n",
        "\n",
        "### 1.1 Supervised Learning\n",
        "\n",
        "Wie du in Block 7 erfahren hast, gibt es im klassischen Machine Learning (ML) zwei Lernansätze: *supervised Learning* und *unsupervised Learning*.\n",
        "\n",
        "Beim **supervised Learning**, welches wir in dieser Demo anwenden werden, wird der Algorithmus mit einem Trainingsdatensatz aus  *labeled Data* (DE: gekennzeichnete Daten) gefüttert. Die Labels werden zuvor meist händisch erstellt. Ein Label stellt das gewünschte Ergebnis dar, das der Algorithmus als \"Antwort\" auf einen ihm vorgezeigten Datenpunkt ausgeben soll.\n",
        "\n",
        "Ein solcher Datenpunkt könnte z.B. ein Bild eines Hundes sein, und das dazugehörige Label das Wort \"Hund\". Der Algorithmus lernt, Muster im gekennzeichneten Trainingsdatensatz zu erkennen, und anhand von diesen Mustern neue, nicht im Trainingsdatensatz enthaltene Daten zu klassifizieren oder neue Ergebnisse vorherzusagen. Dem trainierten Algorithmus wird also ein Bild eines Hundes gezeigt, das er noch nie gesehen hat. Im Idealfall gibt der Algorithmus nun die Antwort \"Hund\" aus.\n",
        "\n",
        "Im Gegensatz zum supervised Learning tragen die Daten beim **unsupervised Learning** keine Labels. Der Algorithmus muss also die Zusammenhänge zwischen den Variablen selbst erkennen. In dieser Demo werden wir uns nicht mit unsupervised Learning befassen.\n",
        "\n",
        "### 1.2 Klassifikation\n",
        "\n",
        "**Classification** (DE: Klassifikation) ist einer der fundamentalen Modellierungsansätze im supervised Learning. Das Ziel der Klassifikation ist es, Beobachtungen (Datenpunkte, z.B. Bild eines Hundes) in eine vordefinierte Kategorie (Klasse, z.B. \"Hund\") einzuordnen.\n",
        "\n",
        "Um einen supervised Klassifikator zu trainieren, brauchen wir einen Trainingsdatensatz, in dem die Klasse jeder Beobachtung bereits bekannt (labeled) ist. Wir trainieren den Klassifikator, Merkmale im Datensatz zu erkennen, die die verschiedenen Klassen unterscheiden.\n",
        "\n",
        "Die einfache Variante nennt sich **binäre Klassifikation**. Wie der Name verrät, ordnet ein binärer Klassifikator einen Datenpunkt einer von zwei Klassen zu. Beispiele hierfür sind:\n",
        "* Kreditanträge (Klassen: genehmigt, abgelehnt)\n",
        "* Hassrede in sozialen Medien (Klassen: Hassrede, nicht Hassrede)\n",
        "* Funktionen des Genitivs (Klassen: [*Subjektivus*](https://de.wikipedia.org/wiki/Genetivus_subiectivus), [*Objektivus*](https://de.wikipedia.org/wiki/Genetivus_obiectivus))\n",
        "\n",
        "**Multi-Class-Classification** ist die Zuordnung von einem Datenpunkt zu einer von mindestens drei Klassen. Der Klassifikator gibt dabei zu jedem Datenpunkt typischerweise nicht direkt die vorhergesagte Klasse aus, sondern die Wahrscheinlichkeiten jeder Klasse. Die Klasse mit dem höchsten Wahrscheinlichkeitswert wird als Vorhersage zugrunde gelegt. Es handelt sich um die probabilistische Zuordnung zu einer Klasse.\n",
        "\n",
        "### 1.3 Aufteilen von Daten\n",
        "\n",
        "Das Lernen besteht jeweils aus zwei Phasen: das Trainieren und das Testen (manchmal gehört auch das Validieren dazu, aber damit werden wir uns in dieser Demo nicht beschäftigen).\n",
        "* Während des **Trainings** lernt der Algorithmus Muster, Merkmale und Zusammenhänge aus den Trainingsdaten, um Vorhersagen zu treffen.\n",
        "* Das **Testen** dient zur Beurteilung der Fähigkeit des trainierten Algorithmus, zu neuen, dem Algorithmus unbekannten Daten korrekte Vorhersagen zu treffen.\n",
        "\n",
        "Eine übliche Aufteilung sieht 80% des gesamten Datensatzes für das Training vor, und 20% für das Testen (EN: \"80/20 split\").\n",
        "\n",
        "Warum sollte man Daten in Train- und Test-Untermengen aufteilen?\n",
        "* **Bewertung der Generalisierungsfähigkeit:** Durch die Verwendung von Testdaten kann die Fähigkeit des Modells überprüft werden, das Gelernte auf unbekannte Daten zu verallgemeinern. Dies ist entscheidend, um sicherzustellen, dass das Modell nicht nur auswendig gelernt hat, sondern auch auf neue Daten richtig reagieren kann.\n",
        "* **Vermeidung von Overfitting:** Wenn das Modell ausschliesslich mit den Trainingsdaten bewertet wird, könnte es zu Overfitting (DE: Überanpassung) kommen. Das Modell ist in diesen Fällen zu stark auf die Trainingsdaten angepasst und nicht gut auf neue Daten generalisiert.\n",
        "* **Bewertung anhand von Evaluationsmetriken:** Die Testdaten ermöglichen die Berechnung verschiedener Evaluationsmetriken wie Accuracy (DE: Genauigkeit), Precision (DE: Präzision), Recall (DE: Rückruf) und F1-Score, um die Qualität der Vorhersagen zu bewerten.\n",
        "\n",
        "### 1.4 Evaluationsmetriken\n",
        "\n",
        "#### 1.4.1 Genauigkeit (EN: Accuracy)\n",
        "\n",
        "Die Genauigkeit misst den Prozentsatz der korrekt klassifizierten Instanzen im Verhältnis zur Gesamtanzahl der Instanzen. Sie ist ein einfaches Mass für die Gesamtleistung eines Klassifikationsmodells und wird berechnet durch die Formel:\n",
        "\n",
        "$$ \\text{accuracy} = \\frac{\\sum\\left(\\text{Korrekt klassifizierte Instanzen}\\right)}{\\text{Gesamtanzahl der Instanzen}} $$\n",
        "\n",
        "#### 1.4.2 Präzision (EN: Precision)\n",
        "\n",
        "Die Präzision gibt an, wie viele der als positiv vorhergesagten Instanzen tatsächlich positiv sind. Sie wird berechnet durch:\n",
        "\n",
        "$$ \\text{precision} = \\frac{\\sum\\left(\\text{Wahr-Positive}\\right)}{\\sum\\left(\\text{Wahr-Positive}\\right) + \\sum\\left(\\text{Falsch-Positive}\\right)} $$\n",
        "\n",
        "#### 1.4.3 Rückruf (EN: Recall):\n",
        "Der Rückruf misst den Prozentsatz der tatsächlich positiven Instanzen, die korrekt vorhergesagt wurden. Die Formel lautet:\n",
        "\n",
        "$$ \\text{recall} = \\frac{\\sum\\left(\\text{Wahr-Positive}\\right)}{\\sum\\left(\\text{Wahr-Positive}\\right) + \\sum\\left(\\text{Falsch-Negative}\\right)} $$\n",
        "\n",
        "#### 1.4.4 F1-Wert (EN: F1 Score)\n",
        "Der F1-Wert ist das harmonische Mittel zwischen Präzision und Rückruf und gibt ein ausgewogenes Mass für die Leistung des Modells. Er wird berechnet durch:\n",
        "\n",
        "$$ F1 = \\frac{2 * (\\text{precision * recall})}{(\\text{precision + recall})} $$\n",
        "\n",
        "#### 1.4.5 Verwirrungsmatrix (EN: Confusion Matrix)\n",
        "Die Verwirrungsmatrix ist eine Tabelle, die die Leistung eines Klassifikationsmodells aufzeigt. Sie enthält die Anzahl der wahr-positiven, wahr-negativen, falsch-positiven und falsch-negativen Vorhersagen. Die Matrix bietet einen detaillierten Einblick in die Stärken und Schwächen des Modells und dient als Grundlage für die Berechnung von Genauigkeit, Präzision, Rückruf und F1-Wert."
      ]
    },
    {
      "cell_type": "markdown",
      "metadata": {
        "id": "COEDjkCduuCl"
      },
      "source": [
        "## 2. Libraries\n",
        "\n",
        "Führe die beiden untenstehenden Zellen aus (fahre dazu mit der Maus über die eckigen Klammern und klicke auf das Play-Symbol), um die benötigten Libraries (DE: Programmbibliotheken) auf deinem Rechner zu installieren und sie in dieses IDE (Integrated Development Environment, DE: integrierte Entwicklungsumgebung) zu importieren."
      ]
    },
    {
      "cell_type": "code",
      "execution_count": 1,
      "metadata": {
        "colab": {
          "base_uri": "https://localhost:8080/"
        },
        "id": "_y9ferzlOYew",
        "outputId": "f08102b6-7876-43af-dfa7-be5e55abf627"
      },
      "outputs": [
        {
          "output_type": "stream",
          "name": "stdout",
          "text": [
            "Requirement already satisfied: matplotlib in /usr/local/lib/python3.10/dist-packages (3.7.1)\n",
            "Requirement already satisfied: contourpy>=1.0.1 in /usr/local/lib/python3.10/dist-packages (from matplotlib) (1.2.0)\n",
            "Requirement already satisfied: cycler>=0.10 in /usr/local/lib/python3.10/dist-packages (from matplotlib) (0.12.1)\n",
            "Requirement already satisfied: fonttools>=4.22.0 in /usr/local/lib/python3.10/dist-packages (from matplotlib) (4.47.0)\n",
            "Requirement already satisfied: kiwisolver>=1.0.1 in /usr/local/lib/python3.10/dist-packages (from matplotlib) (1.4.5)\n",
            "Requirement already satisfied: numpy>=1.20 in /usr/local/lib/python3.10/dist-packages (from matplotlib) (1.23.5)\n",
            "Requirement already satisfied: packaging>=20.0 in /usr/local/lib/python3.10/dist-packages (from matplotlib) (23.2)\n",
            "Requirement already satisfied: pillow>=6.2.0 in /usr/local/lib/python3.10/dist-packages (from matplotlib) (9.4.0)\n",
            "Requirement already satisfied: pyparsing>=2.3.1 in /usr/local/lib/python3.10/dist-packages (from matplotlib) (3.1.1)\n",
            "Requirement already satisfied: python-dateutil>=2.7 in /usr/local/lib/python3.10/dist-packages (from matplotlib) (2.8.2)\n",
            "Requirement already satisfied: six>=1.5 in /usr/local/lib/python3.10/dist-packages (from python-dateutil>=2.7->matplotlib) (1.16.0)\n",
            "Requirement already satisfied: numpy in /usr/local/lib/python3.10/dist-packages (1.23.5)\n",
            "Requirement already satisfied: pandas in /usr/local/lib/python3.10/dist-packages (1.5.3)\n",
            "Requirement already satisfied: python-dateutil>=2.8.1 in /usr/local/lib/python3.10/dist-packages (from pandas) (2.8.2)\n",
            "Requirement already satisfied: pytz>=2020.1 in /usr/local/lib/python3.10/dist-packages (from pandas) (2023.3.post1)\n",
            "Requirement already satisfied: numpy>=1.21.0 in /usr/local/lib/python3.10/dist-packages (from pandas) (1.23.5)\n",
            "Requirement already satisfied: six>=1.5 in /usr/local/lib/python3.10/dist-packages (from python-dateutil>=2.8.1->pandas) (1.16.0)\n",
            "Requirement already satisfied: prettytable in /usr/local/lib/python3.10/dist-packages (3.9.0)\n",
            "Requirement already satisfied: wcwidth in /usr/local/lib/python3.10/dist-packages (from prettytable) (0.2.12)\n",
            "Requirement already satisfied: scikit-learn in /usr/local/lib/python3.10/dist-packages (1.2.2)\n",
            "Requirement already satisfied: numpy>=1.17.3 in /usr/local/lib/python3.10/dist-packages (from scikit-learn) (1.23.5)\n",
            "Requirement already satisfied: scipy>=1.3.2 in /usr/local/lib/python3.10/dist-packages (from scikit-learn) (1.11.4)\n",
            "Requirement already satisfied: joblib>=1.1.1 in /usr/local/lib/python3.10/dist-packages (from scikit-learn) (1.3.2)\n",
            "Requirement already satisfied: threadpoolctl>=2.0.0 in /usr/local/lib/python3.10/dist-packages (from scikit-learn) (3.2.0)\n"
          ]
        }
      ],
      "source": [
        "!pip install matplotlib\n",
        "!pip install numpy\n",
        "!pip install pandas\n",
        "!pip install prettytable\n",
        "!pip install scikit-learn"
      ]
    },
    {
      "cell_type": "code",
      "execution_count": 2,
      "metadata": {
        "id": "TbG4eeNKOYmn"
      },
      "outputs": [],
      "source": [
        "import re # Library zu regular expressions (DE: reguläre Ausdrücke)\n",
        "from typing import Tuple # Klasse zum Schreiben einer Hilfsfunktion (CS: utility function)\n",
        "\n",
        "import warnings # Einstellung: Fehlermeldung stummschalten\n",
        "warnings.filterwarnings(\"ignore\")\n",
        "\n",
        "import matplotlib.pyplot as plt # Library zum Darstellen von Datensätzen\n",
        "import numpy as np # Library zum Rechnen mit Daten\n",
        "import pandas as pd # Library zum Erstellen und Manipulieren von Datensätzen\n",
        "from sklearn.linear_model import LogisticRegression # Modell importieren: Logistische Regression\n",
        "from sklearn.metrics import classification_report, confusion_matrix # Funktionen importieren: Evaluation des Modells\n",
        "from sklearn.model_selection import train_test_split # Funktion importieren: Datenaufteilung\n",
        "from sklearn.naive_bayes import ComplementNB # Modell importieren: Naive Bayes\n",
        "from sklearn.svm import SVC # Modell importieren: Support Vector Machine\n",
        "from prettytable import PrettyTable # Klasse importieren: print-Statements verschönern\n",
        "\n",
        "import gdown\n",
        "from google.colab import drive # Verbindung zu Google Drive herstellen, um auf den Datensatz zuzugreifen"
      ]
    },
    {
      "cell_type": "markdown",
      "metadata": {
        "id": "QsTDzFLBSPca"
      },
      "source": [
        "## 3. Datensatz\n",
        "Für diese Demo werden wir mit Daten aus der  <a href=\"http://scdb.wustl.edu/about.php\" target=\"_blank\">Supreme Court Database</a> arbeiten. Diese Datenbank erfasst und klassifiziert jede einzelne Stimme aller SCOTUS-Richter\\*innen zwischen 1791 und 2021 (wird regelmässig aktualisiert)."
      ]
    },
    {
      "cell_type": "markdown",
      "metadata": {
        "id": "KwRtnSGPCkAa"
      },
      "source": [
        "### 3.1 Herunterladen\n",
        "Führe die untenstehenden Zellen aus, um den Datensatz herunterzuladen und ihn in einen ```pandas.DataFrame``` umzuwandeln.\n",
        "\n",
        "**Quelle:** [MODERN Database: 2022 Release 01, Justice Centered Data, Cases Organized by Supreme Court Citation](http://scdb.wustl.edu/data.php)"
      ]
    },
    {
      "cell_type": "code",
      "execution_count": 3,
      "metadata": {
        "id": "MqziiXPySPca",
        "colab": {
          "base_uri": "https://localhost:8080/"
        },
        "outputId": "c1bf8ceb-e9c6-437a-f801-49412d99e461"
      },
      "outputs": [
        {
          "output_type": "stream",
          "name": "stdout",
          "text": [
            "Mounted at /content/drive\n"
          ]
        }
      ],
      "source": [
        "drive.mount('/content/drive', force_remount=True) # Verbindung zu deinem Google Drive herstellen"
      ]
    },
    {
      "cell_type": "markdown",
      "metadata": {
        "id": "_IxWi75MRlKf"
      },
      "source": [
        "Erstelle einen Ordner für den Datensatz."
      ]
    },
    {
      "cell_type": "code",
      "execution_count": 4,
      "metadata": {
        "colab": {
          "base_uri": "https://localhost:8080/"
        },
        "id": "BFEQr5LtS5ok",
        "outputId": "80e341e5-cc3d-4755-cf0a-1f19ebcb35c5"
      },
      "outputs": [
        {
          "output_type": "stream",
          "name": "stdout",
          "text": [
            "/content/drive/MyDrive\n"
          ]
        }
      ],
      "source": [
        "cd drive/MyDrive"
      ]
    },
    {
      "cell_type": "code",
      "execution_count": 5,
      "metadata": {
        "id": "8tprl1mSRgvF",
        "colab": {
          "base_uri": "https://localhost:8080/"
        },
        "outputId": "d8bee4a3-a4dc-47f7-fe0b-26efff021771"
      },
      "outputs": [
        {
          "output_type": "stream",
          "name": "stdout",
          "text": [
            "mkdir: cannot create directory ‘hs23-legaltech-ml-demo’: File exists\n"
          ]
        }
      ],
      "source": [
        "mkdir hs23-legaltech-ml-demo # Bei der Fehlermeldung \"File exists\" kannst du einfach weiter"
      ]
    },
    {
      "cell_type": "markdown",
      "metadata": {
        "id": "XHOePzwBR-nl"
      },
      "source": [
        "Gehe in diesen Ordner."
      ]
    },
    {
      "cell_type": "code",
      "execution_count": 6,
      "metadata": {
        "colab": {
          "base_uri": "https://localhost:8080/"
        },
        "id": "zfRbhYsiR7hp",
        "outputId": "2294305a-6446-46f5-ea52-8e3b70e22aad"
      },
      "outputs": [
        {
          "output_type": "stream",
          "name": "stdout",
          "text": [
            "/content/drive/MyDrive/hs23-legaltech-ml-demo\n"
          ]
        }
      ],
      "source": [
        "cd hs23-legaltech-ml-demo"
      ]
    },
    {
      "cell_type": "markdown",
      "metadata": {
        "id": "N9jcVVboSeru"
      },
      "source": [
        "Lade den Datensatz auf diesem Ordner herunter."
      ]
    },
    {
      "cell_type": "code",
      "execution_count": 7,
      "metadata": {
        "colab": {
          "base_uri": "https://localhost:8080/"
        },
        "id": "UYknHbOzTJXh",
        "outputId": "2794a555-4643-4563-8e4f-da5e59b4d3ce"
      },
      "outputs": [
        {
          "output_type": "stream",
          "name": "stderr",
          "text": [
            "Retrieving folder list\n"
          ]
        },
        {
          "output_type": "stream",
          "name": "stdout",
          "text": [
            "Processing file 1PYn3nU8nkfVLP7z3Ch7HKMPdsOW_S1sl Klassifikation_SCOTUS.ipynb\n",
            "Processing file 1Eax_2y_trRN7MmgpsdL2p6Jgrd3G3Hao SCDB_2022_01_justiceCentered_Citation.csv\n",
            "Building directory structure completed\n"
          ]
        },
        {
          "output_type": "stream",
          "name": "stderr",
          "text": [
            "Retrieving folder list completed\n",
            "Building directory structure\n",
            "Downloading...\n",
            "From: https://drive.google.com/uc?id=1PYn3nU8nkfVLP7z3Ch7HKMPdsOW_S1sl\n",
            "To: /content/drive/MyDrive/hs23-legaltech-ml-demo/ML_Hands-On_SCOTUS/Klassifikation_SCOTUS.ipynb\n",
            "100%|██████████| 53.5k/53.5k [00:00<00:00, 36.0MB/s]\n",
            "Downloading...\n",
            "From: https://drive.google.com/uc?id=1Eax_2y_trRN7MmgpsdL2p6Jgrd3G3Hao\n",
            "To: /content/drive/MyDrive/hs23-legaltech-ml-demo/ML_Hands-On_SCOTUS/SCDB_2022_01_justiceCentered_Citation.csv\n",
            "100%|██████████| 28.8M/28.8M [00:00<00:00, 53.9MB/s]\n",
            "Download completed\n"
          ]
        },
        {
          "output_type": "execute_result",
          "data": {
            "text/plain": [
              "['/content/drive/MyDrive/hs23-legaltech-ml-demo/ML_Hands-On_SCOTUS/Klassifikation_SCOTUS.ipynb',\n",
              " '/content/drive/MyDrive/hs23-legaltech-ml-demo/ML_Hands-On_SCOTUS/SCDB_2022_01_justiceCentered_Citation.csv']"
            ]
          },
          "metadata": {},
          "execution_count": 7
        }
      ],
      "source": [
        "dataset_link = 'https://drive.google.com/drive/folders/17euMJ0_So7_MePtJrjt2kOJrPnt4Zc2M?usp=drive_link'\n",
        "gdown.download_folder(dataset_link, quiet=False)"
      ]
    },
    {
      "cell_type": "markdown",
      "metadata": {
        "id": "iGCougS1pvEU"
      },
      "source": [
        "Wandle die CSV-Datei in einen `pandas.DataFrame` (Tabelle) um."
      ]
    },
    {
      "cell_type": "code",
      "execution_count": 8,
      "metadata": {
        "id": "WggxBAEUtOZK"
      },
      "outputs": [],
      "source": [
        "df = pd.read_csv('ML_Hands-On_SCOTUS/SCDB_2022_01_justiceCentered_Citation.csv', encoding='ISO-8859-1')"
      ]
    },
    {
      "cell_type": "code",
      "execution_count": 9,
      "metadata": {
        "id": "k_CVExJww74u",
        "colab": {
          "base_uri": "https://localhost:8080/",
          "height": 409
        },
        "outputId": "b3ffbd82-3761-4897-f572-56275e010d27"
      },
      "outputs": [
        {
          "output_type": "execute_result",
          "data": {
            "text/plain": [
              "     caseId     docketId    caseIssuesId                voteId dateDecision  \\\n",
              "0  1946-001  1946-001-01  1946-001-01-01  1946-001-01-01-01-01   11/18/1946   \n",
              "1  1946-001  1946-001-01  1946-001-01-01  1946-001-01-01-01-02   11/18/1946   \n",
              "2  1946-001  1946-001-01  1946-001-01-01  1946-001-01-01-01-03   11/18/1946   \n",
              "3  1946-001  1946-001-01  1946-001-01-01  1946-001-01-01-01-04   11/18/1946   \n",
              "4  1946-001  1946-001-01  1946-001-01-01  1946-001-01-01-01-05   11/18/1946   \n",
              "\n",
              "   decisionType      usCite      sctCite      ledCite             lexisCite  \\\n",
              "0             1  329 U.S. 1  67 S. Ct. 6  91 L. Ed. 3  1946 U.S. LEXIS 1724   \n",
              "1             1  329 U.S. 1  67 S. Ct. 6  91 L. Ed. 3  1946 U.S. LEXIS 1724   \n",
              "2             1  329 U.S. 1  67 S. Ct. 6  91 L. Ed. 3  1946 U.S. LEXIS 1724   \n",
              "3             1  329 U.S. 1  67 S. Ct. 6  91 L. Ed. 3  1946 U.S. LEXIS 1724   \n",
              "4             1  329 U.S. 1  67 S. Ct. 6  91 L. Ed. 3  1946 U.S. LEXIS 1724   \n",
              "\n",
              "   ...  majVotes  minVotes justice   justiceName vote opinion direction  \\\n",
              "0  ...         8         1      86      HHBurton  2.0     1.0       1.0   \n",
              "1  ...         8         1      84     RHJackson  1.0     1.0       2.0   \n",
              "2  ...         8         1      81     WODouglas  1.0     1.0       2.0   \n",
              "3  ...         8         1      80  FFrankfurter  4.0     2.0       2.0   \n",
              "4  ...         8         1      79        SFReed  1.0     1.0       2.0   \n",
              "\n",
              "   majority  firstAgreement  secondAgreement  \n",
              "0       1.0             NaN              NaN  \n",
              "1       2.0             NaN              NaN  \n",
              "2       2.0             NaN              NaN  \n",
              "3       2.0             NaN              NaN  \n",
              "4       2.0             NaN              NaN  \n",
              "\n",
              "[5 rows x 61 columns]"
            ],
            "text/html": [
              "\n",
              "  <div id=\"df-2816ab9d-92d5-47d4-b93d-efd87135cc22\" class=\"colab-df-container\">\n",
              "    <div>\n",
              "<style scoped>\n",
              "    .dataframe tbody tr th:only-of-type {\n",
              "        vertical-align: middle;\n",
              "    }\n",
              "\n",
              "    .dataframe tbody tr th {\n",
              "        vertical-align: top;\n",
              "    }\n",
              "\n",
              "    .dataframe thead th {\n",
              "        text-align: right;\n",
              "    }\n",
              "</style>\n",
              "<table border=\"1\" class=\"dataframe\">\n",
              "  <thead>\n",
              "    <tr style=\"text-align: right;\">\n",
              "      <th></th>\n",
              "      <th>caseId</th>\n",
              "      <th>docketId</th>\n",
              "      <th>caseIssuesId</th>\n",
              "      <th>voteId</th>\n",
              "      <th>dateDecision</th>\n",
              "      <th>decisionType</th>\n",
              "      <th>usCite</th>\n",
              "      <th>sctCite</th>\n",
              "      <th>ledCite</th>\n",
              "      <th>lexisCite</th>\n",
              "      <th>...</th>\n",
              "      <th>majVotes</th>\n",
              "      <th>minVotes</th>\n",
              "      <th>justice</th>\n",
              "      <th>justiceName</th>\n",
              "      <th>vote</th>\n",
              "      <th>opinion</th>\n",
              "      <th>direction</th>\n",
              "      <th>majority</th>\n",
              "      <th>firstAgreement</th>\n",
              "      <th>secondAgreement</th>\n",
              "    </tr>\n",
              "  </thead>\n",
              "  <tbody>\n",
              "    <tr>\n",
              "      <th>0</th>\n",
              "      <td>1946-001</td>\n",
              "      <td>1946-001-01</td>\n",
              "      <td>1946-001-01-01</td>\n",
              "      <td>1946-001-01-01-01-01</td>\n",
              "      <td>11/18/1946</td>\n",
              "      <td>1</td>\n",
              "      <td>329 U.S. 1</td>\n",
              "      <td>67 S. Ct. 6</td>\n",
              "      <td>91 L. Ed. 3</td>\n",
              "      <td>1946 U.S. LEXIS 1724</td>\n",
              "      <td>...</td>\n",
              "      <td>8</td>\n",
              "      <td>1</td>\n",
              "      <td>86</td>\n",
              "      <td>HHBurton</td>\n",
              "      <td>2.0</td>\n",
              "      <td>1.0</td>\n",
              "      <td>1.0</td>\n",
              "      <td>1.0</td>\n",
              "      <td>NaN</td>\n",
              "      <td>NaN</td>\n",
              "    </tr>\n",
              "    <tr>\n",
              "      <th>1</th>\n",
              "      <td>1946-001</td>\n",
              "      <td>1946-001-01</td>\n",
              "      <td>1946-001-01-01</td>\n",
              "      <td>1946-001-01-01-01-02</td>\n",
              "      <td>11/18/1946</td>\n",
              "      <td>1</td>\n",
              "      <td>329 U.S. 1</td>\n",
              "      <td>67 S. Ct. 6</td>\n",
              "      <td>91 L. Ed. 3</td>\n",
              "      <td>1946 U.S. LEXIS 1724</td>\n",
              "      <td>...</td>\n",
              "      <td>8</td>\n",
              "      <td>1</td>\n",
              "      <td>84</td>\n",
              "      <td>RHJackson</td>\n",
              "      <td>1.0</td>\n",
              "      <td>1.0</td>\n",
              "      <td>2.0</td>\n",
              "      <td>2.0</td>\n",
              "      <td>NaN</td>\n",
              "      <td>NaN</td>\n",
              "    </tr>\n",
              "    <tr>\n",
              "      <th>2</th>\n",
              "      <td>1946-001</td>\n",
              "      <td>1946-001-01</td>\n",
              "      <td>1946-001-01-01</td>\n",
              "      <td>1946-001-01-01-01-03</td>\n",
              "      <td>11/18/1946</td>\n",
              "      <td>1</td>\n",
              "      <td>329 U.S. 1</td>\n",
              "      <td>67 S. Ct. 6</td>\n",
              "      <td>91 L. Ed. 3</td>\n",
              "      <td>1946 U.S. LEXIS 1724</td>\n",
              "      <td>...</td>\n",
              "      <td>8</td>\n",
              "      <td>1</td>\n",
              "      <td>81</td>\n",
              "      <td>WODouglas</td>\n",
              "      <td>1.0</td>\n",
              "      <td>1.0</td>\n",
              "      <td>2.0</td>\n",
              "      <td>2.0</td>\n",
              "      <td>NaN</td>\n",
              "      <td>NaN</td>\n",
              "    </tr>\n",
              "    <tr>\n",
              "      <th>3</th>\n",
              "      <td>1946-001</td>\n",
              "      <td>1946-001-01</td>\n",
              "      <td>1946-001-01-01</td>\n",
              "      <td>1946-001-01-01-01-04</td>\n",
              "      <td>11/18/1946</td>\n",
              "      <td>1</td>\n",
              "      <td>329 U.S. 1</td>\n",
              "      <td>67 S. Ct. 6</td>\n",
              "      <td>91 L. Ed. 3</td>\n",
              "      <td>1946 U.S. LEXIS 1724</td>\n",
              "      <td>...</td>\n",
              "      <td>8</td>\n",
              "      <td>1</td>\n",
              "      <td>80</td>\n",
              "      <td>FFrankfurter</td>\n",
              "      <td>4.0</td>\n",
              "      <td>2.0</td>\n",
              "      <td>2.0</td>\n",
              "      <td>2.0</td>\n",
              "      <td>NaN</td>\n",
              "      <td>NaN</td>\n",
              "    </tr>\n",
              "    <tr>\n",
              "      <th>4</th>\n",
              "      <td>1946-001</td>\n",
              "      <td>1946-001-01</td>\n",
              "      <td>1946-001-01-01</td>\n",
              "      <td>1946-001-01-01-01-05</td>\n",
              "      <td>11/18/1946</td>\n",
              "      <td>1</td>\n",
              "      <td>329 U.S. 1</td>\n",
              "      <td>67 S. Ct. 6</td>\n",
              "      <td>91 L. Ed. 3</td>\n",
              "      <td>1946 U.S. LEXIS 1724</td>\n",
              "      <td>...</td>\n",
              "      <td>8</td>\n",
              "      <td>1</td>\n",
              "      <td>79</td>\n",
              "      <td>SFReed</td>\n",
              "      <td>1.0</td>\n",
              "      <td>1.0</td>\n",
              "      <td>2.0</td>\n",
              "      <td>2.0</td>\n",
              "      <td>NaN</td>\n",
              "      <td>NaN</td>\n",
              "    </tr>\n",
              "  </tbody>\n",
              "</table>\n",
              "<p>5 rows × 61 columns</p>\n",
              "</div>\n",
              "    <div class=\"colab-df-buttons\">\n",
              "\n",
              "  <div class=\"colab-df-container\">\n",
              "    <button class=\"colab-df-convert\" onclick=\"convertToInteractive('df-2816ab9d-92d5-47d4-b93d-efd87135cc22')\"\n",
              "            title=\"Convert this dataframe to an interactive table.\"\n",
              "            style=\"display:none;\">\n",
              "\n",
              "  <svg xmlns=\"http://www.w3.org/2000/svg\" height=\"24px\" viewBox=\"0 -960 960 960\">\n",
              "    <path d=\"M120-120v-720h720v720H120Zm60-500h600v-160H180v160Zm220 220h160v-160H400v160Zm0 220h160v-160H400v160ZM180-400h160v-160H180v160Zm440 0h160v-160H620v160ZM180-180h160v-160H180v160Zm440 0h160v-160H620v160Z\"/>\n",
              "  </svg>\n",
              "    </button>\n",
              "\n",
              "  <style>\n",
              "    .colab-df-container {\n",
              "      display:flex;\n",
              "      gap: 12px;\n",
              "    }\n",
              "\n",
              "    .colab-df-convert {\n",
              "      background-color: #E8F0FE;\n",
              "      border: none;\n",
              "      border-radius: 50%;\n",
              "      cursor: pointer;\n",
              "      display: none;\n",
              "      fill: #1967D2;\n",
              "      height: 32px;\n",
              "      padding: 0 0 0 0;\n",
              "      width: 32px;\n",
              "    }\n",
              "\n",
              "    .colab-df-convert:hover {\n",
              "      background-color: #E2EBFA;\n",
              "      box-shadow: 0px 1px 2px rgba(60, 64, 67, 0.3), 0px 1px 3px 1px rgba(60, 64, 67, 0.15);\n",
              "      fill: #174EA6;\n",
              "    }\n",
              "\n",
              "    .colab-df-buttons div {\n",
              "      margin-bottom: 4px;\n",
              "    }\n",
              "\n",
              "    [theme=dark] .colab-df-convert {\n",
              "      background-color: #3B4455;\n",
              "      fill: #D2E3FC;\n",
              "    }\n",
              "\n",
              "    [theme=dark] .colab-df-convert:hover {\n",
              "      background-color: #434B5C;\n",
              "      box-shadow: 0px 1px 3px 1px rgba(0, 0, 0, 0.15);\n",
              "      filter: drop-shadow(0px 1px 2px rgba(0, 0, 0, 0.3));\n",
              "      fill: #FFFFFF;\n",
              "    }\n",
              "  </style>\n",
              "\n",
              "    <script>\n",
              "      const buttonEl =\n",
              "        document.querySelector('#df-2816ab9d-92d5-47d4-b93d-efd87135cc22 button.colab-df-convert');\n",
              "      buttonEl.style.display =\n",
              "        google.colab.kernel.accessAllowed ? 'block' : 'none';\n",
              "\n",
              "      async function convertToInteractive(key) {\n",
              "        const element = document.querySelector('#df-2816ab9d-92d5-47d4-b93d-efd87135cc22');\n",
              "        const dataTable =\n",
              "          await google.colab.kernel.invokeFunction('convertToInteractive',\n",
              "                                                    [key], {});\n",
              "        if (!dataTable) return;\n",
              "\n",
              "        const docLinkHtml = 'Like what you see? Visit the ' +\n",
              "          '<a target=\"_blank\" href=https://colab.research.google.com/notebooks/data_table.ipynb>data table notebook</a>'\n",
              "          + ' to learn more about interactive tables.';\n",
              "        element.innerHTML = '';\n",
              "        dataTable['output_type'] = 'display_data';\n",
              "        await google.colab.output.renderOutput(dataTable, element);\n",
              "        const docLink = document.createElement('div');\n",
              "        docLink.innerHTML = docLinkHtml;\n",
              "        element.appendChild(docLink);\n",
              "      }\n",
              "    </script>\n",
              "  </div>\n",
              "\n",
              "\n",
              "<div id=\"df-57263e06-6d54-4b2f-b89c-5e73b598013f\">\n",
              "  <button class=\"colab-df-quickchart\" onclick=\"quickchart('df-57263e06-6d54-4b2f-b89c-5e73b598013f')\"\n",
              "            title=\"Suggest charts\"\n",
              "            style=\"display:none;\">\n",
              "\n",
              "<svg xmlns=\"http://www.w3.org/2000/svg\" height=\"24px\"viewBox=\"0 0 24 24\"\n",
              "     width=\"24px\">\n",
              "    <g>\n",
              "        <path d=\"M19 3H5c-1.1 0-2 .9-2 2v14c0 1.1.9 2 2 2h14c1.1 0 2-.9 2-2V5c0-1.1-.9-2-2-2zM9 17H7v-7h2v7zm4 0h-2V7h2v10zm4 0h-2v-4h2v4z\"/>\n",
              "    </g>\n",
              "</svg>\n",
              "  </button>\n",
              "\n",
              "<style>\n",
              "  .colab-df-quickchart {\n",
              "      --bg-color: #E8F0FE;\n",
              "      --fill-color: #1967D2;\n",
              "      --hover-bg-color: #E2EBFA;\n",
              "      --hover-fill-color: #174EA6;\n",
              "      --disabled-fill-color: #AAA;\n",
              "      --disabled-bg-color: #DDD;\n",
              "  }\n",
              "\n",
              "  [theme=dark] .colab-df-quickchart {\n",
              "      --bg-color: #3B4455;\n",
              "      --fill-color: #D2E3FC;\n",
              "      --hover-bg-color: #434B5C;\n",
              "      --hover-fill-color: #FFFFFF;\n",
              "      --disabled-bg-color: #3B4455;\n",
              "      --disabled-fill-color: #666;\n",
              "  }\n",
              "\n",
              "  .colab-df-quickchart {\n",
              "    background-color: var(--bg-color);\n",
              "    border: none;\n",
              "    border-radius: 50%;\n",
              "    cursor: pointer;\n",
              "    display: none;\n",
              "    fill: var(--fill-color);\n",
              "    height: 32px;\n",
              "    padding: 0;\n",
              "    width: 32px;\n",
              "  }\n",
              "\n",
              "  .colab-df-quickchart:hover {\n",
              "    background-color: var(--hover-bg-color);\n",
              "    box-shadow: 0 1px 2px rgba(60, 64, 67, 0.3), 0 1px 3px 1px rgba(60, 64, 67, 0.15);\n",
              "    fill: var(--button-hover-fill-color);\n",
              "  }\n",
              "\n",
              "  .colab-df-quickchart-complete:disabled,\n",
              "  .colab-df-quickchart-complete:disabled:hover {\n",
              "    background-color: var(--disabled-bg-color);\n",
              "    fill: var(--disabled-fill-color);\n",
              "    box-shadow: none;\n",
              "  }\n",
              "\n",
              "  .colab-df-spinner {\n",
              "    border: 2px solid var(--fill-color);\n",
              "    border-color: transparent;\n",
              "    border-bottom-color: var(--fill-color);\n",
              "    animation:\n",
              "      spin 1s steps(1) infinite;\n",
              "  }\n",
              "\n",
              "  @keyframes spin {\n",
              "    0% {\n",
              "      border-color: transparent;\n",
              "      border-bottom-color: var(--fill-color);\n",
              "      border-left-color: var(--fill-color);\n",
              "    }\n",
              "    20% {\n",
              "      border-color: transparent;\n",
              "      border-left-color: var(--fill-color);\n",
              "      border-top-color: var(--fill-color);\n",
              "    }\n",
              "    30% {\n",
              "      border-color: transparent;\n",
              "      border-left-color: var(--fill-color);\n",
              "      border-top-color: var(--fill-color);\n",
              "      border-right-color: var(--fill-color);\n",
              "    }\n",
              "    40% {\n",
              "      border-color: transparent;\n",
              "      border-right-color: var(--fill-color);\n",
              "      border-top-color: var(--fill-color);\n",
              "    }\n",
              "    60% {\n",
              "      border-color: transparent;\n",
              "      border-right-color: var(--fill-color);\n",
              "    }\n",
              "    80% {\n",
              "      border-color: transparent;\n",
              "      border-right-color: var(--fill-color);\n",
              "      border-bottom-color: var(--fill-color);\n",
              "    }\n",
              "    90% {\n",
              "      border-color: transparent;\n",
              "      border-bottom-color: var(--fill-color);\n",
              "    }\n",
              "  }\n",
              "</style>\n",
              "\n",
              "  <script>\n",
              "    async function quickchart(key) {\n",
              "      const quickchartButtonEl =\n",
              "        document.querySelector('#' + key + ' button');\n",
              "      quickchartButtonEl.disabled = true;  // To prevent multiple clicks.\n",
              "      quickchartButtonEl.classList.add('colab-df-spinner');\n",
              "      try {\n",
              "        const charts = await google.colab.kernel.invokeFunction(\n",
              "            'suggestCharts', [key], {});\n",
              "      } catch (error) {\n",
              "        console.error('Error during call to suggestCharts:', error);\n",
              "      }\n",
              "      quickchartButtonEl.classList.remove('colab-df-spinner');\n",
              "      quickchartButtonEl.classList.add('colab-df-quickchart-complete');\n",
              "    }\n",
              "    (() => {\n",
              "      let quickchartButtonEl =\n",
              "        document.querySelector('#df-57263e06-6d54-4b2f-b89c-5e73b598013f button');\n",
              "      quickchartButtonEl.style.display =\n",
              "        google.colab.kernel.accessAllowed ? 'block' : 'none';\n",
              "    })();\n",
              "  </script>\n",
              "</div>\n",
              "    </div>\n",
              "  </div>\n"
            ]
          },
          "metadata": {},
          "execution_count": 9
        }
      ],
      "source": [
        "df.head(5) # die ersten 5 Einträge anzeigen"
      ]
    },
    {
      "cell_type": "code",
      "execution_count": 10,
      "metadata": {
        "id": "rqP8Kvt6qv7E",
        "colab": {
          "base_uri": "https://localhost:8080/"
        },
        "outputId": "233d82d4-2a97-42c6-9e4a-28e80b7170e8"
      },
      "outputs": [
        {
          "output_type": "stream",
          "name": "stdout",
          "text": [
            "Der Datensatz enthält insgesamt:\n",
            "  * 82015 Datenpunkte\n",
            "  * 61 Spalten bzw. Variablen:\n",
            "\tIndex(['caseId', 'docketId', 'caseIssuesId', 'voteId', 'dateDecision',\n",
            "       'decisionType', 'usCite', 'sctCite', 'ledCite', 'lexisCite', 'term',\n",
            "       'naturalCourt', 'chief', 'docket', 'caseName', 'dateArgument',\n",
            "       'dateRearg', 'petitioner', 'petitionerState', 'respondent',\n",
            "       'respondentState', 'jurisdiction', 'adminAction', 'adminActionState',\n",
            "       'threeJudgeFdc', 'caseOrigin', 'caseOriginState', 'caseSource',\n",
            "       'caseSourceState', 'lcDisagreement', 'certReason', 'lcDisposition',\n",
            "       'lcDispositionDirection', 'declarationUncon', 'caseDisposition',\n",
            "       'caseDispositionUnusual', 'partyWinning', 'precedentAlteration',\n",
            "       'voteUnclear', 'issue', 'issueArea', 'decisionDirection',\n",
            "       'decisionDirectionDissent', 'authorityDecision1', 'authorityDecision2',\n",
            "       'lawType', 'lawSupp', 'lawMinor', 'majOpinWriter', 'majOpinAssigner',\n",
            "       'splitVote', 'majVotes', 'minVotes', 'justice', 'justiceName', 'vote',\n",
            "       'opinion', 'direction', 'majority', 'firstAgreement',\n",
            "       'secondAgreement'],\n",
            "      dtype='object')\n"
          ]
        }
      ],
      "source": [
        "cols = df.columns\n",
        "print(f'Der Datensatz enthält insgesamt:\\n  * {df.shape[0]} Datenpunkte\\n  * {len(cols)} Spalten bzw. Variablen:\\n\\t{cols}')"
      ]
    },
    {
      "cell_type": "markdown",
      "metadata": {
        "id": "MNZ8ji2owBZO"
      },
      "source": [
        "### 3.2 Bereinigen (Teil des Pre-processing)\n",
        "\n",
        "Wir arbeiten in dieser Demo mit einer Teilmenge des Datensatzes.\n",
        "\n",
        "#### 3.2.1 Zeitraum\n",
        "\n",
        "Wir konzentrieren uns auf die Entscheide von SCOTUS-Richter\\*innen, die mindestens fünf Jahre im [Roberts-Gericht (2005-heute)](https://supreme.justia.com/supreme-court-history/roberts-court/) gedient haben.\n",
        "* John Paul Stevens (1975-2010)\n",
        "* Antonin Scalia (1986-2016)\n",
        "* Anthony Kennedy (1988-2018)\n",
        "* Clarence Thomas (1991-heute)\n",
        "* Ruth Bader Ginsberg (1993-2020)\n",
        "* Stephen Breyer (1994-2022)\n",
        "* John G. Roberts (2005-heute)\n",
        "* Samuel Alito (2006-heute)\n",
        "* Sonia Sotomayor (2009-heute)\n",
        "* Elena Kagan (2010-heute)\n",
        "* Neil Gorsuch (2017-heute)\n",
        "* Brett Kavanaugh (2018-heute)\n",
        "\n",
        "Nicht aufgenommen: Sandra Day O'Connor (1981-2006), David Souter (1990-2009), Amy Coney Barrett (2020-heute), Ketanji Brown Jackson (2022-heute)\n",
        "\n",
        "#### 3.2.2 Rechtsgebiete\n",
        "Zudem werden wir uns nur mit sieben groben Rechtsgebieten beschäftigen, und zwar:\n",
        "* Criminal procedure (DE: Strafverfahren)\n",
        "* Civil rights (DE: Bürgerrechte)\n",
        "* First Amendment (DE: 1\\. Zusatzartikel zur US-Verfassung)\n",
        "* Privacy (DE: Privatsphäre)\n",
        "* Judicial power (DE: Judikative)\n",
        "* Interstate relations (DE: zwischenstaatliche Verhältnisse)\n",
        "* Economic activity (DE: Wirtschaftstätigkeit)\n",
        "\n",
        "#### 3.2.3 Variablen\n",
        "Der ursprüngliche Datensatz umfasst insgesamt 61 Variablen. In dieser Klassifikations-Pipeline interessieren wir uns für 18:\n",
        "* `caseId`, `caseName`: ID bzw. Titel des Falles\n",
        "* `sctCite`, `ledCite`, `lexisCite`: Zitierung (unterschiedliche Formate)\n",
        "* `dateDecision`: Datum des Entscheids (MM/TT/JJJJ)\n",
        "* `issueArea`: Thema (allgemein)\n",
        "* `issue`: Thema (spezifisch)\n",
        "* `chief`: Name des obersten Richters (US-EN: Chief Justice)\n",
        "* `justiceID`, `justiceName`: ID bzw. Name der Richterin oder des Richters\n",
        "* `vote`: Votum\n",
        "  * 1=majority\n",
        "  * 2=dissent (DE: Sondervotum)\n",
        "* `opinion`: Votum der Richterin oder des Richters\n",
        "  * 1=kein Votum verfasst\n",
        "  * 2=individuelles Votum verfasst\n",
        "  * 3=Votum mitverfasst\n",
        "* `decisionDirection`: Tendenz des Entscheids\n",
        "  * 1=konservativ\n",
        "  * 2=liberal\n",
        "  * 3=nicht bestimmbar\n",
        "* `majOpinWriter`: Verfasser*in der Mehrheitsmeinung\n",
        "* `majVotes`, `minVotes`: Anzahl an Richter*innen, die sich dem Mehrheits- bzw. Minderheitsvotum (EN: dissenting opinion) angeschlossen haben\n",
        "* `precedentAlteration`: Veränderung eines Präzedenzfalls\n",
        "  * 0=nein (keine Veränderung)\n",
        "  * 1=ja\n",
        "\n",
        "#### 3.2.4 Code zur Bereinigung\n",
        "Führe die untenstehenden Zellen aus, um den Datensatz zu bereinigen. Du brauchst dir den folgenden Code nicht anzuschauen, es sei denn, du möchtest einiges über Datenbereinigung und -vorbereitung erfahren!"
      ]
    },
    {
      "cell_type": "code",
      "execution_count": 11,
      "metadata": {
        "id": "6vuvVOa73htg"
      },
      "outputs": [],
      "source": [
        "variables = [ # beliebige Variablen, siehe oben für Definitionen und mögliche Werte\n",
        "    'caseId', 'caseName', 'sctCite', 'ledCite', 'lexisCite', # ID Variablen\n",
        "    'dateDecision', 'chief', # Zeitvariablen\n",
        "    'issueArea', 'issue', # thematische Variablen\n",
        "    'justice', 'justiceName', 'vote', 'opinion', 'decisionDirection', # Votumsvariablen\n",
        "    'majOpinWriter', 'majVotes', 'minVotes', 'precedentAlteration' # Votumsvariablen\n",
        "]\n",
        "\n",
        "issue_area_id = { # Fallthemen\n",
        "    1: 'criminal procedure',\n",
        "    2: 'civil rights',\n",
        "    3: 'first amendment',\n",
        "    5: 'privacy',\n",
        "    8: 'economic activity',\n",
        "    9: 'judicial power',\n",
        "    11: 'interstate relations'\n",
        "}\n",
        "\n",
        "justices = [ # Richter*innen, die mindestens 5 Jahre im Roberts-Gericht gedient haben\n",
        "    'JPStevens', 'AScalia', 'AMKennedy', 'CThomas', 'RBGinsburg', 'SGBreyer', 'JGRoberts', 'SAAlito', 'SSotomayor', 'EKagan', 'NMGorsuch', 'BMKavanaugh'\n",
        "]\n",
        "\n",
        "vote_types = { # Wir nehmen entweder majority oder dissenting opinion auf\n",
        "    1: 'majority',\n",
        "    2: 'dissent'\n",
        "}"
      ]
    },
    {
      "cell_type": "code",
      "execution_count": 12,
      "metadata": {
        "id": "po5neu135DfJ"
      },
      "outputs": [],
      "source": [
        "# Hilfsfunktion\n",
        "def parse_decision_date(date: str) -> Tuple[int, int]:\n",
        "  \"\"\"Eine Datums-Kettenzeiche des Formats (M)M/(T)T/JJJJ in (M)M, (T)T und JJJJ (Tupel) aufteilen.\"\"\"\n",
        "  month, day, year = re.search(r'^(\\d{,2}).(\\d{,2}).(\\d{4})$', date).group(1, 2, 3)\n",
        "  return (int(year), int(month), int(day))"
      ]
    },
    {
      "cell_type": "code",
      "execution_count": 13,
      "metadata": {
        "id": "t8GBnC2hMyz6"
      },
      "outputs": [],
      "source": [
        "# Teilmenge definieren\n",
        "scotus = df[variables] # beliebige Variablen behalten\n",
        "scotus = scotus.dropna(axis='index') # Zeilen mit fehlenden Informationen (NaN = not a number) entfernen\n",
        "scotus = scotus.loc[scotus['chief'] == 'Roberts'] # Fälle aus dem Roberts-Gericht\n",
        "scotus = scotus.loc[scotus['justiceName'].apply(lambda justice: justice in justices)] # Richter*innen, die seit mindestens 5 Jahren im Roberts-Gericht dienen\n",
        "scotus = scotus.loc[scotus['issueArea'].apply(lambda issue: issue in issue_area_id.keys())] # beliebige Themen behalten\n",
        "scotus = scotus.loc[scotus['vote'].apply(lambda vote: vote in vote_types)] # nur Mehrheits- und Sondervoten behalten\n",
        "scotus['vote'] = scotus['vote'].replace(2, 0) # Sondervoten als 0 umdefinieren (von 2)\n",
        "scotus = scotus.astype({'issueArea': 'int16', 'issue': 'int16', 'vote': 'int16', 'opinion': 'int16', 'decisionDirection': 'int16', 'majOpinWriter': 'int16', 'precedentAlteration': 'int16'}) # Zahlen in integer (DE: Ganzzahl) umwandeln\n",
        "\n",
        "# Variable 'dateDecision' in Jahr, Monat und Tag aufteilen\n",
        "years = scotus.apply(lambda x: parse_decision_date(x['dateDecision'])[0], axis=1)\n",
        "months = scotus.apply(lambda x: parse_decision_date(x['dateDecision'])[1], axis=1)\n",
        "days = scotus.apply(lambda x: parse_decision_date(x['dateDecision'])[2], axis=1)\n",
        "\n",
        "scotus.insert(6, 'yearDecision', years) # Jahr-Spalte hinzufügen\n",
        "scotus.insert(7, 'monthDecision', months) # Monat-Spalte hinzufügen\n",
        "scotus.insert(8, 'dayDecision', days) # Tag-Spalte hinzufügen\n",
        "scotus = scotus.drop('dateDecision', axis='columns') # ursprüngliche Datum-Spalte entfernen\n",
        "\n",
        "# Indexierung zurücksetzen\n",
        "scotus = scotus.reset_index()"
      ]
    },
    {
      "cell_type": "code",
      "execution_count": 14,
      "metadata": {
        "id": "mUKNe90Aii_5",
        "colab": {
          "base_uri": "https://localhost:8080/",
          "height": 670
        },
        "outputId": "1ff0e6fe-12f2-4d4b-8d07-996b8767c65c"
      },
      "outputs": [
        {
          "output_type": "execute_result",
          "data": {
            "text/plain": [
              "   index    caseId                               caseName         sctCite  \\\n",
              "0  70540  2005-006  UNITED STATES v. JOSEPH OLSON, et al.  126 S. Ct. 510   \n",
              "1  70542  2005-006  UNITED STATES v. JOSEPH OLSON, et al.  126 S. Ct. 510   \n",
              "2  70543  2005-006  UNITED STATES v. JOSEPH OLSON, et al.  126 S. Ct. 510   \n",
              "3  70545  2005-006  UNITED STATES v. JOSEPH OLSON, et al.  126 S. Ct. 510   \n",
              "4  70546  2005-006  UNITED STATES v. JOSEPH OLSON, et al.  126 S. Ct. 510   \n",
              "\n",
              "             ledCite             lexisCite  yearDecision  monthDecision  \\\n",
              "0  163 L. Ed. 2d 306  2005 U.S. LEXIS 8372          2005             11   \n",
              "1  163 L. Ed. 2d 306  2005 U.S. LEXIS 8372          2005             11   \n",
              "2  163 L. Ed. 2d 306  2005 U.S. LEXIS 8372          2005             11   \n",
              "3  163 L. Ed. 2d 306  2005 U.S. LEXIS 8372          2005             11   \n",
              "4  163 L. Ed. 2d 306  2005 U.S. LEXIS 8372          2005             11   \n",
              "\n",
              "   dayDecision    chief  ...  issue  justice  justiceName vote  opinion  \\\n",
              "0            8  Roberts  ...  14534      103    JPStevens    1        1   \n",
              "1            8  Roberts  ...  14534      105      AScalia    1        1   \n",
              "2            8  Roberts  ...  14534      106    AMKennedy    1        1   \n",
              "3            8  Roberts  ...  14534      108      CThomas    1        1   \n",
              "4            8  Roberts  ...  14534      109   RBGinsburg    1        1   \n",
              "\n",
              "   decisionDirection  majOpinWriter  majVotes  minVotes  precedentAlteration  \n",
              "0                  1            110         9         0                    0  \n",
              "1                  1            110         9         0                    0  \n",
              "2                  1            110         9         0                    0  \n",
              "3                  1            110         9         0                    0  \n",
              "4                  1            110         9         0                    0  \n",
              "\n",
              "[5 rows x 21 columns]"
            ],
            "text/html": [
              "\n",
              "  <div id=\"df-0472a346-5047-4446-870f-30af067a2fc3\" class=\"colab-df-container\">\n",
              "    <div>\n",
              "<style scoped>\n",
              "    .dataframe tbody tr th:only-of-type {\n",
              "        vertical-align: middle;\n",
              "    }\n",
              "\n",
              "    .dataframe tbody tr th {\n",
              "        vertical-align: top;\n",
              "    }\n",
              "\n",
              "    .dataframe thead th {\n",
              "        text-align: right;\n",
              "    }\n",
              "</style>\n",
              "<table border=\"1\" class=\"dataframe\">\n",
              "  <thead>\n",
              "    <tr style=\"text-align: right;\">\n",
              "      <th></th>\n",
              "      <th>index</th>\n",
              "      <th>caseId</th>\n",
              "      <th>caseName</th>\n",
              "      <th>sctCite</th>\n",
              "      <th>ledCite</th>\n",
              "      <th>lexisCite</th>\n",
              "      <th>yearDecision</th>\n",
              "      <th>monthDecision</th>\n",
              "      <th>dayDecision</th>\n",
              "      <th>chief</th>\n",
              "      <th>...</th>\n",
              "      <th>issue</th>\n",
              "      <th>justice</th>\n",
              "      <th>justiceName</th>\n",
              "      <th>vote</th>\n",
              "      <th>opinion</th>\n",
              "      <th>decisionDirection</th>\n",
              "      <th>majOpinWriter</th>\n",
              "      <th>majVotes</th>\n",
              "      <th>minVotes</th>\n",
              "      <th>precedentAlteration</th>\n",
              "    </tr>\n",
              "  </thead>\n",
              "  <tbody>\n",
              "    <tr>\n",
              "      <th>0</th>\n",
              "      <td>70540</td>\n",
              "      <td>2005-006</td>\n",
              "      <td>UNITED STATES v. JOSEPH OLSON, et al.</td>\n",
              "      <td>126 S. Ct. 510</td>\n",
              "      <td>163 L. Ed. 2d 306</td>\n",
              "      <td>2005 U.S. LEXIS 8372</td>\n",
              "      <td>2005</td>\n",
              "      <td>11</td>\n",
              "      <td>8</td>\n",
              "      <td>Roberts</td>\n",
              "      <td>...</td>\n",
              "      <td>14534</td>\n",
              "      <td>103</td>\n",
              "      <td>JPStevens</td>\n",
              "      <td>1</td>\n",
              "      <td>1</td>\n",
              "      <td>1</td>\n",
              "      <td>110</td>\n",
              "      <td>9</td>\n",
              "      <td>0</td>\n",
              "      <td>0</td>\n",
              "    </tr>\n",
              "    <tr>\n",
              "      <th>1</th>\n",
              "      <td>70542</td>\n",
              "      <td>2005-006</td>\n",
              "      <td>UNITED STATES v. JOSEPH OLSON, et al.</td>\n",
              "      <td>126 S. Ct. 510</td>\n",
              "      <td>163 L. Ed. 2d 306</td>\n",
              "      <td>2005 U.S. LEXIS 8372</td>\n",
              "      <td>2005</td>\n",
              "      <td>11</td>\n",
              "      <td>8</td>\n",
              "      <td>Roberts</td>\n",
              "      <td>...</td>\n",
              "      <td>14534</td>\n",
              "      <td>105</td>\n",
              "      <td>AScalia</td>\n",
              "      <td>1</td>\n",
              "      <td>1</td>\n",
              "      <td>1</td>\n",
              "      <td>110</td>\n",
              "      <td>9</td>\n",
              "      <td>0</td>\n",
              "      <td>0</td>\n",
              "    </tr>\n",
              "    <tr>\n",
              "      <th>2</th>\n",
              "      <td>70543</td>\n",
              "      <td>2005-006</td>\n",
              "      <td>UNITED STATES v. JOSEPH OLSON, et al.</td>\n",
              "      <td>126 S. Ct. 510</td>\n",
              "      <td>163 L. Ed. 2d 306</td>\n",
              "      <td>2005 U.S. LEXIS 8372</td>\n",
              "      <td>2005</td>\n",
              "      <td>11</td>\n",
              "      <td>8</td>\n",
              "      <td>Roberts</td>\n",
              "      <td>...</td>\n",
              "      <td>14534</td>\n",
              "      <td>106</td>\n",
              "      <td>AMKennedy</td>\n",
              "      <td>1</td>\n",
              "      <td>1</td>\n",
              "      <td>1</td>\n",
              "      <td>110</td>\n",
              "      <td>9</td>\n",
              "      <td>0</td>\n",
              "      <td>0</td>\n",
              "    </tr>\n",
              "    <tr>\n",
              "      <th>3</th>\n",
              "      <td>70545</td>\n",
              "      <td>2005-006</td>\n",
              "      <td>UNITED STATES v. JOSEPH OLSON, et al.</td>\n",
              "      <td>126 S. Ct. 510</td>\n",
              "      <td>163 L. Ed. 2d 306</td>\n",
              "      <td>2005 U.S. LEXIS 8372</td>\n",
              "      <td>2005</td>\n",
              "      <td>11</td>\n",
              "      <td>8</td>\n",
              "      <td>Roberts</td>\n",
              "      <td>...</td>\n",
              "      <td>14534</td>\n",
              "      <td>108</td>\n",
              "      <td>CThomas</td>\n",
              "      <td>1</td>\n",
              "      <td>1</td>\n",
              "      <td>1</td>\n",
              "      <td>110</td>\n",
              "      <td>9</td>\n",
              "      <td>0</td>\n",
              "      <td>0</td>\n",
              "    </tr>\n",
              "    <tr>\n",
              "      <th>4</th>\n",
              "      <td>70546</td>\n",
              "      <td>2005-006</td>\n",
              "      <td>UNITED STATES v. JOSEPH OLSON, et al.</td>\n",
              "      <td>126 S. Ct. 510</td>\n",
              "      <td>163 L. Ed. 2d 306</td>\n",
              "      <td>2005 U.S. LEXIS 8372</td>\n",
              "      <td>2005</td>\n",
              "      <td>11</td>\n",
              "      <td>8</td>\n",
              "      <td>Roberts</td>\n",
              "      <td>...</td>\n",
              "      <td>14534</td>\n",
              "      <td>109</td>\n",
              "      <td>RBGinsburg</td>\n",
              "      <td>1</td>\n",
              "      <td>1</td>\n",
              "      <td>1</td>\n",
              "      <td>110</td>\n",
              "      <td>9</td>\n",
              "      <td>0</td>\n",
              "      <td>0</td>\n",
              "    </tr>\n",
              "  </tbody>\n",
              "</table>\n",
              "<p>5 rows × 21 columns</p>\n",
              "</div>\n",
              "    <div class=\"colab-df-buttons\">\n",
              "\n",
              "  <div class=\"colab-df-container\">\n",
              "    <button class=\"colab-df-convert\" onclick=\"convertToInteractive('df-0472a346-5047-4446-870f-30af067a2fc3')\"\n",
              "            title=\"Convert this dataframe to an interactive table.\"\n",
              "            style=\"display:none;\">\n",
              "\n",
              "  <svg xmlns=\"http://www.w3.org/2000/svg\" height=\"24px\" viewBox=\"0 -960 960 960\">\n",
              "    <path d=\"M120-120v-720h720v720H120Zm60-500h600v-160H180v160Zm220 220h160v-160H400v160Zm0 220h160v-160H400v160ZM180-400h160v-160H180v160Zm440 0h160v-160H620v160ZM180-180h160v-160H180v160Zm440 0h160v-160H620v160Z\"/>\n",
              "  </svg>\n",
              "    </button>\n",
              "\n",
              "  <style>\n",
              "    .colab-df-container {\n",
              "      display:flex;\n",
              "      gap: 12px;\n",
              "    }\n",
              "\n",
              "    .colab-df-convert {\n",
              "      background-color: #E8F0FE;\n",
              "      border: none;\n",
              "      border-radius: 50%;\n",
              "      cursor: pointer;\n",
              "      display: none;\n",
              "      fill: #1967D2;\n",
              "      height: 32px;\n",
              "      padding: 0 0 0 0;\n",
              "      width: 32px;\n",
              "    }\n",
              "\n",
              "    .colab-df-convert:hover {\n",
              "      background-color: #E2EBFA;\n",
              "      box-shadow: 0px 1px 2px rgba(60, 64, 67, 0.3), 0px 1px 3px 1px rgba(60, 64, 67, 0.15);\n",
              "      fill: #174EA6;\n",
              "    }\n",
              "\n",
              "    .colab-df-buttons div {\n",
              "      margin-bottom: 4px;\n",
              "    }\n",
              "\n",
              "    [theme=dark] .colab-df-convert {\n",
              "      background-color: #3B4455;\n",
              "      fill: #D2E3FC;\n",
              "    }\n",
              "\n",
              "    [theme=dark] .colab-df-convert:hover {\n",
              "      background-color: #434B5C;\n",
              "      box-shadow: 0px 1px 3px 1px rgba(0, 0, 0, 0.15);\n",
              "      filter: drop-shadow(0px 1px 2px rgba(0, 0, 0, 0.3));\n",
              "      fill: #FFFFFF;\n",
              "    }\n",
              "  </style>\n",
              "\n",
              "    <script>\n",
              "      const buttonEl =\n",
              "        document.querySelector('#df-0472a346-5047-4446-870f-30af067a2fc3 button.colab-df-convert');\n",
              "      buttonEl.style.display =\n",
              "        google.colab.kernel.accessAllowed ? 'block' : 'none';\n",
              "\n",
              "      async function convertToInteractive(key) {\n",
              "        const element = document.querySelector('#df-0472a346-5047-4446-870f-30af067a2fc3');\n",
              "        const dataTable =\n",
              "          await google.colab.kernel.invokeFunction('convertToInteractive',\n",
              "                                                    [key], {});\n",
              "        if (!dataTable) return;\n",
              "\n",
              "        const docLinkHtml = 'Like what you see? Visit the ' +\n",
              "          '<a target=\"_blank\" href=https://colab.research.google.com/notebooks/data_table.ipynb>data table notebook</a>'\n",
              "          + ' to learn more about interactive tables.';\n",
              "        element.innerHTML = '';\n",
              "        dataTable['output_type'] = 'display_data';\n",
              "        await google.colab.output.renderOutput(dataTable, element);\n",
              "        const docLink = document.createElement('div');\n",
              "        docLink.innerHTML = docLinkHtml;\n",
              "        element.appendChild(docLink);\n",
              "      }\n",
              "    </script>\n",
              "  </div>\n",
              "\n",
              "\n",
              "<div id=\"df-c911399c-46ee-41b3-be0f-0d41a06af070\">\n",
              "  <button class=\"colab-df-quickchart\" onclick=\"quickchart('df-c911399c-46ee-41b3-be0f-0d41a06af070')\"\n",
              "            title=\"Suggest charts\"\n",
              "            style=\"display:none;\">\n",
              "\n",
              "<svg xmlns=\"http://www.w3.org/2000/svg\" height=\"24px\"viewBox=\"0 0 24 24\"\n",
              "     width=\"24px\">\n",
              "    <g>\n",
              "        <path d=\"M19 3H5c-1.1 0-2 .9-2 2v14c0 1.1.9 2 2 2h14c1.1 0 2-.9 2-2V5c0-1.1-.9-2-2-2zM9 17H7v-7h2v7zm4 0h-2V7h2v10zm4 0h-2v-4h2v4z\"/>\n",
              "    </g>\n",
              "</svg>\n",
              "  </button>\n",
              "\n",
              "<style>\n",
              "  .colab-df-quickchart {\n",
              "      --bg-color: #E8F0FE;\n",
              "      --fill-color: #1967D2;\n",
              "      --hover-bg-color: #E2EBFA;\n",
              "      --hover-fill-color: #174EA6;\n",
              "      --disabled-fill-color: #AAA;\n",
              "      --disabled-bg-color: #DDD;\n",
              "  }\n",
              "\n",
              "  [theme=dark] .colab-df-quickchart {\n",
              "      --bg-color: #3B4455;\n",
              "      --fill-color: #D2E3FC;\n",
              "      --hover-bg-color: #434B5C;\n",
              "      --hover-fill-color: #FFFFFF;\n",
              "      --disabled-bg-color: #3B4455;\n",
              "      --disabled-fill-color: #666;\n",
              "  }\n",
              "\n",
              "  .colab-df-quickchart {\n",
              "    background-color: var(--bg-color);\n",
              "    border: none;\n",
              "    border-radius: 50%;\n",
              "    cursor: pointer;\n",
              "    display: none;\n",
              "    fill: var(--fill-color);\n",
              "    height: 32px;\n",
              "    padding: 0;\n",
              "    width: 32px;\n",
              "  }\n",
              "\n",
              "  .colab-df-quickchart:hover {\n",
              "    background-color: var(--hover-bg-color);\n",
              "    box-shadow: 0 1px 2px rgba(60, 64, 67, 0.3), 0 1px 3px 1px rgba(60, 64, 67, 0.15);\n",
              "    fill: var(--button-hover-fill-color);\n",
              "  }\n",
              "\n",
              "  .colab-df-quickchart-complete:disabled,\n",
              "  .colab-df-quickchart-complete:disabled:hover {\n",
              "    background-color: var(--disabled-bg-color);\n",
              "    fill: var(--disabled-fill-color);\n",
              "    box-shadow: none;\n",
              "  }\n",
              "\n",
              "  .colab-df-spinner {\n",
              "    border: 2px solid var(--fill-color);\n",
              "    border-color: transparent;\n",
              "    border-bottom-color: var(--fill-color);\n",
              "    animation:\n",
              "      spin 1s steps(1) infinite;\n",
              "  }\n",
              "\n",
              "  @keyframes spin {\n",
              "    0% {\n",
              "      border-color: transparent;\n",
              "      border-bottom-color: var(--fill-color);\n",
              "      border-left-color: var(--fill-color);\n",
              "    }\n",
              "    20% {\n",
              "      border-color: transparent;\n",
              "      border-left-color: var(--fill-color);\n",
              "      border-top-color: var(--fill-color);\n",
              "    }\n",
              "    30% {\n",
              "      border-color: transparent;\n",
              "      border-left-color: var(--fill-color);\n",
              "      border-top-color: var(--fill-color);\n",
              "      border-right-color: var(--fill-color);\n",
              "    }\n",
              "    40% {\n",
              "      border-color: transparent;\n",
              "      border-right-color: var(--fill-color);\n",
              "      border-top-color: var(--fill-color);\n",
              "    }\n",
              "    60% {\n",
              "      border-color: transparent;\n",
              "      border-right-color: var(--fill-color);\n",
              "    }\n",
              "    80% {\n",
              "      border-color: transparent;\n",
              "      border-right-color: var(--fill-color);\n",
              "      border-bottom-color: var(--fill-color);\n",
              "    }\n",
              "    90% {\n",
              "      border-color: transparent;\n",
              "      border-bottom-color: var(--fill-color);\n",
              "    }\n",
              "  }\n",
              "</style>\n",
              "\n",
              "  <script>\n",
              "    async function quickchart(key) {\n",
              "      const quickchartButtonEl =\n",
              "        document.querySelector('#' + key + ' button');\n",
              "      quickchartButtonEl.disabled = true;  // To prevent multiple clicks.\n",
              "      quickchartButtonEl.classList.add('colab-df-spinner');\n",
              "      try {\n",
              "        const charts = await google.colab.kernel.invokeFunction(\n",
              "            'suggestCharts', [key], {});\n",
              "      } catch (error) {\n",
              "        console.error('Error during call to suggestCharts:', error);\n",
              "      }\n",
              "      quickchartButtonEl.classList.remove('colab-df-spinner');\n",
              "      quickchartButtonEl.classList.add('colab-df-quickchart-complete');\n",
              "    }\n",
              "    (() => {\n",
              "      let quickchartButtonEl =\n",
              "        document.querySelector('#df-c911399c-46ee-41b3-be0f-0d41a06af070 button');\n",
              "      quickchartButtonEl.style.display =\n",
              "        google.colab.kernel.accessAllowed ? 'block' : 'none';\n",
              "    })();\n",
              "  </script>\n",
              "</div>\n",
              "    </div>\n",
              "  </div>\n"
            ]
          },
          "metadata": {},
          "execution_count": 14
        }
      ],
      "source": [
        "scotus.head(5) # die ersten 5 Einträge anzeigen"
      ]
    },
    {
      "cell_type": "markdown",
      "metadata": {
        "id": "i24CxGLKyd0L"
      },
      "source": [
        "### 3.3 Deskriptive Statistiken\n",
        "\n",
        "Deskriptive Statistiken geben einen Einblick in die Daten. Es werden dabei keine Vorhersagen oder Schlussfolgerungen (Inferenzen) getroffen."
      ]
    },
    {
      "cell_type": "markdown",
      "metadata": {
        "id": "XsOso8kcCmFI"
      },
      "source": [
        "#### 3.3.1 Datensatzgrösse"
      ]
    },
    {
      "cell_type": "code",
      "execution_count": 15,
      "metadata": {
        "id": "eMgRMlVVWZRZ",
        "colab": {
          "base_uri": "https://localhost:8080/"
        },
        "outputId": "244dc4bf-e177-4b38-d9d6-1227a2aa62e4"
      },
      "outputs": [
        {
          "output_type": "stream",
          "name": "stdout",
          "text": [
            "Der bereinigte Datensatz enthält nun 7032 Datenpunkte.\n"
          ]
        }
      ],
      "source": [
        "data_size = scotus.shape[0]\n",
        "\n",
        "print(f'Der bereinigte Datensatz enthält nun {data_size} Datenpunkte.')"
      ]
    },
    {
      "cell_type": "markdown",
      "metadata": {
        "id": "DzySeTbAXFSz"
      },
      "source": [
        "#### 3.3.2 Art des Votums"
      ]
    },
    {
      "cell_type": "code",
      "execution_count": 16,
      "metadata": {
        "id": "YlY1nbulXP_n"
      },
      "outputs": [],
      "source": [
        "count_opinion = scotus['vote'].value_counts(sort=False)\n",
        "count_majority = count_opinion[1] # 1 = Mehrheitsvotum\n",
        "count_dissenting = count_opinion[0] # 0 = Sondervotum"
      ]
    },
    {
      "cell_type": "code",
      "execution_count": 17,
      "metadata": {
        "id": "_H-XciuWcgaj",
        "colab": {
          "base_uri": "https://localhost:8080/",
          "height": 490
        },
        "outputId": "6ed17a20-9056-4bc3-d65c-41d3cc70f375"
      },
      "outputs": [
        {
          "output_type": "stream",
          "name": "stdout",
          "text": [
            "Majority: 5570\n",
            "Dissenting: 1462\n"
          ]
        },
        {
          "output_type": "display_data",
          "data": {
            "text/plain": [
              "<Figure size 640x480 with 1 Axes>"
            ],
            "image/png": "[encoded data removed]"
          },
          "metadata": {}
        }
      ],
      "source": [
        "# Statistiken\n",
        "print(f'Majority: {count_majority}')\n",
        "print(f'Dissenting: {count_dissenting}')\n",
        "\n",
        "# Graphik\n",
        "plt.bar( # Balkendiagramm erstellen\n",
        "  x=['Majority', 'Dissenting'],\n",
        "  height=[count_majority, count_dissenting],\n",
        "  color=['blue', 'orange']\n",
        ")\n",
        "\n",
        "plt.ylabel('Häufigkeit') # y-Achse definieren\n",
        "plt.xlabel('Art des Votums') # x-Achse definieren\n",
        "\n",
        "plt.yticks(np.arange(0, 6100, 500)) # y-Schrittweite definieren\n",
        "\n",
        "plt.show();"
      ]
    },
    {
      "cell_type": "markdown",
      "metadata": {
        "id": "dIys_IBtbJ6g"
      },
      "source": [
        "#### 3.3.3 Fallzahl"
      ]
    },
    {
      "cell_type": "code",
      "execution_count": 18,
      "metadata": {
        "id": "FPlOu8hsbrN8"
      },
      "outputs": [],
      "source": [
        "unique_cases = scotus[['caseId', 'yearDecision']].drop_duplicates() # Jeder einzelner Fall mit dem entsprechenden Entscheidjahr\n",
        "count_cases_per_year = unique_cases.groupby('yearDecision').size().reset_index(name='countCases') # Fallzahl pro Jahr berechnen und neue Dataframe daraus erstellen"
      ]
    },
    {
      "cell_type": "code",
      "execution_count": 19,
      "metadata": {
        "id": "SrT0-srZbOy5",
        "colab": {
          "base_uri": "https://localhost:8080/",
          "height": 963
        },
        "outputId": "7e4ef6fa-df85-4d8a-82c4-d148ad44c35b"
      },
      "outputs": [
        {
          "output_type": "stream",
          "name": "stdout",
          "text": [
            "Fälle pro Jahr (2005-2022)\n",
            "    yearDecision  countCases\n",
            "0           2005           5\n",
            "1           2006          58\n",
            "2           2007          61\n",
            "3           2008          55\n",
            "4           2009          68\n",
            "5           2010          61\n",
            "6           2011          63\n",
            "7           2012          53\n",
            "8           2013          60\n",
            "9           2014          52\n",
            "10          2015          57\n",
            "11          2016          58\n",
            "12          2017          50\n",
            "13          2018          53\n",
            "14          2019          51\n",
            "15          2020          48\n",
            "16          2021          44\n",
            "17          2022          44\n",
            "\n",
            "Durchschnitt: 52.27777777777778 Fälle\n",
            "Median: 54.0 Fälle\n"
          ]
        },
        {
          "output_type": "display_data",
          "data": {
            "text/plain": [
              "<Figure size 1000x600 with 1 Axes>"
            ],
            "image/png": "[encoded data removed]"
          },
          "metadata": {}
        }
      ],
      "source": [
        "# Statistiken auf der Konsole anzeigen\n",
        "print(f'Fälle pro Jahr (2005-2022)\\n{count_cases_per_year}')\n",
        "print(f'')\n",
        "print(f'Durchschnitt: {count_cases_per_year[\"countCases\"].mean()} Fälle')\n",
        "print(f'Median: {count_cases_per_year[\"countCases\"].median()} Fälle')\n",
        "\n",
        "# Graphik\n",
        "plt.figure(figsize=(10,6)) # Grösse des Diagramms definieren\n",
        "\n",
        "plt.bar( # Balkendiagramm erstellen\n",
        "  x=count_cases_per_year['yearDecision'],\n",
        "  height=count_cases_per_year['countCases'],\n",
        "  color='blue'\n",
        ")\n",
        "\n",
        "plt.axhline( # Durchscnitt als Linie anzeigen\n",
        "    y=count_cases_per_year[\"countCases\"].mean(),\n",
        "    color='orange',\n",
        "    linestyle='--',\n",
        "    label='Durchschnitt',\n",
        "    linewidth=2\n",
        ")\n",
        "\n",
        "plt.axhline( # Median als Linie anzeigen\n",
        "    y=count_cases_per_year[\"countCases\"].median(),\n",
        "    color='red',\n",
        "    linestyle='-',\n",
        "    label='Median',\n",
        "    linewidth=2\n",
        ")\n",
        "\n",
        "plt.title('Fälle pro Jahr') # Titel definieren\n",
        "plt.ylabel('Häufigkeit') # y-Achse definieren\n",
        "plt.xlabel('Jahr') # x-Achse definieren\n",
        "\n",
        "plt.xticks(ticks=count_cases_per_year['yearDecision'], labels=count_cases_per_year['yearDecision']) # x-Schrittweite definieren\n",
        "plt.yticks(np.arange(0, 71, 5)) # y-Schrittweite definieren\n",
        "\n",
        "plt.legend(loc=0) # Legende erstellen\n",
        "\n",
        "plt.show();"
      ]
    },
    {
      "cell_type": "markdown",
      "metadata": {
        "id": "z76RBkXNY0Db"
      },
      "source": [
        "#### 3.3.4 Anzahl an Voten"
      ]
    },
    {
      "cell_type": "markdown",
      "metadata": {
        "id": "PfZupn-vCo67"
      },
      "source": [
        "##### 3.3.3.1 Pro Jahr"
      ]
    },
    {
      "cell_type": "code",
      "execution_count": 20,
      "metadata": {
        "id": "SB3pTTSEaSyq"
      },
      "outputs": [],
      "source": [
        "count_votes_per_year = scotus['yearDecision'].value_counts(sort=False)\n",
        "\n",
        "count_majority_per_year = scotus[scotus['vote'] == 1]['yearDecision'].value_counts().sort_index() # Anzahl an Mehrheitsvoten (1 = majority)\n",
        "count_dissent_per_year = scotus[scotus['vote'] == 0]['yearDecision'].value_counts().sort_index() # Anzahl an Sondervoten (0 = dissent)\n",
        "count_year_combined = pd.concat([count_majority_per_year, count_dissent_per_year], axis=1, keys=['majority (= 1)', 'dissent (= 0)']) # Anzahlen in einer Dataframe darstellen\n",
        "\n",
        "years = count_year_combined.index # Jahre"
      ]
    },
    {
      "cell_type": "code",
      "execution_count": 21,
      "metadata": {
        "id": "SvoksbB4eWr_",
        "colab": {
          "base_uri": "https://localhost:8080/",
          "height": 1000
        },
        "outputId": "9c68e52c-5cc9-4ce1-f38e-f2ab30b40a75"
      },
      "outputs": [
        {
          "output_type": "stream",
          "name": "stdout",
          "text": [
            "Voten pro Jahr\n",
            "      majority (= 1)  dissent (= 0)\n",
            "2005              29              4\n",
            "2006             315             68\n",
            "2007             319            111\n",
            "2008             284            100\n",
            "2009             381            107\n",
            "2010             361             99\n",
            "2011             394             90\n",
            "2012             350             83\n",
            "2013             371            101\n",
            "2014             325             75\n",
            "2015             359            106\n",
            "2016             369             61\n",
            "2017             318             49\n",
            "2018             325             89\n",
            "2019             309             98\n",
            "2020             294             79\n",
            "2021             242             60\n",
            "2022             225             82\n",
            "\n",
            "Durchschnitt (alle Voten): 390.6666666666667\n",
            "  Durchschnitt (majority): 309.44444444444446\n",
            "  Durchschnitt (dissent): 81.22222222222223\n",
            "\n",
            "Median (alle Voten): 410.5\n",
            "  Median (majority): 322.0\n",
            "  Median (dissent): 86.0\n"
          ]
        },
        {
          "output_type": "display_data",
          "data": {
            "text/plain": [
              "<Figure size 1000x600 with 1 Axes>"
            ],
            "image/png": "[encoded data removed]"
          },
          "metadata": {}
        }
      ],
      "source": [
        "# Statistiken\n",
        "print(f'Voten pro Jahr\\n{count_year_combined}')\n",
        "print(f'')\n",
        "print(f'Durchschnitt (alle Voten): {count_votes_per_year.mean()}')\n",
        "print(f'  Durchschnitt (majority): {count_majority_per_year.mean()}')\n",
        "print(f'  Durchschnitt (dissent): {count_dissent_per_year.mean()}')\n",
        "print(f'')\n",
        "print(f'Median (alle Voten): {count_votes_per_year.median()}')\n",
        "print(f'  Median (majority): {count_majority_per_year.median()}')\n",
        "print(f'  Median (dissent): {count_dissent_per_year.median()}')\n",
        "\n",
        "# Graphik\n",
        "plt.figure(figsize=(10,6)) # Grösse des Diagramms definieren\n",
        "\n",
        "plt.bar( # Balkendiagramm erstellen\n",
        "    x=years,\n",
        "    height=count_majority_per_year,\n",
        "    color='blue',\n",
        "    label='Majority'\n",
        ")\n",
        "\n",
        "plt.bar( # Diagramm erstellen: dissent\n",
        "  x=years,\n",
        "  bottom=count_majority_per_year,\n",
        "  height=count_dissent_per_year,\n",
        "  color='orange',\n",
        "  label='Dissent'\n",
        ")\n",
        "\n",
        "\n",
        "plt.title('Voten pro Jahr') # Titel definieren\n",
        "plt.ylabel('Häufigkeit') # y-Achse definieren\n",
        "plt.xlabel('Jahr') # x-Achse definieren\n",
        "\n",
        "plt.xticks(ticks=years, labels=years) # x-Schrittweite definieren\n",
        "plt.yticks(np.arange(0, 510, 50)) # y-Schrittweite definieren\n",
        "\n",
        "plt.legend(loc=0) # Legende erstellen\n",
        "\n",
        "plt.show();"
      ]
    },
    {
      "cell_type": "markdown",
      "metadata": {
        "id": "Kjr3rGHbh16F"
      },
      "source": [
        "##### 3.3.3.2 Pro Richter*in"
      ]
    },
    {
      "cell_type": "code",
      "execution_count": 22,
      "metadata": {
        "id": "4BAr2jlfPVYX"
      },
      "outputs": [],
      "source": [
        "count_votes_per_justice = scotus['justiceName'].value_counts(sort=False) # Anzahl an Fällen pro Richter*in berechnen\n",
        "\n",
        "count_majority_per_justice = scotus[scotus['vote'] == 1]['justiceName'].value_counts().sort_index() # Anzahl an Mehrheitsvoten (1 = majority)\n",
        "count_dissent_per_justice = scotus[scotus['vote'] == 0]['justiceName'].value_counts().sort_index() # Anzahl an Sondervoten (0 = dissent)\n",
        "counts_combined = pd.concat([count_majority_per_justice, count_dissent_per_justice], axis=1, keys=['majority (= 1)', 'dissent (= 0)']) # Anzahlen in einer Dataframe darstellen\n",
        "\n",
        "justices = counts_combined.index # Namen der Richter*innen\n",
        "\n",
        "count_majority = np.fromiter(count_majority_per_justice.to_dict().values(), dtype='int32')\n",
        "count_dissent = np.fromiter(count_dissent_per_justice.to_dict().values(), dtype='int32')"
      ]
    },
    {
      "cell_type": "code",
      "execution_count": 23,
      "metadata": {
        "id": "q_Na8I-2jYG_",
        "colab": {
          "base_uri": "https://localhost:8080/",
          "height": 946
        },
        "outputId": "5a581bf4-d71c-40da-f389-e8163dca2334"
      },
      "outputs": [
        {
          "output_type": "stream",
          "name": "stdout",
          "text": [
            "Voten pro Richter*in\n",
            "             majority (= 1)  dissent (= 0)\n",
            "AMKennedy               625             64\n",
            "AScalia                 392            112\n",
            "BMKavanaugh             144             14\n",
            "CThomas                 549            210\n",
            "EKagan                  471            104\n",
            "JGRoberts               788            104\n",
            "JPStevens               162            102\n",
            "NMGorsuch               154             44\n",
            "RBGinsburg              577            193\n",
            "SAAlito                 601            174\n",
            "SGBreyer                646            195\n",
            "SSotomayor              461            146\n",
            "\n",
            "Durchschnitt (alle Voten): 586.0\n",
            "  Durchschnitt (majority): 464.1666666666667\n",
            "  Durchschnitt (dissent): 121.83333333333333\n",
            "\n",
            "Median (alle Voten): 648.0\n",
            "  Median (majority): 510.0\n",
            "  Median (dissent): 108.0\n"
          ]
        },
        {
          "output_type": "display_data",
          "data": {
            "text/plain": [
              "<Figure size 1600x600 with 1 Axes>"
            ],
            "image/png": "[encoded data removed]"
          },
          "metadata": {}
        }
      ],
      "source": [
        "# Statistiken\n",
        "print(f'Voten pro Richter*in\\n{counts_combined}')\n",
        "print(f'')\n",
        "print(f'Durchschnitt (alle Voten): {count_votes_per_justice.mean()}')\n",
        "print(f'  Durchschnitt (majority): {count_majority_per_justice.mean()}')\n",
        "print(f'  Durchschnitt (dissent): {count_dissent_per_justice.mean()}')\n",
        "print(f'')\n",
        "print(f'Median (alle Voten): {count_votes_per_justice.median()}')\n",
        "print(f'  Median (majority): {count_majority_per_justice.median()}')\n",
        "print(f'  Median (dissent): {count_dissent_per_justice.median()}')\n",
        "\n",
        "# Graphik\n",
        "plt.figure(figsize=(16,6)) # Grösse des Diagramms definieren\n",
        "\n",
        "plt.bar( # Diagramm erstellen: majority\n",
        "  x=justices,\n",
        "  height=count_majority,\n",
        "  color='blue',\n",
        "  label='Majority'\n",
        ")\n",
        "\n",
        "plt.bar( # Diagramm erstellen: dissent\n",
        "  x=justices,\n",
        "  bottom=count_majority,\n",
        "  height=count_dissent,\n",
        "  color='orange',\n",
        "  label='Dissent'\n",
        ")\n",
        "\n",
        "plt.title('Voten pro Richter*in')\n",
        "plt.ylabel('Häufigkeit') # y-Achse definieren\n",
        "plt.xlabel('Richter*in') # x-Achse definieren\n",
        "\n",
        "plt.xticks(ticks=np.arange(len(justices)), labels=justices) # x-Schrittweite definieren\n",
        "plt.yticks(np.arange(0, 910, 50)) # y-Schrittweite definieren\n",
        "\n",
        "plt.legend(loc=0) # Legende erstellen\n",
        "\n",
        "plt.show();"
      ]
    },
    {
      "cell_type": "markdown",
      "metadata": {
        "id": "dxu1_zJmWA8M"
      },
      "source": [
        "Wir können diese Verteilung anders darstellen, und zwar im Verhältnis Sondervoten zu Gesamtzahl der Voten."
      ]
    },
    {
      "cell_type": "code",
      "execution_count": 24,
      "metadata": {
        "id": "9jD2ffzlVyld"
      },
      "outputs": [],
      "source": [
        "prop_dissent_per_justice = count_dissent_per_justice / count_votes_per_justice # Verhältnis von Sondervoten zu allen Voten pro Richter*in berechnen"
      ]
    },
    {
      "cell_type": "code",
      "execution_count": 25,
      "metadata": {
        "id": "zyxrfm_wW7rJ",
        "colab": {
          "base_uri": "https://localhost:8080/",
          "height": 807
        },
        "outputId": "947b877e-1072-4b6b-8f14-822d4e339d8d"
      },
      "outputs": [
        {
          "output_type": "stream",
          "name": "stdout",
          "text": [
            "Verhältnis von Sondervoten zu allen Voten pro Richter*in\n",
            "AMKennedy      0.092888\n",
            "AScalia        0.222222\n",
            "BMKavanaugh    0.088608\n",
            "CThomas        0.276680\n",
            "EKagan         0.180870\n",
            "JGRoberts      0.116592\n",
            "JPStevens      0.386364\n",
            "NMGorsuch      0.222222\n",
            "RBGinsburg     0.250649\n",
            "SAAlito        0.224516\n",
            "SGBreyer       0.231867\n",
            "SSotomayor     0.240527\n",
            "Name: justiceName, dtype: float64\n"
          ]
        },
        {
          "output_type": "display_data",
          "data": {
            "text/plain": [
              "<Figure size 1600x600 with 1 Axes>"
            ],
            "image/png": "[encoded data removed]"
          },
          "metadata": {}
        }
      ],
      "source": [
        "# Statistiken\n",
        "print(f'Verhältnis von Sondervoten zu allen Voten pro Richter*in\\n{prop_dissent_per_justice}')\n",
        "\n",
        "# Graphik\n",
        "plt.figure(figsize=(16,6)) # Grösse des Diagramms definieren\n",
        "\n",
        "plt.bar( # Diagramm erstellen: majority\n",
        "  x=justices,\n",
        "  height=prop_dissent_per_justice,\n",
        "  color='orange'\n",
        ")\n",
        "\n",
        "plt.title('Verhältnis von Sondervoten zu allen Voten pro Richter*in')\n",
        "plt.ylabel('Proportion') # y-Achse definieren\n",
        "plt.xlabel('Richter*in') # x-Achse definieren\n",
        "\n",
        "plt.xticks(ticks=np.arange(len(justices)), labels=justices) # x-Schrittweite definieren\n",
        "plt.yticks(np.arange(0, 0.5, 0.05)) # y-Schrittweite definieren\n",
        "\n",
        "plt.show();"
      ]
    },
    {
      "cell_type": "markdown",
      "metadata": {
        "id": "m6bqZZqllCKI"
      },
      "source": [
        "##### 3.3.3.3 Pro Rechtsgebiet"
      ]
    },
    {
      "cell_type": "code",
      "execution_count": 26,
      "metadata": {
        "id": "8WPeUx1pj5x1"
      },
      "outputs": [],
      "source": [
        "count_votes_per_issue = scotus['issueArea'].value_counts(sort=False).rename(index=issue_area_id)\n",
        "\n",
        "issues = issue_area_id.values()\n",
        "count_issues = np.fromiter(count_votes_per_issue.to_dict().values(), dtype='int32')"
      ]
    },
    {
      "cell_type": "code",
      "execution_count": 27,
      "metadata": {
        "id": "yQB-cuG0mXE1",
        "colab": {
          "base_uri": "https://localhost:8080/",
          "height": 772
        },
        "outputId": "4467ab5e-78f1-43ca-c767-a3cee0579d45"
      },
      "outputs": [
        {
          "output_type": "stream",
          "name": "stdout",
          "text": [
            "Voten pro Thema\n",
            "economic activity       1978\n",
            "civil rights            1342\n",
            "judicial power           975\n",
            "criminal procedure      2068\n",
            "privacy                  160\n",
            "first amendment          428\n",
            "interstate relations      81\n",
            "Name: issueArea, dtype: int64\n",
            "\n",
            "Durchschnitt: 1004.5714285714286\n",
            "Median: 975.0\n"
          ]
        },
        {
          "output_type": "display_data",
          "data": {
            "text/plain": [
              "<Figure size 1600x600 with 1 Axes>"
            ],
            "image/png": "[encoded data removed]"
          },
          "metadata": {}
        }
      ],
      "source": [
        "# Statistiken\n",
        "print(f'Voten pro Thema\\n{count_votes_per_issue}')\n",
        "print(f'')\n",
        "print(f'Durchschnitt: {count_votes_per_issue.mean()}')\n",
        "print(f'Median: {count_votes_per_issue.median()}')\n",
        "\n",
        "# Graphik\n",
        "plt.figure(figsize=(16,6)) # Grösse des Diagramms definieren\n",
        "\n",
        "plt.bar( # Diagramm erstellen\n",
        "  x=issues,\n",
        "  height=count_issues,\n",
        "  color='blue'\n",
        ")\n",
        "\n",
        "plt.axhline( # Durchscnitt als Linie anzeigen\n",
        "    y=count_votes_per_issue.mean(),\n",
        "    color='orange',\n",
        "    linestyle='--',\n",
        "    label='Durchschnitt',\n",
        "    linewidth=2\n",
        ")\n",
        "\n",
        "plt.axhline( # Median als Linie anzeigen\n",
        "    y=count_votes_per_issue.median(),\n",
        "    color='red',\n",
        "    linestyle='-',\n",
        "    label='Median',\n",
        "    linewidth=2\n",
        ")\n",
        "\n",
        "plt.title('Voten pro Rechtsgebiet')\n",
        "plt.ylabel('Häufigkeit') # y-Achse definieren\n",
        "plt.xlabel('Rechtsgebiet') # x-Achse definieren\n",
        "\n",
        "plt.xticks(ticks=np.arange(len(issues)), labels=issue_area_id.values()) # x-Schrittweite definieren\n",
        "plt.yticks(np.arange(0, 2100, 500)) # y-Schrittweite definieren\n",
        "\n",
        "plt.legend(loc='upper right') # Legende erstellen\n",
        "\n",
        "plt.show();"
      ]
    },
    {
      "cell_type": "markdown",
      "metadata": {
        "id": "vO04UV6So7-q"
      },
      "source": [
        "## 4. Machine Learning: los geht's!"
      ]
    },
    {
      "cell_type": "markdown",
      "metadata": {
        "id": "_NBQSk6VCuJc"
      },
      "source": [
        "Wir interessieren uns dafür, ob die Voten anhand gewisser Features vorhergesagt werden können. Dazu verwenden wir drei verschiedene Modelle, und zwar: logistische Regression, Naive Bayes und Support Vector Machines.\n",
        "\n",
        "### 4.1 Modelle: Überblick\n",
        "\n",
        "#### 4.1.1 Logistische Regression (Logit)\n",
        "\n",
        "Logistische Regression ist ein weitverbreiteter Algorithmus in ML für die binäre Klassifikation. Der Ansatz basiert auf der Annahme, dass die logarithmierten Odds eines Ereignisses linear von den Eingabevariablen abhängen. Während des Trainings passt der Algorithmus die Regressionskoeffizienten an, um die Wahrscheinlichkeit zu modellieren, dass eine Beobachtung zu einer der beiden Klassen gehört. Dies geschieht durch Anwendung der Logit-Transformation auf eine lineare Kombination der Prädiktoren. Die resultierende Funktion ermöglicht es, Vorhersagen über die Zugehörigkeit zu einer Klasse für neue Datenpunkte zu treffen.\n",
        "\n",
        "Ein wesentlicher Vorteil der logistischen Regression liegt in ihrer interpretierbaren Natur, da die geschätzten Koeffizienten anzeigen, wie stark jede Variable zur Vorhersage beiträgt. Darüber hinaus eignet sich der Algorithmus gut für datenwissenschaftliche Aufgaben, bei denen die Aufteilung der Daten in zwei Klassen im Vordergrund steht.\n",
        "\n",
        "#### 4.1.2 Naive Bayes\n",
        "\n",
        "Naive-Bayes-Klassifikation ist ein probabilistischer Algorithmus, der auf dem Bayes-Theorem basiert. Dieser Ansatz geht davon aus, dass die Merkmale eines Datensatzes unabhängig voneinander sind, was zur Einfachheit des Modells beiträgt (aber oft in der Praxis nicht der Realität entspricht). Während des Trainings berechnet der Algorithmus die Wahrscheinlichkeiten, dass bestimmte Merkmalskombinationen zu einer bestimmten Klasse gehören. Bei der Klassifikation eines neuen Datenpunkts wird dann die Klasse mit der höchsten Wahrscheinlichkeit ausgewählt. Naive Bayes ist besonders effektiv für Textdaten, wie etwa in der Spamfilterung, aber auch in anderen Anwendungen, bei denen die Annahme der Unabhängigkeit der Merkmale angemessen ist.\n",
        "\n",
        "Ein wesentlicher Vorteil dieses Algorithmus liegt in seiner Einfachheit und Effizienz, insbesondere bei großen Datensätzen. Trotz der \"naiven\" Annahme der Unabhängigkeit erzielt Naive Bayes oft gute Ergebnisse und kann als schnelle und robuste Methode für die Klassifikation dienen.\n",
        "\n",
        "#### 4.1.3 Support Vector Machines (SVM)\n",
        "\n",
        "SVM sind Algorithmen für die Klassifikation in ML. Ihr Hauptziel besteht darin, eine optimale Entscheidungsgrenze zwischen verschiedenen Klassen zu finden, indem der Abstand zu den nächstgelegenen Datenpunkten, den sogenannten *Support Vektoren*, maximiert wird. SVM sind besonders effektiv in der Handhabung linear separierbarer Daten, und sie können auch mithilfe von Kernel-Tricks nichtlineare Entscheidungsgrenzen modellieren. Während des Trainings lernt der SVM-Algorithmus, die Daten anhand von Hyperebenen in einem hochdimensionalen Raum zu klassifizieren. Diese Fähigkeit, sowohl mit linearen als auch nichtlinearen Strukturen umzugehen, macht SVM zu einem beliebten Werkzeug für die Klassifikation in verschiedenen Anwendungsbereichen wie Bilderkennung und Textklassifikation."
      ]
    },
    {
      "cell_type": "markdown",
      "metadata": {
        "id": "FGakfoiGCex2"
      },
      "source": [
        "### 4.2 Untersuchung 1: Einfluss von 2 Features\n",
        "\n",
        "Als erstes untersuchen wir den Einfluss von **2** Features auf das Ergebnis (1 = majority, 0 = dissent)."
      ]
    },
    {
      "cell_type": "markdown",
      "metadata": {
        "id": "3LGqb-9jDIsF"
      },
      "source": [
        "#### 4.2.1 Datenvorbereitung- und Aufteilung\n",
        "\n",
        "Führe die untenstehenden Zellen aus, um die Daten vorzubereiten und aufzuteilen."
      ]
    },
    {
      "cell_type": "markdown",
      "metadata": {
        "id": "vI-tfJ9oL6iZ"
      },
      "source": []
    },
    {
      "cell_type": "code",
      "execution_count": 28,
      "metadata": {
        "id": "vhLCX4F41jCP"
      },
      "outputs": [],
      "source": [
        "test_size = 0.15 # Testmengen-Verhältnis definieren (üblicherweise 15-25%)"
      ]
    },
    {
      "cell_type": "code",
      "execution_count": 29,
      "metadata": {
        "id": "rsFu0cgZLuj1"
      },
      "outputs": [],
      "source": [
        "classes = ['0 (dissent)', '1 (majority)'] # Klassen definieren"
      ]
    },
    {
      "cell_type": "code",
      "execution_count": 30,
      "metadata": {
        "id": "j7kOufhWyjik"
      },
      "outputs": [],
      "source": [
        "df_exp1 = scotus[['justice', 'issueArea', 'vote']] # entsprechende Teilmenge des Datensatzes aufgenommen und ihr die Variable 'df_exp1' zuordnen"
      ]
    },
    {
      "cell_type": "code",
      "execution_count": 31,
      "metadata": {
        "id": "JwEvm5F1zHNC"
      },
      "outputs": [],
      "source": [
        "X_exp1 = df_exp1[['justice', 'issueArea']].values # Features: Richter*in, Rechtsgebiet\n",
        "y_exp1 = df_exp1['vote'].values # Ergebnis: Votum (majority = 1, dissent = 0)"
      ]
    },
    {
      "cell_type": "code",
      "execution_count": 32,
      "metadata": {
        "id": "d9UYHHLxzjeC",
        "colab": {
          "base_uri": "https://localhost:8080/"
        },
        "outputId": "46421122-88fe-4afb-95a4-a9ceddbe726c"
      },
      "outputs": [
        {
          "output_type": "stream",
          "name": "stdout",
          "text": [
            "Grösse der Trainings-Menge: 5977\n",
            "Grösse der Test-Menge: 1055\n"
          ]
        }
      ],
      "source": [
        "# Daten aufteilen\n",
        "X_train, X_test, y_train, y_test = train_test_split(X_exp1, y_exp1, test_size=test_size, random_state=42) # der Parameter 'random_state' gewährleistet die Reproduzierbarkeit dieses Experiments\n",
        "\n",
        "print(f'Grösse der Trainings-Menge: {len(X_train)}')\n",
        "print(f'Grösse der Test-Menge: {len(X_test)}')"
      ]
    },
    {
      "cell_type": "code",
      "execution_count": 33,
      "metadata": {
        "id": "rYSX26D7cpSM",
        "colab": {
          "base_uri": "https://localhost:8080/"
        },
        "outputId": "3e2263f1-9b07-4493-f87d-fe78f12cf57f"
      },
      "outputs": [
        {
          "output_type": "execute_result",
          "data": {
            "text/plain": [
              "array([[108,   5],\n",
              "       [114,   2],\n",
              "       [103,   1],\n",
              "       [105,   2],\n",
              "       [106,   8]])"
            ]
          },
          "metadata": {},
          "execution_count": 33
        }
      ],
      "source": [
        "X_train[:5] # Features: justiceID, Rechtsgebiet"
      ]
    },
    {
      "cell_type": "code",
      "execution_count": 34,
      "metadata": {
        "id": "B6rDvbKvcrSl",
        "colab": {
          "base_uri": "https://localhost:8080/"
        },
        "outputId": "59b39144-7ff8-4d3d-b5e2-313bf3707e34"
      },
      "outputs": [
        {
          "output_type": "execute_result",
          "data": {
            "text/plain": [
              "array([1, 1, 1, 1, 0], dtype=int16)"
            ]
          },
          "metadata": {},
          "execution_count": 34
        }
      ],
      "source": [
        "y_train[:5] # Label: vote"
      ]
    },
    {
      "cell_type": "markdown",
      "metadata": {
        "id": "YD00Wu2T3TZS"
      },
      "source": [
        "#### 4.2.2 Logit"
      ]
    },
    {
      "cell_type": "code",
      "execution_count": 35,
      "metadata": {
        "id": "tIA4Pu1l3KVw"
      },
      "outputs": [],
      "source": [
        "# 1. Logit-Modell instanziieren\n",
        "logReg_exp1 = LogisticRegression(class_weight='balanced', random_state=42) # der Parameter 'class_weight' wird üblicherweise beim Klassen-Ungleichgewicht (EN: class imbalance) eingestellt\n",
        "\n",
        "# 2. Modell trainieren\n",
        "logReg_exp1.fit(X_train, y_train) # '.fit' kommt aus dem Englischen \"to fit a model\"\n",
        "\n",
        "# 3. Inferenz (auf neue Daten anwenden)\n",
        "y_preds = logReg_exp1.predict(X_test) # Vorhersagen\n",
        "\n",
        "# 4. Modell evaluieren\n",
        "logReg_exp1_eval = classification_report(y_test, y_preds, target_names=classes, output_dict=True)\n",
        "logReg_exp1_acc = logReg_exp1_eval['accuracy'] # gewichtete Genauigkeit der beiden Klassen, kann auch 'macro avg' nutzen (keine Gewichtung)\n",
        "logReg_exp1_prec = logReg_exp1_eval['weighted avg']['precision']\n",
        "logReg_exp1_recall = logReg_exp1_eval['weighted avg']['recall']\n",
        "logReg_exp1_f1 = logReg_exp1_eval['weighted avg']['f1-score']\n",
        "logReg_exp1_cm = confusion_matrix(y_test, y_preds)\n",
        "tn, fp, fn, tp = logReg_exp1_cm.ravel()"
      ]
    },
    {
      "cell_type": "code",
      "execution_count": 36,
      "metadata": {
        "id": "1-nYZcWVD12E",
        "colab": {
          "base_uri": "https://localhost:8080/"
        },
        "outputId": "144a2ce9-df68-43bc-bab3-e2adcc58e468"
      },
      "outputs": [
        {
          "output_type": "stream",
          "name": "stdout",
          "text": [
            "==================================================================================\n",
            "GENAUIGKEIT, RÜCKRUF, PRÄZISION, F1-MASS (pro Klasse und Durchschnitt der Klassen)\n",
            "\n",
            "              precision    recall  f1-score   support\n",
            "\n",
            " 0 (dissent)       0.22      0.61      0.32       203\n",
            "1 (majority)       0.84      0.49      0.62       852\n",
            "\n",
            "    accuracy                           0.51      1055\n",
            "   macro avg       0.53      0.55      0.47      1055\n",
            "weighted avg       0.72      0.51      0.56      1055\n",
            "\n",
            "==================================================================================\n",
            "VERWIRRUNGSMATRIX\n",
            "\n",
            "[[123  80]\n",
            " [433 419]]\n",
            "\n",
            "Wahr-Positive: 419\n",
            "Falsch-Positive: 80\n",
            "Falsch-Negative: 433\n",
            "Wahr-Negative: 123\n"
          ]
        }
      ],
      "source": [
        "print('=' * 82)\n",
        "print(f'GENAUIGKEIT, RÜCKRUF, PRÄZISION, F1-MASS (pro Klasse und Durchschnitt der Klassen)\\n\\n{classification_report(y_test, y_preds, target_names=classes)}')\n",
        "print('=' * 82)\n",
        "print(f'VERWIRRUNGSMATRIX\\n\\n{logReg_exp1_cm}')\n",
        "print(f'')\n",
        "print(f'Wahr-Positive: {tp}\\nFalsch-Positive: {fp}\\nFalsch-Negative: {fn}\\nWahr-Negative: {tn}')"
      ]
    },
    {
      "cell_type": "markdown",
      "metadata": {
        "id": "3HMUF_B8-pA9"
      },
      "source": [
        "#### 4.2.3 Naive Bayes\n",
        "\n"
      ]
    },
    {
      "cell_type": "code",
      "execution_count": 37,
      "metadata": {
        "id": "3mP9lKFX2VgR"
      },
      "outputs": [],
      "source": [
        "# 1. NB-Modell instanziieren\n",
        "NBC_exp1 = ComplementNB()\n",
        "\n",
        "# 2. Modell trainieren\n",
        "NBC_exp1.fit(X_train, y_train)\n",
        "\n",
        "# 3. Inferenz (auf neue Daten anwenden)\n",
        "y_preds = NBC_exp1.predict(X_test) # Vorhersagen\n",
        "\n",
        "# 4. Modell evaluieren\n",
        "NBC_exp1_eval = classification_report(y_test, y_preds, target_names=classes, output_dict=True)\n",
        "NBC_exp1_acc = NBC_exp1_eval['accuracy']\n",
        "NBC_exp1_prec = NBC_exp1_eval['weighted avg']['precision']\n",
        "NBC_exp1_recall = NBC_exp1_eval['weighted avg']['recall']\n",
        "NBC_exp1_f1 = NBC_exp1_eval['weighted avg']['f1-score']\n",
        "NBC_exp1_cm = confusion_matrix(y_test, y_preds)\n",
        "tn, fp, fn, tp = NBC_exp1_cm.ravel()"
      ]
    },
    {
      "cell_type": "code",
      "execution_count": 38,
      "metadata": {
        "id": "TFlFRR9_9j6U",
        "colab": {
          "base_uri": "https://localhost:8080/"
        },
        "outputId": "7ff99b70-b508-4685-dfb4-c0cd14190f01"
      },
      "outputs": [
        {
          "output_type": "stream",
          "name": "stdout",
          "text": [
            "==================================================================================\n",
            "GENAUIGKEIT, RÜCKRUF, PRÄZISION, F1-MASS (pro Klasse und Durchschnitt der Klassen)\n",
            "\n",
            "              precision    recall  f1-score   support\n",
            "\n",
            " 0 (dissent)       0.23      0.65      0.34       203\n",
            "1 (majority)       0.85      0.48      0.61       852\n",
            "\n",
            "    accuracy                           0.51      1055\n",
            "   macro avg       0.54      0.56      0.47      1055\n",
            "weighted avg       0.73      0.51      0.56      1055\n",
            "\n",
            "==================================================================================\n",
            "VERWIRRUNGSMATRIX\n",
            "\n",
            "[[131  72]\n",
            " [447 405]]\n",
            "\n",
            "Wahr-Positive: 405\n",
            "Falsch-Positive: 72\n",
            "Falsch-Negative: 447\n",
            "Wahr-Negative: 131\n"
          ]
        }
      ],
      "source": [
        "print('=' * 82)\n",
        "print(f'GENAUIGKEIT, RÜCKRUF, PRÄZISION, F1-MASS (pro Klasse und Durchschnitt der Klassen)\\n\\n{classification_report(y_test, y_preds, target_names=classes)}')\n",
        "print('=' * 82)\n",
        "print(f'VERWIRRUNGSMATRIX\\n\\n{NBC_exp1_cm}')\n",
        "print(f'')\n",
        "print(f'Wahr-Positive: {tp}\\nFalsch-Positive: {fp}\\nFalsch-Negative: {fn}\\nWahr-Negative: {tn}')"
      ]
    },
    {
      "cell_type": "markdown",
      "metadata": {
        "id": "lcIpar63D6TM"
      },
      "source": [
        "#### 4.2.4 SVM"
      ]
    },
    {
      "cell_type": "code",
      "execution_count": 39,
      "metadata": {
        "id": "qbZCZnyyD9k-"
      },
      "outputs": [],
      "source": [
        "# 1. SVM-Modell instanziieren\n",
        "SVM_exp1 = SVC(kernel='linear', class_weight='balanced', random_state=42)\n",
        "\n",
        "# 2. Modell trainieren\n",
        "SVM_exp1.fit(X_train, y_train)\n",
        "\n",
        "# 3. Inferenz (auf neue Daten anwenden)\n",
        "y_preds = SVM_exp1.predict(X_test) # Vorhersagen\n",
        "\n",
        "# 4. Modell evaluieren\n",
        "SVM_exp1_eval = classification_report(y_test, y_preds, target_names=classes, output_dict=True)\n",
        "SVM_exp1_acc = SVM_exp1_eval['accuracy']\n",
        "SVM_exp1_prec = SVM_exp1_eval['weighted avg']['precision']\n",
        "SVM_exp1_recall = SVM_exp1_eval['weighted avg']['recall']\n",
        "SVM_exp1_f1 = SVM_exp1_eval['weighted avg']['f1-score']\n",
        "SVM_exp1_cm = confusion_matrix(y_test, y_preds)\n",
        "tn, fp, fn, tp = SVM_exp1_cm.ravel()"
      ]
    },
    {
      "cell_type": "code",
      "execution_count": 40,
      "metadata": {
        "id": "SIcJWUHuEQ8B",
        "colab": {
          "base_uri": "https://localhost:8080/"
        },
        "outputId": "ce27d8c7-a260-4895-a2eb-2c0eb723f941"
      },
      "outputs": [
        {
          "output_type": "stream",
          "name": "stdout",
          "text": [
            "==================================================================================\n",
            "GENAUIGKEIT, RÜCKRUF, PRÄZISION, F1-MASS (pro Klasse und Durchschnitt der Klassen)\n",
            "\n",
            "              precision    recall  f1-score   support\n",
            "\n",
            " 0 (dissent)       0.23      0.67      0.34       203\n",
            "1 (majority)       0.85      0.46      0.60       852\n",
            "\n",
            "    accuracy                           0.50      1055\n",
            "   macro avg       0.54      0.56      0.47      1055\n",
            "weighted avg       0.73      0.50      0.55      1055\n",
            "\n",
            "==================================================================================\n",
            "VERWIRRUNGSMATRIX\n",
            "\n",
            "[[135  68]\n",
            " [457 395]]\n",
            "\n",
            "Wahr-Positive: 395\n",
            "Falsch-Positive: 68\n",
            "Falsch-Negative: 457\n",
            "Wahr-Negative: 135\n"
          ]
        }
      ],
      "source": [
        "print('=' * 82)\n",
        "print(f'GENAUIGKEIT, RÜCKRUF, PRÄZISION, F1-MASS (pro Klasse und Durchschnitt der Klassen)\\n\\n{classification_report(y_test, y_preds, target_names=classes)}')\n",
        "print('=' * 82)\n",
        "print(f'VERWIRRUNGSMATRIX\\n\\n{SVM_exp1_cm}')\n",
        "print(f'')\n",
        "print(f'Wahr-Positive: {tp}\\nFalsch-Positive: {fp}\\nFalsch-Negative: {fn}\\nWahr-Negative: {tn}')"
      ]
    },
    {
      "cell_type": "markdown",
      "metadata": {
        "id": "G9AG91QlETJB"
      },
      "source": [
        "### 4.3 Untersuchung 2: Einfluss von 6 Features\n",
        "\n",
        "Die Verwendung mehrerer Features in einem Klassifikationsproblem bietet in der Regel mehrere Vorteile. Erstens ermöglichen zusätzliche Features ein genaueres Modell, indem sie eine umfassendere Repräsentation der Daten liefern. Durch die Berücksichtigung verschiedener Aspekte können komplexe Zusammenhänge und Muster besser erfasst werden. Zweitens können mehrere Features Schwächen einzelner Features kompensieren, was zu robusten und zuverlässigen Modellen führt. Darüber hinaus ermöglichen mehrere Merkmale die Anpassung an unterschiedliche Aspekte der Daten und verbessern die Generalisierungsfähigkeiten des Modells, wenn es auf neue, nicht gesehene Daten angewendet wird. Insgesamt ermöglicht die Nutzung mehrerer Features eine umfassendere und präzisere Erfassung der zugrunde liegenden Strukturen in den Daten, was zu verbesserten Leistungen in Klassifikationsaufgaben führen kann."
      ]
    },
    {
      "cell_type": "markdown",
      "metadata": {
        "id": "tMLTHg6uE1Se"
      },
      "source": [
        "#### 4.3.1 Datenvorbereitung- und Aufteilung\n",
        "\n",
        "Führe die untenstehenden Zellen aus, um die Daten vorzubereiten und aufzuteilen."
      ]
    },
    {
      "cell_type": "code",
      "execution_count": 41,
      "metadata": {
        "id": "ZY9EmC7mE57E"
      },
      "outputs": [],
      "source": [
        "df_exp2 = scotus[['justice', 'yearDecision', 'issueArea', 'decisionDirection', 'precedentAlteration', 'opinion', 'vote']] # entsprechende Teilmenge des Datensatzes aufnehmen und ihr die Variable 'df_exp2' zuordnen"
      ]
    },
    {
      "cell_type": "code",
      "execution_count": 42,
      "metadata": {
        "id": "jpIkeHoWFVxf"
      },
      "outputs": [],
      "source": [
        "X_exp2 = df_exp2[['justice', 'yearDecision', 'issueArea', 'decisionDirection', 'precedentAlteration', 'opinion']].values # Features: Richter*in, Entscheidjahr, Rechtsgebiet, Tendenz des Votums, Veränderung eines Präzedenzfalls, Verfasser*in des Votums\n",
        "y_exp2 = df_exp2['vote'].values"
      ]
    },
    {
      "cell_type": "code",
      "execution_count": 43,
      "metadata": {
        "id": "UoWwPEgHFdpk"
      },
      "outputs": [],
      "source": [
        "# Daten aufteilen\n",
        "X_train, X_test, y_train, y_test = train_test_split(X_exp2, y_exp2, test_size=test_size, random_state=42)"
      ]
    },
    {
      "cell_type": "code",
      "execution_count": 44,
      "metadata": {
        "id": "uNGKI3LPsDQ4",
        "colab": {
          "base_uri": "https://localhost:8080/"
        },
        "outputId": "1200d936-32ad-4e7a-8ccd-d59aca27e09c"
      },
      "outputs": [
        {
          "output_type": "execute_result",
          "data": {
            "text/plain": [
              "array([[ 108, 2012,    5,    1,    0,    1],\n",
              "       [ 114, 2016,    2,    2,    0,    1],\n",
              "       [ 103, 2008,    1,    2,    0,    1],\n",
              "       [ 105, 2011,    2,    2,    0,    2],\n",
              "       [ 106, 2007,    8,    2,    0,    1]])"
            ]
          },
          "metadata": {},
          "execution_count": 44
        }
      ],
      "source": [
        "X_train[:5] # Features: Richter*in, Entscheidjahr, Rechtsgebiet, Tendenz, Veränderung eines Präzedenzfalls, Verfasser*in des Votums"
      ]
    },
    {
      "cell_type": "code",
      "execution_count": 45,
      "metadata": {
        "id": "cxxDA2jNsayW",
        "colab": {
          "base_uri": "https://localhost:8080/"
        },
        "outputId": "50e2264d-f569-4e54-9182-bf7cf8c27e10"
      },
      "outputs": [
        {
          "output_type": "execute_result",
          "data": {
            "text/plain": [
              "array([1, 1, 1, 1, 0], dtype=int16)"
            ]
          },
          "metadata": {},
          "execution_count": 45
        }
      ],
      "source": [
        "y_train[:5] # Label: Votum"
      ]
    },
    {
      "cell_type": "markdown",
      "metadata": {
        "id": "uFJZEwcmFtPa"
      },
      "source": [
        "#### 4.3.2 Logit"
      ]
    },
    {
      "cell_type": "code",
      "execution_count": 46,
      "metadata": {
        "id": "NY7ULdcpFxre"
      },
      "outputs": [],
      "source": [
        "# 1. Logit-Modell instanziieren\n",
        "logReg_exp2 = LogisticRegression(class_weight='balanced', random_state=42) # der Parameter 'class_weight' wird üblicherweise beim Klassen-Ungleichgewicht (EN: class imbalance) eingestellt\n",
        "\n",
        "# 2. Modell trainieren\n",
        "logReg_exp2.fit(X_train, y_train) # '.fit' kommt aus dem Englischen \"to fit a model\"\n",
        "\n",
        "# 3. Inferenz (auf neue Daten anwenden)\n",
        "y_preds = logReg_exp2.predict(X_test) # Vorhersagen\n",
        "\n",
        "# 4. Modell evaluieren\n",
        "logReg_exp2_eval = classification_report(y_test, y_preds, target_names=classes, output_dict=True)\n",
        "logReg_exp2_acc = logReg_exp2_eval['accuracy']\n",
        "logReg_exp2_prec = logReg_exp2_eval['weighted avg']['precision'] # gewichtete Genauigkeit der beiden Klassen, kann auch 'macro avg' nutzen (keine Gewichtung)\n",
        "logReg_exp2_recall = logReg_exp2_eval['weighted avg']['recall']\n",
        "logReg_exp2_f1 = logReg_exp2_eval['weighted avg']['f1-score']\n",
        "logReg_exp2_cm = confusion_matrix(y_test, y_preds)\n",
        "tn, fp, fn, tp = logReg_exp2_cm.ravel()"
      ]
    },
    {
      "cell_type": "code",
      "execution_count": 47,
      "metadata": {
        "id": "fhoxiXUGFzkM",
        "colab": {
          "base_uri": "https://localhost:8080/"
        },
        "outputId": "95ad1ef0-3e32-472b-8f4f-6a59abfd4407"
      },
      "outputs": [
        {
          "output_type": "stream",
          "name": "stdout",
          "text": [
            "==================================================================================\n",
            "GENAUIGKEIT, RÜCKRUF, PRÄZISION, F1-MASS (pro Klasse und Durchschnitt der Klassen)\n",
            "\n",
            "              precision    recall  f1-score   support\n",
            "\n",
            " 0 (dissent)       0.40      0.45      0.42       203\n",
            "1 (majority)       0.87      0.84      0.85       852\n",
            "\n",
            "    accuracy                           0.76      1055\n",
            "   macro avg       0.63      0.64      0.64      1055\n",
            "weighted avg       0.77      0.76      0.77      1055\n",
            "\n",
            "==================================================================================\n",
            "VERWIRRUNGSMATRIX\n",
            "\n",
            "[[ 92 111]\n",
            " [140 712]]\n",
            "\n",
            "Wahr-Positive: 712\n",
            "Falsch-Positive: 111\n",
            "Falsch-Negative: 140\n",
            "Wahr-Negative: 92\n"
          ]
        }
      ],
      "source": [
        "print('=' * 82)\n",
        "print(f'GENAUIGKEIT, RÜCKRUF, PRÄZISION, F1-MASS (pro Klasse und Durchschnitt der Klassen)\\n\\n{classification_report(y_test, y_preds, target_names=classes)}')\n",
        "print('=' * 82)\n",
        "print(f'VERWIRRUNGSMATRIX\\n\\n{logReg_exp2_cm}')\n",
        "print(f'')\n",
        "print(f'Wahr-Positive: {tp}\\nFalsch-Positive: {fp}\\nFalsch-Negative: {fn}\\nWahr-Negative: {tn}')"
      ]
    },
    {
      "cell_type": "markdown",
      "metadata": {
        "id": "-KHOenadGhS4"
      },
      "source": [
        "#### 4.3.3 Naive Bayes"
      ]
    },
    {
      "cell_type": "code",
      "execution_count": 48,
      "metadata": {
        "id": "4T8M4yWfGk0w"
      },
      "outputs": [],
      "source": [
        "# 1. Logit-Modell instanziieren\n",
        "NBC_exp2 = ComplementNB()\n",
        "\n",
        "# 2. Modell trainieren\n",
        "NBC_exp2.fit(X_train, y_train) # '.fit' kommt aus dem Englischen \"to fit a model\"\n",
        "\n",
        "# 3. Inferenz (auf neue Daten anwenden)\n",
        "y_preds = NBC_exp2.predict(X_test) # Vorhersagen\n",
        "\n",
        "# 4. Modell evaluieren\n",
        "NBC_exp2_eval = classification_report(y_test, y_preds, target_names=classes, output_dict=True)\n",
        "NBC_exp2_acc = NBC_exp2_eval['accuracy']\n",
        "NBC_exp2_prec = NBC_exp2_eval['weighted avg']['precision'] # gewichtete Genauigkeit der beiden Klassen, kann auch 'macro avg' nutzen (keine Gewichtung)\n",
        "NBC_exp2_recall = NBC_exp2_eval['weighted avg']['recall']\n",
        "NBC_exp2_f1 = NBC_exp2_eval['weighted avg']['f1-score']\n",
        "NBC_exp2_cm = confusion_matrix(y_test, y_preds)\n",
        "tn, fp, fn, tp = NBC_exp2_cm.ravel()"
      ]
    },
    {
      "cell_type": "code",
      "execution_count": 49,
      "metadata": {
        "id": "exJ3fXhGGrDY",
        "colab": {
          "base_uri": "https://localhost:8080/"
        },
        "outputId": "05ad7291-4536-4223-bdc8-ff7800cfbc4d"
      },
      "outputs": [
        {
          "output_type": "stream",
          "name": "stdout",
          "text": [
            "==================================================================================\n",
            "GENAUIGKEIT, RÜCKRUF, PRÄZISION, F1-MASS (pro Klasse und Durchschnitt der Klassen)\n",
            "\n",
            "              precision    recall  f1-score   support\n",
            "\n",
            " 0 (dissent)       0.23      0.67      0.34       203\n",
            "1 (majority)       0.85      0.47      0.60       852\n",
            "\n",
            "    accuracy                           0.51      1055\n",
            "   macro avg       0.54      0.57      0.47      1055\n",
            "weighted avg       0.73      0.51      0.55      1055\n",
            "\n",
            "==================================================================================\n",
            "VERWIRRUNGSMATRIX\n",
            "\n",
            "[[135  68]\n",
            " [454 398]]\n",
            "\n",
            "Wahr-Positive: 398\n",
            "Falsch-Positive: 68\n",
            "Falsch-Negative: 454\n",
            "Wahr-Negative: 135\n"
          ]
        }
      ],
      "source": [
        "print('=' * 82)\n",
        "print(f'GENAUIGKEIT, RÜCKRUF, PRÄZISION, F1-MASS (pro Klasse und Durchschnitt der Klassen)\\n\\n{classification_report(y_test, y_preds, target_names=classes)}')\n",
        "print('=' * 82)\n",
        "print(f'VERWIRRUNGSMATRIX\\n\\n{NBC_exp2_cm}')\n",
        "print(f'')\n",
        "print(f'Wahr-Positive: {tp}\\nFalsch-Positive: {fp}\\nFalsch-Negative: {fn}\\nWahr-Negative: {tn}')"
      ]
    },
    {
      "cell_type": "markdown",
      "metadata": {
        "id": "IrR_v394GrhU"
      },
      "source": [
        "#### 4.3.4 SVM"
      ]
    },
    {
      "cell_type": "code",
      "execution_count": 50,
      "metadata": {
        "id": "3CI3htOBH2ow"
      },
      "outputs": [],
      "source": [
        "# 1. SVM-Modell instanziieren\n",
        "SVM_exp2 = SVC(kernel='linear', class_weight='balanced', random_state=42)\n",
        "\n",
        "# 2. Modell trainieren\n",
        "SVM_exp2.fit(X_train, y_train)\n",
        "\n",
        "# 3. Inferenz (auf neue Daten anwenden)\n",
        "y_preds = SVM_exp2.predict(X_test) # Vorhersagen\n",
        "\n",
        "# 4. Modell evaluieren\n",
        "SVM_exp2_eval = classification_report(y_test, y_preds, target_names=classes, output_dict=True)\n",
        "SVM_exp2_acc = SVM_exp2_eval['accuracy']\n",
        "SVM_exp2_prec = SVM_exp2_eval['weighted avg']['precision'] # gewichtete Genauigkeit der beiden Klassen, kann auch 'macro avg' nutzen (keine Gewichtung)\n",
        "SVM_exp2_recall = SVM_exp2_eval['weighted avg']['recall']\n",
        "SVM_exp2_f1 = SVM_exp2_eval['weighted avg']['f1-score']\n",
        "SVM_exp2_cm = confusion_matrix(y_test, y_preds)\n",
        "tn, fp, fn, tp = SVM_exp2_cm.ravel()"
      ]
    },
    {
      "cell_type": "code",
      "execution_count": 51,
      "metadata": {
        "id": "sPVAOplfH-TL",
        "colab": {
          "base_uri": "https://localhost:8080/"
        },
        "outputId": "89bc07e0-5340-4302-dad0-c8af4dbe4849"
      },
      "outputs": [
        {
          "output_type": "stream",
          "name": "stdout",
          "text": [
            "==================================================================================\n",
            "GENAUIGKEIT, RÜCKRUF, PRÄZISION, F1-MASS (pro Klasse und Durchschnitt der Klassen)\n",
            "\n",
            "              precision    recall  f1-score   support\n",
            "\n",
            " 0 (dissent)       0.39      0.47      0.43       203\n",
            "1 (majority)       0.87      0.83      0.85       852\n",
            "\n",
            "    accuracy                           0.76      1055\n",
            "   macro avg       0.63      0.65      0.64      1055\n",
            "weighted avg       0.78      0.76      0.77      1055\n",
            "\n",
            "==================================================================================\n",
            "VERWIRRUNGSMATRIX\n",
            "\n",
            "[[ 95 108]\n",
            " [147 705]]\n",
            "\n",
            "Wahr-Positive: 705\n",
            "Falsch-Positive: 108\n",
            "Falsch-Negative: 147\n",
            "Wahr-Negative: 95\n"
          ]
        }
      ],
      "source": [
        "print('=' * 82)\n",
        "print(f'GENAUIGKEIT, RÜCKRUF, PRÄZISION, F1-MASS (pro Klasse und Durchschnitt der Klassen)\\n\\n{classification_report(y_test, y_preds, target_names=classes)}')\n",
        "print('=' * 82)\n",
        "print(f'VERWIRRUNGSMATRIX\\n\\n{SVM_exp2_cm}')\n",
        "print(f'')\n",
        "print(f'Wahr-Positive: {tp}\\nFalsch-Positive: {fp}\\nFalsch-Negative: {fn}\\nWahr-Negative: {tn}')"
      ]
    },
    {
      "cell_type": "markdown",
      "metadata": {
        "id": "bd0MV-2QGWD9"
      },
      "source": [
        "### 4.4 Vergleichende Evaluation"
      ]
    },
    {
      "cell_type": "code",
      "execution_count": 52,
      "metadata": {
        "id": "eDxubT58P_Qe"
      },
      "outputs": [],
      "source": [
        "# Evaluation des 1. Experiments in einer Dictionary definieren\n",
        "eval_exp1 = {\n",
        "    'log reg': [logReg_exp1_acc, logReg_exp1_prec, logReg_exp1_recall, logReg_exp1_f1],\n",
        "    'nb': [NBC_exp1_acc, NBC_exp1_prec, NBC_exp1_recall, NBC_exp1_f1],\n",
        "    'svm': [SVM_exp1_acc, SVM_exp1_prec, SVM_exp1_recall, SVM_exp1_f1]\n",
        "}\n",
        "\n",
        "# Evaluation des 2. Experiments in einer Dictionary definieren\n",
        "eval_exp2 = {\n",
        "    'log reg': [logReg_exp2_acc, logReg_exp2_prec, logReg_exp2_recall, logReg_exp2_f1],\n",
        "    'nb': [NBC_exp2_acc, NBC_exp2_prec, NBC_exp2_recall, NBC_exp2_f1],\n",
        "    'svm': [SVM_exp2_acc, SVM_exp2_prec, SVM_exp2_recall, SVM_exp2_f1]\n",
        "}\n",
        "\n",
        "# Evaluationen tabellarisch darstellen\n",
        "t = PrettyTable()\n",
        "columns = ['model', 'num features', 'accuracy', 'precision', 'recall', 'f1']\n",
        "t.field_names = columns\n",
        "t.add_row(['log reg', 2] + eval_exp1['log reg'])\n",
        "t.add_row(['log reg', 6] + eval_exp2['log reg'], divider=True)\n",
        "t.add_row(['nb', 2] + eval_exp1['nb'])\n",
        "t.add_row(['nb', 6] + eval_exp2['nb'], divider=True)\n",
        "t.add_row(['svm', 2] + eval_exp1['svm'])\n",
        "t.add_row(['svm', 6] + eval_exp2['svm'])"
      ]
    },
    {
      "cell_type": "code",
      "execution_count": 53,
      "metadata": {
        "id": "NtsxJ8GKpCVo",
        "colab": {
          "base_uri": "https://localhost:8080/"
        },
        "outputId": "17f021c2-bfb9-42f2-bbfd-ea64499fa9f5"
      },
      "outputs": [
        {
          "output_type": "stream",
          "name": "stdout",
          "text": [
            "+---------+--------------+--------------------+--------------------+--------------------+--------------------+\n",
            "|  model  | num features |      accuracy      |     precision      |       recall       |         f1         |\n",
            "+---------+--------------+--------------------+--------------------+--------------------+--------------------+\n",
            "| log reg |      2       | 0.5137440758293839 | 0.7206778075910422 | 0.5137440758293839 | 0.5632929963135413 |\n",
            "| log reg |      6       | 0.762085308056872  | 0.7749655923018893 | 0.762085308056872  | 0.7679562377685034 |\n",
            "+---------+--------------+--------------------+--------------------+--------------------+--------------------+\n",
            "|    nb   |      2       | 0.5080568720379147 | 0.7292937222124412 | 0.5080568720379147 | 0.5567559472314978 |\n",
            "|    nb   |      6       | 0.5052132701421801 | 0.7338406003078979 | 0.5052132701421801 | 0.5533327035139346 |\n",
            "+---------+--------------+--------------------+--------------------+--------------------+--------------------+\n",
            "|   svm   |      2       | 0.5023696682464455 | 0.7328535358006507 | 0.5023696682464455 | 0.5505130852811964 |\n",
            "|   svm   |      6       | 0.7582938388625592 | 0.7758381714090142 | 0.7582938388625592 | 0.7660546642814068 |\n",
            "+---------+--------------+--------------------+--------------------+--------------------+--------------------+\n"
          ]
        }
      ],
      "source": [
        "print(t)"
      ]
    },
    {
      "cell_type": "code",
      "execution_count": 54,
      "metadata": {
        "id": "yBxOgAPZw-HN",
        "colab": {
          "base_uri": "https://localhost:8080/",
          "height": 508
        },
        "outputId": "7ca373a0-c306-4f91-ab25-5e82306fceb4"
      },
      "outputs": [
        {
          "output_type": "display_data",
          "data": {
            "text/plain": [
              "<Figure size 640x480 with 1 Axes>"
            ],
            "image/png": "[encoded data removed]"
          },
          "metadata": {}
        }
      ],
      "source": [
        "x = np.arange(len(columns)) # x-Achse der Graphiken definieren\n",
        "\n",
        "width = 0.25\n",
        "multiplier = 0\n",
        "colors = ['purple', 'magenta', 'pink']\n",
        "\n",
        "fig1, ax1 = plt.subplots(layout='constrained')\n",
        "\n",
        "for model, metric_vals in eval_exp1.items():\n",
        "    offset = width * multiplier\n",
        "    rects = ax1.bar(x[2:] + offset, metric_vals, width, label=model, color=colors[multiplier])\n",
        "    multiplier += 1\n",
        "\n",
        "ax1.set_title('Experiment 1')\n",
        "ax1.set_xlabel('Metrik')\n",
        "ax1.set_xticks(x[2:] + width, columns[2:])\n",
        "ax1.legend(loc='upper left', ncols=3)\n",
        "ax1.set_ylim(0, 0.81, 0.1)\n",
        "\n",
        "plt.show();"
      ]
    },
    {
      "cell_type": "code",
      "execution_count": 55,
      "metadata": {
        "id": "3HiCmJHKUTb9",
        "colab": {
          "base_uri": "https://localhost:8080/",
          "height": 508
        },
        "outputId": "7c0311b5-6da1-41be-8968-4245ce2a2479"
      },
      "outputs": [
        {
          "output_type": "display_data",
          "data": {
            "text/plain": [
              "<Figure size 640x480 with 1 Axes>"
            ],
            "image/png": "[encoded data removed]"
          },
          "metadata": {}
        }
      ],
      "source": [
        "width = 0.25\n",
        "multiplier = 0\n",
        "\n",
        "fig2, ax2 = plt.subplots(layout='constrained')\n",
        "\n",
        "for model, metric_vals in eval_exp2.items():\n",
        "    offset = width * multiplier\n",
        "    rects = ax2.bar(x[2:] + offset, metric_vals, width, label=model, color=colors[multiplier])\n",
        "    multiplier += 1\n",
        "\n",
        "# Add some text for labels, title and custom x-axis tick labels, etc.\n",
        "ax2.set_title('Experiment 2')\n",
        "ax2.set_xlabel('Metrik')\n",
        "ax2.set_xticks(x[2:] + width, columns[2:])\n",
        "ax2.legend(loc='upper left', ncols=3)\n",
        "ax2.set_ylim(0, 0.91, 0.1)\n",
        "\n",
        "plt.show();"
      ]
    }
  ],
  "metadata": {
    "colab": {
      "provenance": []
    },
    "kernelspec": {
      "display_name": "Python 3 (ipykernel)",
      "language": "python",
      "name": "python3"
    },
    "language_info": {
      "codemirror_mode": {
        "name": "ipython",
        "version": 3
      },
      "file_extension": ".py",
      "mimetype": "text/x-python",
      "name": "python",
      "nbconvert_exporter": "python",
      "pygments_lexer": "ipython3",
      "version": "3.11.6"
    }
  },
  "nbformat": 4,
  "nbformat_minor": 0
}